{
  "nbformat": 4,
  "nbformat_minor": 0,
  "metadata": {
    "colab": {
      "provenance": [],
      "include_colab_link": true
    },
    "kernelspec": {
      "name": "python3",
      "display_name": "Python 3"
    },
    "language_info": {
      "name": "python"
    }
  },
  "cells": [
    {
      "cell_type": "markdown",
      "metadata": {
        "id": "view-in-github",
        "colab_type": "text"
      },
      "source": [
        "<a href=\"https://colab.research.google.com/github/kruvcraft21/Learning-nlp-models/blob/master/Practice_nlp1_Regex.ipynb\" target=\"_parent\"><img src=\"https://colab.research.google.com/assets/colab-badge.svg\" alt=\"Open In Colab\"/></a>"
      ]
    },
    {
      "cell_type": "markdown",
      "source": [
        "<h1> Материалы курса \"Обработка естественного языка\" </h1>\n",
        "\n",
        "<h2> Практическое занятие № 1.1 </h2>\n",
        "\n",
        "<h2> Тема: \"Регулярные выражения\" </h2>"
      ],
      "metadata": {
        "id": "iGaDmfYZ2MmO"
      }
    },
    {
      "cell_type": "markdown",
      "source": [
        "## Оглавление <a name='toc'></a>\n",
        "<ol>\n",
        "<li><a href='#theory'> Теоретическая часть</a></li>\n",
        "<li><a href='#example'> Примеры регулярных выражений</a></li>\n",
        "<li><a href='#tasks'> Задания для самостоятельного выполнения</a></li>\n",
        "</ol>"
      ],
      "metadata": {
        "id": "VukAwhnT2Ozd"
      }
    },
    {
      "cell_type": "markdown",
      "source": [
        "### 1. Теоретическая часть <a name='theory'></a>"
      ],
      "metadata": {
        "id": "aL_arS7A23-R"
      }
    },
    {
      "cell_type": "markdown",
      "source": [
        "**Регулярные выражения (regex)** — это шаблоны, используемые для поиска и манипулирования текстовыми данными. Они представляют собой последовательность символов, которая определяет поиск по шаблону в строке текста. Регулярные выражения можно использовать для поиска, замены, проверки и извлечения данных из текста."
      ],
      "metadata": {
        "id": "Qa4Q4-DL3CZM"
      }
    },
    {
      "cell_type": "markdown",
      "source": [
        "![xtafnjpq-xw3lu0aisu68q22elg[1].png](data:image/png;base64,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)"
      ],
      "metadata": {
        "id": "d67iXiuF3kwU"
      }
    },
    {
      "cell_type": "markdown",
      "source": [
        "**Документация и ссылки:**\n",
        "- Оригинальная документация: https://docs.python.org/3/library/re.html;\n",
        "- Очень подробный и обстоятельный материал: https://www.regular-expressions.info/;\n",
        "- Разные сложные трюки и тонкости с примерами: http://www.rexegg.com/;\n",
        "- Он-лайн отладка регулярок https://regex101.com (не забудьте поставить галочку Python в разделе FLAVOR слева);\n",
        "- Он-лайн визуализация регулярок https://www.debuggex.com/ (не забудьте выбрать Python)"
      ],
      "metadata": {
        "id": "0qOIJBCj4Fwe"
      }
    },
    {
      "cell_type": "markdown",
      "source": [
        "## Шаблоны, соответствующие одному символу\n"
      ],
      "metadata": {
        "id": "o_mIwJSR-STc"
      }
    },
    {
      "cell_type": "markdown",
      "source": [
        "<table ><tr><th >Шаблон <th><th> Описание <th><th> Пример <th><th> Применяем к тексту  <tr><tr>\n",
        "<tr><td> . <td><td> Один любой символ, кроме новой строки \\n <td><td> м.л.ко <td><td> молоко, малако,\n",
        "Им0л0коИхлеб <td><tr>\n",
        "<tr><td> \\d <td><td> Любая цифра <td><td> СУ\\d\\d <td><td> СУ35, СУ111, АЛСУ14 <td><tr>\n",
        "<tr><td> \\D <td><td> Любой символ, кроме цифры <td><td> 926\\D123 <td><td> 926)123, 1926-1234 <td><tr>\n",
        "<tr><td> \\s <td><td> Любой пробельный символ (пробел, табуляция, конец строки и т.п.) <td><td> бор\\sода <td><td> бор ода, бор\n",
        "ода, <s>борода</s> <td><tr>\n",
        "<tr><td> \\S <td><td> \tЛюбой непробельный символ <td><td> \\S123 <td><td> X123, я123, !123456, <s>1 + 123456</s> <td><tr>\n",
        "<tr><td> \\w <td><td> \tЛюбая буква (то, что может быть частью слова), а также цифры и _ <td><td> \\w\\w\\w <td><td> Год, f_3, qwert <td><tr>\n",
        "<tr><td> \\W <td><td> \tЛюбая не-буква, не-цифра и не подчёркивание <td><td> сом\\W <td><td> \tсом!, сом? <td><tr>\n",
        "<tr><td> [..] <td><td> \tОдин из символов в скобках,\n",
        "а также любой символ из диапазона a-b <td><td> [0-9][0-9A-Fa-f] <td><td> 12, 1F, 4B <td><tr>\n",
        "<tr><td> [^..] <td><td> \tЛюбой символ, кроме перечисленных <td><td> <[^>]> <td><td> <1>, < a> <td><tr>\n",
        "<tr><td> [abc-], [-1] <td><td> \tесли нужен минус, его нужно указать последним или первым <td><td>  <td><td>  <td><tr>\n",
        "<tr><td> [*[(+\\\\\\]\\t] <td><td> \tвнутри скобок нужно экранировать только ] и \\ <td><td>  <td><td>  <td><tr>\n",
        "<tr><td> \\b <td><td> \tНачало или конец слова (слева пусто или не-буква, справа буква и наоборот). <td><td> \\bвал <td><td> вал, <s>перевал</s>, <s>Перевалка</s> <td><tr>\n",
        "<tr><td> \\B <td><td> Не граница слова: либо и слева, и справа буквы,\n",
        "либо и слева, и справа НЕ буквы <td><td> \\Bвал <td><td> \t <s>вал</s>, перевал, Перевалка <td><tr>\n",
        "<tr><td> <td><td> <td><td> \\Bвал\\B <td><td> <s>перевал</s>, <s>вал</s>, Перевалка <td><tr>\n",
        "<table>"
      ],
      "metadata": {
        "id": "vllqqz7x5qpN"
      }
    },
    {
      "cell_type": "markdown",
      "source": [
        "## Квантификаторы (указание количества повторений)\n"
      ],
      "metadata": {
        "id": "r_391u-L-Yhr"
      }
    },
    {
      "cell_type": "markdown",
      "source": [
        "<table ><tr><th >Шаблон <th><th> Описание <th><th> Пример <th><th> Применяем к тексту  <tr><tr>\n",
        "<tr><td> {n} <td><td> Ровно n повторений <td><td> \\d{4} <td><td> <s>1, 12, 123,</s> 1234, <s>12345</s> <td><tr>\n",
        "<tr><td> {m,n} <td><td> От m до n повторений включительно <td><td> \\d{2,4}\t <td><td> <s>1 </s>, 12, 123, 1234, <s>12345</s> <td><tr>\n",
        "<tr><td> {m,} <td><td>Не менее m повторений <td><td> \\d{3,} <td><td> <s>1, 12 </s>, 123, 1234, 12345 <td><tr>\n",
        "<tr><td> {,n} <td><td> Не более n повторений <td><td> \\d{,2} <td><td>  1, 12, 123 <td><tr>\n",
        "<tr><td> ? <td><td> Ноль или одно вхождение, синоним {0,1} <td><td> вал? <td><td> вал, валы, валов <td><tr>\n",
        "<tr><td> * <td><td> Ноль или более, синоним {0,} <td><td> СУ\\d* <td><td>  СУ, СУ1, СУ12, ...<td><tr>\n",
        "<tr><td> + <td><td> Одно или более, синоним {1,} <td><td> \ta\\)+ <td><td>  a), a)), a))), ba)]) <td><tr>\n",
        "<tr><td> *?<br />\n",
        "+?<br />\n",
        "??<br />\n",
        "{m,n}?<br />\n",
        "{,n}?<br />\n",
        "{m,}? <td><td> По умолчанию квантификаторы жадные — <br />\n",
        "захватывают максимально возможное число символов.<br />\n",
        "Добавление ? делает их ленивыми,<br />\n",
        "они захватывают минимально возможное число символов <td><td> \\(.*\\) <br />\n",
        "\\(.*?\\) <td><td> <u>(a + b) * (c + d) * (e + f)</u> <br />\n",
        "<u>(a + b)</u> * (c + d) * (e + f) <td><tr>\n",
        "<table>"
      ],
      "metadata": {
        "id": "ZBjsaYHo_DEh"
      }
    },
    {
      "cell_type": "markdown",
      "source": [
        "## Регулярки в Питоне\n"
      ],
      "metadata": {
        "id": "pyTGv71uDABe"
      }
    },
    {
      "cell_type": "markdown",
      "source": [
        "<table ><tr><th >Функция <th><th> Её смысл <tr><tr>\n",
        "<tr><td> re.search(pattern, string) <td><td> Найти в строке string первую строчку, подходящую под шаблон pattern; <td><tr>\n",
        "<tr><td> re.fullmatch(pattern, string) <td><td> Проверить, подходит ли строка string под шаблон pattern <td><tr>\n",
        "<tr><td> re.split(pattern, string, maxsplit=0) <td><td> Аналог str.split(), только разделение происходит по подстрокам, подходящим под шаблон pattern <td><tr>\n",
        "<tr><td>re.findall(pattern, string)\t <td><td> Найти в строке string все непересекающиеся шаблоны pattern <td><tr>\n",
        "<tr><td> re.finditer(pattern, string)\t<td><td> Итератор по всем непересекающимся шаблонам pattern в строке string (выдаются match-объекты); <td><tr>\n",
        "<tr><td> re.sub(pattern, repl, string, count=0)<td><td> Заменить в строке string все непересекающиеся шаблоны pattern на repl; <td><tr>\n",
        "<table>"
      ],
      "metadata": {
        "id": "sYe6LQR0DEUI"
      }
    },
    {
      "cell_type": "markdown",
      "source": [
        "\n",
        "\n",
        "```\n",
        "import re\n",
        "\n",
        "match = re.search(r'\\d\\d\\D\\d\\d', r'Телефон 123-12-12')\n",
        "print(match[0] if match else 'Not found')\n",
        "# -> 23-12\n",
        "match = re.search(r'\\d\\d\\D\\d\\d', r'Телефон 1231212')\n",
        "print(match[0] if match else 'Not found')\n",
        "# -> Not found\n",
        "\n",
        "match = re.fullmatch(r'\\d\\d\\D\\d\\d', r'12-12')\n",
        "print('YES' if match else 'NO')\n",
        "# -> YES\n",
        "match = re.fullmatch(r'\\d\\d\\D\\d\\d', r'Т. 12-12')\n",
        "print('YES' if match else 'NO')\n",
        "# -> NO\n",
        "\n",
        "print(re.split(r'\\W+', 'Где, скажите мне, мои очки??!'))\n",
        "# -> ['Где', 'скажите', 'мне', 'мои', 'очки', '']\n",
        "\n",
        "print(re.findall(r'\\d\\d\\.\\d\\d\\.\\d{4}',\n",
        "                 r'Эта строка написана 19.01.2018, а могла бы и 01.09.2017'))\n",
        "# -> ['19.01.2018', '01.09.2017']\n",
        "\n",
        "for m in re.finditer(r'\\d\\d\\.\\d\\d\\.\\d{4}', r'Эта строка написана 19.01.2018, а могла бы и 01.09.2017'):\n",
        "    print('Дата', m[0], 'начинается с позиции', m.start())\n",
        "# -> Дата 19.01.2018 начинается с позиции 20\n",
        "# -> Дата 01.09.2017 начинается с позиции 45\n",
        "\n",
        "print(re.sub(r'\\d\\d\\.\\d\\d\\.\\d{4}',\n",
        "             r'DD.MM.YYYY',\n",
        "             r'Эта строка написана 19.01.2018, а могла бы и 01.09.2017'))\n",
        "# -> Эта строка написана DD.MM.YYYY, а могла бы и DD.MM.YYYY ```\n",
        "\n"
      ],
      "metadata": {
        "id": "X_qrAOPKcQS1"
      }
    },
    {
      "cell_type": "markdown",
      "source": [
        "## Использование дополнительных флагов в Питоне\n"
      ],
      "metadata": {
        "id": "DNbFV4-_WRAk"
      }
    },
    {
      "cell_type": "markdown",
      "source": [
        "<table ><tr><th >Константа <th><th> Её смысл <tr><tr>\n",
        "<tr><td> re.ASCII <td><td> По умолчанию \\w, \\W, \\b, \\B, \\d, \\D, \\s, \\S соответствуют\n",
        "все юникодные символы с соответствующим качеством.<br />\n",
        "Например, \\d соответствуют не только арабские цифры,\n",
        "но и вот такие: ٠١٢٣٤٥٦٧٨٩.\n",
        "re.ASCII ускоряет работу,<br />\n",
        "если все соответствия лежат внутри ASCII. <td><tr>\n",
        "<tr><td> re.IGNORECASE <td><td> Не различает заглавные и маленькие буквы.<br />\n",
        "Работает медленнее, но иногда удобно <td><tr>\n",
        "<tr><td> re.MULTILINE <td><td> Специальные символы ^ и $ соответствуют\n",
        "началу и концу каждой строки\t <td><tr>\n",
        "<tr><td> re.DOTALL\t <td><td> По умолчанию символ \\n конца строки не подходит под точку. С этим флагом точка — вообще любой символ\t <td><tr>"
      ],
      "metadata": {
        "id": "AcgXFAyycCZx"
      }
    },
    {
      "cell_type": "markdown",
      "source": [
        "\n",
        "\n",
        "```\n",
        "import re\n",
        "print(re.findall(r'\\d+', '12 + ٦٧'))\n",
        "# -> ['12', '٦٧']\n",
        "print(re.findall(r'\\w+', 'Hello, мир!'))\n",
        "# -> ['Hello', 'мир']\n",
        "print(re.findall(r'\\d+', '12 + ٦٧', flags=re.ASCII))\n",
        "# -> ['12']\n",
        "print(re.findall(r'\\w+', 'Hello, мир!', flags=re.ASCII))\n",
        "# -> ['Hello']\n",
        "print(re.findall(r'[уеыаоэяию]+', 'ОООО ааааа ррррр ЫЫЫЫ яяяя'))\n",
        "# -> ['ааааа', 'яяяя']\n",
        "print(re.findall(r'[уеыаоэяию]+', 'ОООО ааааа ррррр ЫЫЫЫ яяяя', flags=re.IGNORECASE))\n",
        "# -> ['ОООО', 'ааааа', 'ЫЫЫЫ', 'яяяя']\n",
        "\n",
        "text = r\"\"\"\n",
        "Торт\n",
        "с вишней1\n",
        "вишней2\n",
        "\"\"\"\n",
        "print(re.findall(r'Торт.с', text))\n",
        "# -> []\n",
        "print(re.findall(r'Торт.с', text, flags=re.DOTALL))\n",
        "# -> ['Торт\\nс']\n",
        "print(re.findall(r'виш\\w+', text, flags=re.MULTILINE))\n",
        "# -> ['вишней1', 'вишней2']\n",
        "print(re.findall(r'^виш\\w+', text, flags=re.MULTILINE))\n",
        "# -> ['вишней2'] ```\n",
        "\n"
      ],
      "metadata": {
        "id": "45r-ZLUmgNt0"
      }
    },
    {
      "cell_type": "markdown",
      "source": [
        "## Зачем нужны регулярные выражения?"
      ],
      "metadata": {
        "id": "VV8QE4GVL_i9"
      }
    },
    {
      "cell_type": "markdown",
      "source": [],
      "metadata": {
        "id": "rW5-jMs_gfSN"
      }
    },
    {
      "cell_type": "markdown",
      "source": [
        "1. **Поиск и фильтрация данных**\n",
        "\n",
        "Регулярные выражения позволяют легко и эффективно выполнять поиск и фильтрацию текстовых данных. Например, если у вас есть большой текстовый файл, и вы хотите найти все email-адреса в нем, вы можете использовать регулярное выражение для точного поиска паттерна email-адреса. Это существенно упростит задачу поиска и извлечения данных из больших объемов текста.\n",
        "\n",
        "2. **Проверка и валидация данных**\n",
        "\n",
        "Регулярные выражения позволяют проверять и валидировать данные в соответствии с определенными правилами. Например, вы можете использовать регулярное выражение, чтобы убедиться, что введенный пользователем номер телефона имеет правильный формат, или что пароль соответствует требованиям к безопасности. Это помогает предотвратить ошибки ввода данных и обеспечить их целостность.\n",
        "\n",
        "3. **Манипуляции с текстом**\n",
        "\n",
        "С помощью регулярных выражений можно легко выполнять различные операции над текстом. Вы можете заменять определенные подстроки, удалять или перемещать части текста, извлекать нужную информацию и многое другое. Это особенно полезно при обработке текстовых данных в программировании.\n",
        "\n",
        "4. **Эффективность и оптимизация**\n",
        "\n",
        "Использование регулярных выражений позволяет улучшить производительность при обработке текстовых данных. В отличие от поиска и обработки данных вручную, регулярные выражения выполняются быстро и эффективно. Они могут быть оптимизированы для работы с большими объемами данных, что делает их незаменимыми в разработке программ и скриптов."
      ],
      "metadata": {
        "id": "wD-1XCiYMJuE"
      }
    },
    {
      "cell_type": "markdown",
      "source": [
        "## Реальный пример"
      ],
      "metadata": {
        "id": "RD3U9KLzPsad"
      }
    },
    {
      "cell_type": "markdown",
      "source": [
        "Частая проблема возникает с некоторыми парсерами вывода LangChain, когда они обнаруживают ответы, содержащие фрагменты кода. Проблема связана с регулярным выражением, используемым в классе StructuredChatOutputParser, который в настоящее время не является жадным и останавливается при первом появлении тройных обратных символов."
      ],
      "metadata": {
        "id": "4cGw6zhURjkK"
      }
    },
    {
      "cell_type": "markdown",
      "source": [
        "\n",
        "\n",
        "```\n",
        "class ChatOutputParser(AgentOutputParser):\n",
        "    \"\"\"Output parser for the chat agent.\"\"\"\n",
        "\n",
        "    format_instructions: str = FORMAT_INSTRUCTIONS\n",
        "    \"\"\"Default formatting instructions\"\"\"\n",
        "\n",
        "    pattern: Pattern = re.compile(r\"^.*?`{3}(?:json)?\\n(.*?)`{3}.*?$\", re.DOTALL)\n",
        "    \"\"\"Regex pattern to parse the output.\"\"\"\n",
        "```\n",
        "\n",
        "\n"
      ],
      "metadata": {
        "id": "_Ef5oVhzQKkM"
      }
    },
    {
      "cell_type": "markdown",
      "source": [
        "Чтобы решить эту проблему, можно изменить регулярное выражение, сделав его жадным, чтобы оно останавливалось при последнем появлении тройных обратных кавычек.\n",
        "\n",
        "\n",
        "```\n",
        "pattern: Pattern = re.compile(r\"```(?:json\\s+)?(\\W.*?)```\", re.DOTALL)\n",
        "```\n",
        "\n"
      ],
      "metadata": {
        "id": "ooBx5GkDSRZK"
      }
    },
    {
      "cell_type": "markdown",
      "source": [
        "### 2. Примеры регулярных выражений <a name='example'></a>"
      ],
      "metadata": {
        "id": "bBVTX-TUSWdg"
      }
    },
    {
      "cell_type": "code",
      "source": [
        "import re"
      ],
      "metadata": {
        "id": "7xfE8xwEU0uI"
      },
      "execution_count": null,
      "outputs": []
    },
    {
      "cell_type": "markdown",
      "source": [
        "Можно посмотреть документацию"
      ],
      "metadata": {
        "id": "34fVA3hKVA_F"
      }
    },
    {
      "cell_type": "code",
      "source": [
        "print(help(re))"
      ],
      "metadata": {
        "colab": {
          "base_uri": "https://localhost:8080/"
        },
        "id": "UCvGo2YrU7GH",
        "outputId": "081ca07b-3fbc-4c75-85e5-261c950de6b0"
      },
      "execution_count": null,
      "outputs": [
        {
          "output_type": "stream",
          "name": "stdout",
          "text": [
            "Help on module re:\n",
            "\n",
            "NAME\n",
            "    re - Support for regular expressions (RE).\n",
            "\n",
            "MODULE REFERENCE\n",
            "    https://docs.python.org/3.10/library/re.html\n",
            "    \n",
            "    The following documentation is automatically generated from the Python\n",
            "    source files.  It may be incomplete, incorrect or include features that\n",
            "    are considered implementation detail and may vary between Python\n",
            "    implementations.  When in doubt, consult the module reference at the\n",
            "    location listed above.\n",
            "\n",
            "DESCRIPTION\n",
            "    This module provides regular expression matching operations similar to\n",
            "    those found in Perl.  It supports both 8-bit and Unicode strings; both\n",
            "    the pattern and the strings being processed can contain null bytes and\n",
            "    characters outside the US ASCII range.\n",
            "    \n",
            "    Regular expressions can contain both special and ordinary characters.\n",
            "    Most ordinary characters, like \"A\", \"a\", or \"0\", are the simplest\n",
            "    regular expressions; they simply match themselves.  You can\n",
            "    concatenate ordinary characters, so last matches the string 'last'.\n",
            "    \n",
            "    The special characters are:\n",
            "        \".\"      Matches any character except a newline.\n",
            "        \"^\"      Matches the start of the string.\n",
            "        \"$\"      Matches the end of the string or just before the newline at\n",
            "                 the end of the string.\n",
            "        \"*\"      Matches 0 or more (greedy) repetitions of the preceding RE.\n",
            "                 Greedy means that it will match as many repetitions as possible.\n",
            "        \"+\"      Matches 1 or more (greedy) repetitions of the preceding RE.\n",
            "        \"?\"      Matches 0 or 1 (greedy) of the preceding RE.\n",
            "        *?,+?,?? Non-greedy versions of the previous three special characters.\n",
            "        {m,n}    Matches from m to n repetitions of the preceding RE.\n",
            "        {m,n}?   Non-greedy version of the above.\n",
            "        \"\\\\\"     Either escapes special characters or signals a special sequence.\n",
            "        []       Indicates a set of characters.\n",
            "                 A \"^\" as the first character indicates a complementing set.\n",
            "        \"|\"      A|B, creates an RE that will match either A or B.\n",
            "        (...)    Matches the RE inside the parentheses.\n",
            "                 The contents can be retrieved or matched later in the string.\n",
            "        (?aiLmsux) The letters set the corresponding flags defined below.\n",
            "        (?:...)  Non-grouping version of regular parentheses.\n",
            "        (?P<name>...) The substring matched by the group is accessible by name.\n",
            "        (?P=name)     Matches the text matched earlier by the group named name.\n",
            "        (?#...)  A comment; ignored.\n",
            "        (?=...)  Matches if ... matches next, but doesn't consume the string.\n",
            "        (?!...)  Matches if ... doesn't match next.\n",
            "        (?<=...) Matches if preceded by ... (must be fixed length).\n",
            "        (?<!...) Matches if not preceded by ... (must be fixed length).\n",
            "        (?(id/name)yes|no) Matches yes pattern if the group with id/name matched,\n",
            "                           the (optional) no pattern otherwise.\n",
            "    \n",
            "    The special sequences consist of \"\\\\\" and a character from the list\n",
            "    below.  If the ordinary character is not on the list, then the\n",
            "    resulting RE will match the second character.\n",
            "        \\number  Matches the contents of the group of the same number.\n",
            "        \\A       Matches only at the start of the string.\n",
            "        \\Z       Matches only at the end of the string.\n",
            "        \\b       Matches the empty string, but only at the start or end of a word.\n",
            "        \\B       Matches the empty string, but not at the start or end of a word.\n",
            "        \\d       Matches any decimal digit; equivalent to the set [0-9] in\n",
            "                 bytes patterns or string patterns with the ASCII flag.\n",
            "                 In string patterns without the ASCII flag, it will match the whole\n",
            "                 range of Unicode digits.\n",
            "        \\D       Matches any non-digit character; equivalent to [^\\d].\n",
            "        \\s       Matches any whitespace character; equivalent to [ \\t\\n\\r\\f\\v] in\n",
            "                 bytes patterns or string patterns with the ASCII flag.\n",
            "                 In string patterns without the ASCII flag, it will match the whole\n",
            "                 range of Unicode whitespace characters.\n",
            "        \\S       Matches any non-whitespace character; equivalent to [^\\s].\n",
            "        \\w       Matches any alphanumeric character; equivalent to [a-zA-Z0-9_]\n",
            "                 in bytes patterns or string patterns with the ASCII flag.\n",
            "                 In string patterns without the ASCII flag, it will match the\n",
            "                 range of Unicode alphanumeric characters (letters plus digits\n",
            "                 plus underscore).\n",
            "                 With LOCALE, it will match the set [0-9_] plus characters defined\n",
            "                 as letters for the current locale.\n",
            "        \\W       Matches the complement of \\w.\n",
            "        \\\\       Matches a literal backslash.\n",
            "    \n",
            "    This module exports the following functions:\n",
            "        match     Match a regular expression pattern to the beginning of a string.\n",
            "        fullmatch Match a regular expression pattern to all of a string.\n",
            "        search    Search a string for the presence of a pattern.\n",
            "        sub       Substitute occurrences of a pattern found in a string.\n",
            "        subn      Same as sub, but also return the number of substitutions made.\n",
            "        split     Split a string by the occurrences of a pattern.\n",
            "        findall   Find all occurrences of a pattern in a string.\n",
            "        finditer  Return an iterator yielding a Match object for each match.\n",
            "        compile   Compile a pattern into a Pattern object.\n",
            "        purge     Clear the regular expression cache.\n",
            "        escape    Backslash all non-alphanumerics in a string.\n",
            "    \n",
            "    Each function other than purge and escape can take an optional 'flags' argument\n",
            "    consisting of one or more of the following module constants, joined by \"|\".\n",
            "    A, L, and U are mutually exclusive.\n",
            "        A  ASCII       For string patterns, make \\w, \\W, \\b, \\B, \\d, \\D\n",
            "                       match the corresponding ASCII character categories\n",
            "                       (rather than the whole Unicode categories, which is the\n",
            "                       default).\n",
            "                       For bytes patterns, this flag is the only available\n",
            "                       behaviour and needn't be specified.\n",
            "        I  IGNORECASE  Perform case-insensitive matching.\n",
            "        L  LOCALE      Make \\w, \\W, \\b, \\B, dependent on the current locale.\n",
            "        M  MULTILINE   \"^\" matches the beginning of lines (after a newline)\n",
            "                       as well as the string.\n",
            "                       \"$\" matches the end of lines (before a newline) as well\n",
            "                       as the end of the string.\n",
            "        S  DOTALL      \".\" matches any character at all, including the newline.\n",
            "        X  VERBOSE     Ignore whitespace and comments for nicer looking RE's.\n",
            "        U  UNICODE     For compatibility only. Ignored for string patterns (it\n",
            "                       is the default), and forbidden for bytes patterns.\n",
            "    \n",
            "    This module also defines an exception 'error'.\n",
            "\n",
            "CLASSES\n",
            "    builtins.Exception(builtins.BaseException)\n",
            "        error\n",
            "    builtins.object\n",
            "        Match\n",
            "        Pattern\n",
            "    \n",
            "    class Match(builtins.object)\n",
            "     |  The result of re.match() and re.search().\n",
            "     |  Match objects always have a boolean value of True.\n",
            "     |  \n",
            "     |  Methods defined here:\n",
            "     |  \n",
            "     |  __copy__(self, /)\n",
            "     |  \n",
            "     |  __deepcopy__(self, memo, /)\n",
            "     |  \n",
            "     |  __getitem__(self, key, /)\n",
            "     |      Return self[key].\n",
            "     |  \n",
            "     |  __repr__(self, /)\n",
            "     |      Return repr(self).\n",
            "     |  \n",
            "     |  end(self, group=0, /)\n",
            "     |      Return index of the end of the substring matched by group.\n",
            "     |  \n",
            "     |  expand(self, /, template)\n",
            "     |      Return the string obtained by doing backslash substitution on the string template, as done by the sub() method.\n",
            "     |  \n",
            "     |  group(...)\n",
            "     |      group([group1, ...]) -> str or tuple.\n",
            "     |      Return subgroup(s) of the match by indices or names.\n",
            "     |      For 0 returns the entire match.\n",
            "     |  \n",
            "     |  groupdict(self, /, default=None)\n",
            "     |      Return a dictionary containing all the named subgroups of the match, keyed by the subgroup name.\n",
            "     |      \n",
            "     |      default\n",
            "     |        Is used for groups that did not participate in the match.\n",
            "     |  \n",
            "     |  groups(self, /, default=None)\n",
            "     |      Return a tuple containing all the subgroups of the match, from 1.\n",
            "     |      \n",
            "     |      default\n",
            "     |        Is used for groups that did not participate in the match.\n",
            "     |  \n",
            "     |  span(self, group=0, /)\n",
            "     |      For match object m, return the 2-tuple (m.start(group), m.end(group)).\n",
            "     |  \n",
            "     |  start(self, group=0, /)\n",
            "     |      Return index of the start of the substring matched by group.\n",
            "     |  \n",
            "     |  ----------------------------------------------------------------------\n",
            "     |  Class methods defined here:\n",
            "     |  \n",
            "     |  __class_getitem__(...) from builtins.type\n",
            "     |      See PEP 585\n",
            "     |  \n",
            "     |  ----------------------------------------------------------------------\n",
            "     |  Data descriptors defined here:\n",
            "     |  \n",
            "     |  endpos\n",
            "     |      The index into the string beyond which the RE engine will not go.\n",
            "     |  \n",
            "     |  lastgroup\n",
            "     |      The name of the last matched capturing group.\n",
            "     |  \n",
            "     |  lastindex\n",
            "     |      The integer index of the last matched capturing group.\n",
            "     |  \n",
            "     |  pos\n",
            "     |      The index into the string at which the RE engine started looking for a match.\n",
            "     |  \n",
            "     |  re\n",
            "     |      The regular expression object.\n",
            "     |  \n",
            "     |  regs\n",
            "     |  \n",
            "     |  string\n",
            "     |      The string passed to match() or search().\n",
            "    \n",
            "    class Pattern(builtins.object)\n",
            "     |  Compiled regular expression object.\n",
            "     |  \n",
            "     |  Methods defined here:\n",
            "     |  \n",
            "     |  __copy__(self, /)\n",
            "     |  \n",
            "     |  __deepcopy__(self, memo, /)\n",
            "     |  \n",
            "     |  __eq__(self, value, /)\n",
            "     |      Return self==value.\n",
            "     |  \n",
            "     |  __ge__(self, value, /)\n",
            "     |      Return self>=value.\n",
            "     |  \n",
            "     |  __gt__(self, value, /)\n",
            "     |      Return self>value.\n",
            "     |  \n",
            "     |  __hash__(self, /)\n",
            "     |      Return hash(self).\n",
            "     |  \n",
            "     |  __le__(self, value, /)\n",
            "     |      Return self<=value.\n",
            "     |  \n",
            "     |  __lt__(self, value, /)\n",
            "     |      Return self<value.\n",
            "     |  \n",
            "     |  __ne__(self, value, /)\n",
            "     |      Return self!=value.\n",
            "     |  \n",
            "     |  __repr__(self, /)\n",
            "     |      Return repr(self).\n",
            "     |  \n",
            "     |  findall(self, /, string, pos=0, endpos=9223372036854775807)\n",
            "     |      Return a list of all non-overlapping matches of pattern in string.\n",
            "     |  \n",
            "     |  finditer(self, /, string, pos=0, endpos=9223372036854775807)\n",
            "     |      Return an iterator over all non-overlapping matches for the RE pattern in string.\n",
            "     |      \n",
            "     |      For each match, the iterator returns a match object.\n",
            "     |  \n",
            "     |  fullmatch(self, /, string, pos=0, endpos=9223372036854775807)\n",
            "     |      Matches against all of the string.\n",
            "     |  \n",
            "     |  match(self, /, string, pos=0, endpos=9223372036854775807)\n",
            "     |      Matches zero or more characters at the beginning of the string.\n",
            "     |  \n",
            "     |  scanner(self, /, string, pos=0, endpos=9223372036854775807)\n",
            "     |  \n",
            "     |  search(self, /, string, pos=0, endpos=9223372036854775807)\n",
            "     |      Scan through string looking for a match, and return a corresponding match object instance.\n",
            "     |      \n",
            "     |      Return None if no position in the string matches.\n",
            "     |  \n",
            "     |  split(self, /, string, maxsplit=0)\n",
            "     |      Split string by the occurrences of pattern.\n",
            "     |  \n",
            "     |  sub(self, /, repl, string, count=0)\n",
            "     |      Return the string obtained by replacing the leftmost non-overlapping occurrences of pattern in string by the replacement repl.\n",
            "     |  \n",
            "     |  subn(self, /, repl, string, count=0)\n",
            "     |      Return the tuple (new_string, number_of_subs_made) found by replacing the leftmost non-overlapping occurrences of pattern with the replacement repl.\n",
            "     |  \n",
            "     |  ----------------------------------------------------------------------\n",
            "     |  Class methods defined here:\n",
            "     |  \n",
            "     |  __class_getitem__(...) from builtins.type\n",
            "     |      See PEP 585\n",
            "     |  \n",
            "     |  ----------------------------------------------------------------------\n",
            "     |  Data descriptors defined here:\n",
            "     |  \n",
            "     |  flags\n",
            "     |      The regex matching flags.\n",
            "     |  \n",
            "     |  groupindex\n",
            "     |      A dictionary mapping group names to group numbers.\n",
            "     |  \n",
            "     |  groups\n",
            "     |      The number of capturing groups in the pattern.\n",
            "     |  \n",
            "     |  pattern\n",
            "     |      The pattern string from which the RE object was compiled.\n",
            "    \n",
            "    class error(builtins.Exception)\n",
            "     |  error(msg, pattern=None, pos=None)\n",
            "     |  \n",
            "     |  Exception raised for invalid regular expressions.\n",
            "     |  \n",
            "     |  Attributes:\n",
            "     |  \n",
            "     |      msg: The unformatted error message\n",
            "     |      pattern: The regular expression pattern\n",
            "     |      pos: The index in the pattern where compilation failed (may be None)\n",
            "     |      lineno: The line corresponding to pos (may be None)\n",
            "     |      colno: The column corresponding to pos (may be None)\n",
            "     |  \n",
            "     |  Method resolution order:\n",
            "     |      error\n",
            "     |      builtins.Exception\n",
            "     |      builtins.BaseException\n",
            "     |      builtins.object\n",
            "     |  \n",
            "     |  Methods defined here:\n",
            "     |  \n",
            "     |  __init__(self, msg, pattern=None, pos=None)\n",
            "     |      Initialize self.  See help(type(self)) for accurate signature.\n",
            "     |  \n",
            "     |  ----------------------------------------------------------------------\n",
            "     |  Data descriptors defined here:\n",
            "     |  \n",
            "     |  __weakref__\n",
            "     |      list of weak references to the object (if defined)\n",
            "     |  \n",
            "     |  ----------------------------------------------------------------------\n",
            "     |  Static methods inherited from builtins.Exception:\n",
            "     |  \n",
            "     |  __new__(*args, **kwargs) from builtins.type\n",
            "     |      Create and return a new object.  See help(type) for accurate signature.\n",
            "     |  \n",
            "     |  ----------------------------------------------------------------------\n",
            "     |  Methods inherited from builtins.BaseException:\n",
            "     |  \n",
            "     |  __delattr__(self, name, /)\n",
            "     |      Implement delattr(self, name).\n",
            "     |  \n",
            "     |  __getattribute__(self, name, /)\n",
            "     |      Return getattr(self, name).\n",
            "     |  \n",
            "     |  __reduce__(...)\n",
            "     |      Helper for pickle.\n",
            "     |  \n",
            "     |  __repr__(self, /)\n",
            "     |      Return repr(self).\n",
            "     |  \n",
            "     |  __setattr__(self, name, value, /)\n",
            "     |      Implement setattr(self, name, value).\n",
            "     |  \n",
            "     |  __setstate__(...)\n",
            "     |  \n",
            "     |  __str__(self, /)\n",
            "     |      Return str(self).\n",
            "     |  \n",
            "     |  with_traceback(...)\n",
            "     |      Exception.with_traceback(tb) --\n",
            "     |      set self.__traceback__ to tb and return self.\n",
            "     |  \n",
            "     |  ----------------------------------------------------------------------\n",
            "     |  Data descriptors inherited from builtins.BaseException:\n",
            "     |  \n",
            "     |  __cause__\n",
            "     |      exception cause\n",
            "     |  \n",
            "     |  __context__\n",
            "     |      exception context\n",
            "     |  \n",
            "     |  __dict__\n",
            "     |  \n",
            "     |  __suppress_context__\n",
            "     |  \n",
            "     |  __traceback__\n",
            "     |  \n",
            "     |  args\n",
            "\n",
            "FUNCTIONS\n",
            "    compile(pattern, flags=0)\n",
            "        Compile a regular expression pattern, returning a Pattern object.\n",
            "    \n",
            "    escape(pattern)\n",
            "        Escape special characters in a string.\n",
            "    \n",
            "    findall(pattern, string, flags=0)\n",
            "        Return a list of all non-overlapping matches in the string.\n",
            "        \n",
            "        If one or more capturing groups are present in the pattern, return\n",
            "        a list of groups; this will be a list of tuples if the pattern\n",
            "        has more than one group.\n",
            "        \n",
            "        Empty matches are included in the result.\n",
            "    \n",
            "    finditer(pattern, string, flags=0)\n",
            "        Return an iterator over all non-overlapping matches in the\n",
            "        string.  For each match, the iterator returns a Match object.\n",
            "        \n",
            "        Empty matches are included in the result.\n",
            "    \n",
            "    fullmatch(pattern, string, flags=0)\n",
            "        Try to apply the pattern to all of the string, returning\n",
            "        a Match object, or None if no match was found.\n",
            "    \n",
            "    match(pattern, string, flags=0)\n",
            "        Try to apply the pattern at the start of the string, returning\n",
            "        a Match object, or None if no match was found.\n",
            "    \n",
            "    purge()\n",
            "        Clear the regular expression caches\n",
            "    \n",
            "    search(pattern, string, flags=0)\n",
            "        Scan through string looking for a match to the pattern, returning\n",
            "        a Match object, or None if no match was found.\n",
            "    \n",
            "    split(pattern, string, maxsplit=0, flags=0)\n",
            "        Split the source string by the occurrences of the pattern,\n",
            "        returning a list containing the resulting substrings.  If\n",
            "        capturing parentheses are used in pattern, then the text of all\n",
            "        groups in the pattern are also returned as part of the resulting\n",
            "        list.  If maxsplit is nonzero, at most maxsplit splits occur,\n",
            "        and the remainder of the string is returned as the final element\n",
            "        of the list.\n",
            "    \n",
            "    sub(pattern, repl, string, count=0, flags=0)\n",
            "        Return the string obtained by replacing the leftmost\n",
            "        non-overlapping occurrences of the pattern in string by the\n",
            "        replacement repl.  repl can be either a string or a callable;\n",
            "        if a string, backslash escapes in it are processed.  If it is\n",
            "        a callable, it's passed the Match object and must return\n",
            "        a replacement string to be used.\n",
            "    \n",
            "    subn(pattern, repl, string, count=0, flags=0)\n",
            "        Return a 2-tuple containing (new_string, number).\n",
            "        new_string is the string obtained by replacing the leftmost\n",
            "        non-overlapping occurrences of the pattern in the source\n",
            "        string by the replacement repl.  number is the number of\n",
            "        substitutions that were made. repl can be either a string or a\n",
            "        callable; if a string, backslash escapes in it are processed.\n",
            "        If it is a callable, it's passed the Match object and must\n",
            "        return a replacement string to be used.\n",
            "    \n",
            "    template(pattern, flags=0)\n",
            "        Compile a template pattern, returning a Pattern object\n",
            "\n",
            "DATA\n",
            "    A = re.ASCII\n",
            "    ASCII = re.ASCII\n",
            "    DOTALL = re.DOTALL\n",
            "    I = re.IGNORECASE\n",
            "    IGNORECASE = re.IGNORECASE\n",
            "    L = re.LOCALE\n",
            "    LOCALE = re.LOCALE\n",
            "    M = re.MULTILINE\n",
            "    MULTILINE = re.MULTILINE\n",
            "    S = re.DOTALL\n",
            "    U = re.UNICODE\n",
            "    UNICODE = re.UNICODE\n",
            "    VERBOSE = re.VERBOSE\n",
            "    X = re.VERBOSE\n",
            "    __all__ = ['match', 'fullmatch', 'search', 'sub', 'subn', 'split', 'fi...\n",
            "\n",
            "VERSION\n",
            "    2.2.1\n",
            "\n",
            "FILE\n",
            "    /usr/lib/python3.10/re.py\n",
            "\n",
            "\n",
            "None\n"
          ]
        }
      ]
    },
    {
      "cell_type": "markdown",
      "source": [
        "## Начнем с простых примеров"
      ],
      "metadata": {
        "id": "Nu5HLySAj1Dl"
      }
    },
    {
      "cell_type": "markdown",
      "source": [
        "Найдем цифру в строке\n",
        "\n",
        "Что может быть полезно в качестве инструмента предварительной обработки\n",
        "\n",
        "`\\d`- какая-то цифра от 0 до 9\n",
        "\n",
        "`\\` (backslash) экранировать специальные символы"
      ],
      "metadata": {
        "id": "IpI87Ti8kCaC"
      }
    },
    {
      "cell_type": "code",
      "source": [
        "target_str = \"My phone number is +1-234-567-89 dht privet\"\n",
        "res = re.findall(r\"\\d\", target_str)\n",
        "\n",
        "print(res)"
      ],
      "metadata": {
        "colab": {
          "base_uri": "https://localhost:8080/"
        },
        "id": "gqjSYMkRVC2Z",
        "outputId": "c696d62a-e01f-40e1-9310-66aa577392ae"
      },
      "execution_count": null,
      "outputs": [
        {
          "output_type": "stream",
          "name": "stdout",
          "text": [
            "['1', '2', '3', '4', '5', '6', '7', '8', '9']\n"
          ]
        }
      ]
    },
    {
      "cell_type": "code",
      "source": [
        "res = re.findall(r\"d\", target_str)\n",
        "\n",
        "print(res)"
      ],
      "metadata": {
        "colab": {
          "base_uri": "https://localhost:8080/"
        },
        "id": "Vkfte6TLkEtd",
        "outputId": "1dc6fe22-36ec-4927-8bb7-beaca629d13e"
      },
      "execution_count": null,
      "outputs": [
        {
          "output_type": "stream",
          "name": "stdout",
          "text": [
            "['d']\n"
          ]
        }
      ]
    },
    {
      "cell_type": "markdown",
      "source": [
        "Что, если бы мы захотели сложить числа вместе\n",
        "\n",
        "`\\d` и `+` (Plus)\n",
        "\n",
        "1 или более повторений регулярного выражения"
      ],
      "metadata": {
        "id": "56llqP5fkRuB"
      }
    },
    {
      "cell_type": "code",
      "source": [
        "res = re.findall(r\"\\d+\", target_str)\n",
        "\n",
        "print(res)"
      ],
      "metadata": {
        "colab": {
          "base_uri": "https://localhost:8080/"
        },
        "id": "nqe6tdnrkOKK",
        "outputId": "a7a8529f-f688-4c71-bb37-fb0577d12910"
      },
      "execution_count": null,
      "outputs": [
        {
          "output_type": "stream",
          "name": "stdout",
          "text": [
            "['1', '234', '567', '89']\n"
          ]
        }
      ]
    },
    {
      "cell_type": "markdown",
      "source": [
        "**Метасимволы регулярных выражений**\n"
      ],
      "metadata": {
        "id": "WNWjWR0CkaO6"
      }
    },
    {
      "cell_type": "markdown",
      "source": [
        "\n",
        "\n",
        "`.` (DOT)\n",
        "\n",
        "любой символ, кроме новой строки"
      ],
      "metadata": {
        "id": "duCXvJQakeYk"
      }
    },
    {
      "cell_type": "code",
      "source": [
        "res = re.findall(r\".\", target_str)\n",
        "\n",
        "print(res)"
      ],
      "metadata": {
        "colab": {
          "base_uri": "https://localhost:8080/"
        },
        "id": "o_1GZa7tkUxr",
        "outputId": "3c777e74-5563-4dad-bc76-2e20d24707e5"
      },
      "execution_count": null,
      "outputs": [
        {
          "output_type": "stream",
          "name": "stdout",
          "text": [
            "['M', 'y', ' ', 'p', 'h', 'o', 'n', 'e', ' ', 'n', 'u', 'm', 'b', 'e', 'r', ' ', 'i', 's', ' ', '+', '1', '-', '2', '3', '4', '-', '5', '6', '7', '-', '8', '9', ' ', 'd', 'h', 't', ' ', 'p', 'r', 'i', 'v', 'e', 't']\n"
          ]
        }
      ]
    },
    {
      "cell_type": "markdown",
      "source": [
        "`^` (Caret)\n",
        "\n",
        "шаблон только в начале строки"
      ],
      "metadata": {
        "id": "qWBtE-d6kmFV"
      }
    },
    {
      "cell_type": "code",
      "source": [
        "res = re.findall(r\"^.\", target_str)\n",
        "\n",
        "print(res)"
      ],
      "metadata": {
        "colab": {
          "base_uri": "https://localhost:8080/"
        },
        "id": "E4_Pai_4kge4",
        "outputId": "5189c505-1ad0-424f-bde8-3a8b2a3fd816"
      },
      "execution_count": null,
      "outputs": [
        {
          "output_type": "stream",
          "name": "stdout",
          "text": [
            "['M']\n"
          ]
        }
      ]
    },
    {
      "cell_type": "markdown",
      "source": [
        "`$` (Dollar)\n",
        "\n",
        "шаблон на конце строки"
      ],
      "metadata": {
        "id": "mJTy9uoYkstx"
      }
    },
    {
      "cell_type": "code",
      "source": [
        "res = re.findall(r\".$\", target_str)\n",
        "\n",
        "print(res)"
      ],
      "metadata": {
        "colab": {
          "base_uri": "https://localhost:8080/"
        },
        "id": "v68yQWTqkpLe",
        "outputId": "f57bab8c-a5b8-4481-83d6-fc59b7423106"
      },
      "execution_count": null,
      "outputs": [
        {
          "output_type": "stream",
          "name": "stdout",
          "text": [
            "['t']\n"
          ]
        }
      ]
    },
    {
      "cell_type": "markdown",
      "source": [
        "`*` (asterisk)\n",
        "\n",
        "0 или более повторений регулярного выражения"
      ],
      "metadata": {
        "id": "eo1mMH4dkzhD"
      }
    },
    {
      "cell_type": "code",
      "source": [
        "res = re.findall(r\"\\d*\", target_str)\n",
        "\n",
        "print(res)"
      ],
      "metadata": {
        "colab": {
          "base_uri": "https://localhost:8080/"
        },
        "id": "8xTYmNYtkvlZ",
        "outputId": "f0132f3b-b85c-442a-8703-f1c7a622720c"
      },
      "execution_count": null,
      "outputs": [
        {
          "output_type": "stream",
          "name": "stdout",
          "text": [
            "['', '', '', '', '', '', '', '', '', '', '', '', '', '', '', '', '', '', '', '', '1', '', '234', '', '567', '', '89', '', '', '', '', '', '', '', '', '', '', '', '']\n"
          ]
        }
      ]
    },
    {
      "cell_type": "markdown",
      "source": [
        "что-то найти, например слова с окончаниями"
      ],
      "metadata": {
        "id": "s-zi7ja8k9pT"
      }
    },
    {
      "cell_type": "code",
      "source": [
        "res = re.findall(r\"er*\", target_str)\n",
        "\n",
        "print(res)"
      ],
      "metadata": {
        "colab": {
          "base_uri": "https://localhost:8080/"
        },
        "id": "vO6JUbC4k3nY",
        "outputId": "1e9d5820-b23b-4047-c9ca-d14e80f729c0"
      },
      "execution_count": null,
      "outputs": [
        {
          "output_type": "stream",
          "name": "stdout",
          "text": [
            "['e', 'er', 'e']\n"
          ]
        }
      ]
    },
    {
      "cell_type": "markdown",
      "source": [
        "странный способ найти все сложенные цифры?"
      ],
      "metadata": {
        "id": "4FPV_edwlK1b"
      }
    },
    {
      "cell_type": "code",
      "source": [
        "res = re.findall(r\"\\d\\d*\", target_str)\n",
        "\n",
        "print(res)"
      ],
      "metadata": {
        "colab": {
          "base_uri": "https://localhost:8080/"
        },
        "id": "SE3DOFyEk_Ye",
        "outputId": "88bc57f1-e257-4a47-8b55-e0d667e10576"
      },
      "execution_count": null,
      "outputs": [
        {
          "output_type": "stream",
          "name": "stdout",
          "text": [
            "['1', '234', '567', '89']\n"
          ]
        }
      ]
    },
    {
      "cell_type": "markdown",
      "source": [
        "`?` (Question mark)\n",
        "\n",
        "0 или 1 повторение регулярного выражения"
      ],
      "metadata": {
        "id": "AkVZpzJilSfr"
      }
    },
    {
      "cell_type": "code",
      "source": [
        "res = re.findall(r\"\\d?\", target_str)\n",
        "\n",
        "print(res)"
      ],
      "metadata": {
        "colab": {
          "base_uri": "https://localhost:8080/"
        },
        "id": "YuOxydtalM-6",
        "outputId": "4a8802fe-80e3-40da-f80f-4cfc5d587004"
      },
      "execution_count": null,
      "outputs": [
        {
          "output_type": "stream",
          "name": "stdout",
          "text": [
            "['', '', '', '', '', '', '', '', '', '', '', '', '', '', '', '', '', '', '', '', '1', '', '2', '3', '4', '', '5', '6', '7', '', '8', '9', '', '', '', '', '', '', '', '', '', '', '', '']\n"
          ]
        }
      ]
    },
    {
      "cell_type": "markdown",
      "source": [
        "давайте найдем 2-3-значные числа"
      ],
      "metadata": {
        "id": "VCQWjrXJlX_D"
      }
    },
    {
      "cell_type": "code",
      "source": [
        "res = re.findall(r\"\\d\\d\\d?\", target_str)\n",
        "\n",
        "print(res)"
      ],
      "metadata": {
        "colab": {
          "base_uri": "https://localhost:8080/"
        },
        "id": "vFXS9L-ClU6q",
        "outputId": "a9843072-45be-48bf-b53a-62745e536d93"
      },
      "execution_count": null,
      "outputs": [
        {
          "output_type": "stream",
          "name": "stdout",
          "text": [
            "['234', '567', '89']\n"
          ]
        }
      ]
    },
    {
      "cell_type": "markdown",
      "source": [
        "`[ ]` (Square brackets)\n",
        "\n",
        "набор символов. Соответствует любому одиночному символу в скобках"
      ],
      "metadata": {
        "id": "RFXRaMMTldbQ"
      }
    },
    {
      "cell_type": "code",
      "source": [
        "res = re.findall(r\"[pd]..\", target_str)\n",
        "\n",
        "print(res)"
      ],
      "metadata": {
        "colab": {
          "base_uri": "https://localhost:8080/"
        },
        "id": "fhSPoQfClZqy",
        "outputId": "d33aab6f-9805-4e3d-bed8-4b08c22e13a0"
      },
      "execution_count": null,
      "outputs": [
        {
          "output_type": "stream",
          "name": "stdout",
          "text": [
            "['pho', 'dht', 'pri']\n"
          ]
        }
      ]
    },
    {
      "cell_type": "markdown",
      "source": [
        "это может быть сочетание разного"
      ],
      "metadata": {
        "id": "FZ_fGr81ljy4"
      }
    },
    {
      "cell_type": "code",
      "source": [
        "res = re.findall(r\"[pd][rh]\\w+\", target_str)\n",
        "\n",
        "print(res)"
      ],
      "metadata": {
        "colab": {
          "base_uri": "https://localhost:8080/"
        },
        "id": "4hpTOxT_lgB3",
        "outputId": "b9d1d3a3-d885-4b4a-d73f-b3e4cbec658c"
      },
      "execution_count": null,
      "outputs": [
        {
          "output_type": "stream",
          "name": "stdout",
          "text": [
            "['phone', 'dht', 'privet']\n"
          ]
        }
      ]
    },
    {
      "cell_type": "markdown",
      "source": [
        "`[^ ]` любой одиночный символ не в скобках"
      ],
      "metadata": {
        "id": "5jMHMTZ4lqYC"
      }
    },
    {
      "cell_type": "code",
      "source": [
        "res = re.findall(r\"[^0-9]\", target_str)\n",
        "\n",
        "print(res)"
      ],
      "metadata": {
        "colab": {
          "base_uri": "https://localhost:8080/"
        },
        "id": "nL-TlkeNlnJb",
        "outputId": "79b895b7-a713-45f7-9b2a-472e6a30c73d"
      },
      "execution_count": null,
      "outputs": [
        {
          "output_type": "stream",
          "name": "stdout",
          "text": [
            "['M', 'y', ' ', 'p', 'h', 'o', 'n', 'e', ' ', 'n', 'u', 'm', 'b', 'e', 'r', ' ', 'i', 's', ' ', '+', '-', '-', '-', ' ', 'd', 'h', 't', ' ', 'p', 'r', 'i', 'v', 'e', 't']\n"
          ]
        }
      ]
    },
    {
      "cell_type": "markdown",
      "source": [
        "`( )` все внутри это шаблон в целом"
      ],
      "metadata": {
        "id": "1VuJiS0nlu0U"
      }
    },
    {
      "cell_type": "code",
      "source": [
        "res = re.findall(r\"(234)\", target_str)\n",
        "\n",
        "print(res)"
      ],
      "metadata": {
        "colab": {
          "base_uri": "https://localhost:8080/"
        },
        "id": "dll8mrTflsRS",
        "outputId": "27c80634-5e24-44ed-f7fb-9f7d717571b5"
      },
      "execution_count": null,
      "outputs": [
        {
          "output_type": "stream",
          "name": "stdout",
          "text": [
            "['234']\n"
          ]
        }
      ]
    },
    {
      "cell_type": "code",
      "source": [
        "pattern = r'\\s*([А-Яа-яЁё]+)(\\d+)\\s*'\n",
        "string = r'---   Опять45   ---'\n",
        "match = re.search(pattern, string)\n",
        "print(f'Найдена подстрока >{match[0]}< с позиции {match.start(0)} до {match.end(0)}')\n",
        "print(f'Группа букв >{match[1]}< с позиции {match.start(1)} до {match.end(1)}')\n",
        "print(f'Группа цифр >{match[2]}< с позиции {match.start(2)} до {match.end(2)}')"
      ],
      "metadata": {
        "colab": {
          "base_uri": "https://localhost:8080/"
        },
        "id": "Zaa1jYEMrhm-",
        "outputId": "9aec7d7d-a1b8-4857-ce07-af8077a6326f"
      },
      "execution_count": null,
      "outputs": [
        {
          "output_type": "stream",
          "name": "stdout",
          "text": [
            "Найдена подстрока >   Опять45   < с позиции 3 до 16\n",
            "Группа букв >Опять< с позиции 6 до 11\n",
            "Группа цифр >45< с позиции 11 до 13\n"
          ]
        }
      ]
    },
    {
      "cell_type": "markdown",
      "source": [
        "![negbqzrzrcesrkftj9qbjahugue[1].png](data:image/png;base64,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)"
      ],
      "metadata": {
        "id": "RQT2dU7drq-B"
      }
    },
    {
      "cell_type": "markdown",
      "source": [
        "![ov-zyr4szw9rvt55hdn4cc4dr_q[1].png](data:image/png;base64,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)"
      ],
      "metadata": {
        "id": "3q45SycQrzm1"
      }
    },
    {
      "cell_type": "markdown",
      "source": [
        "Если в шаблоне есть группирующие скобки, то вместо списка найденных подстрок будет возвращён список кортежей, в каждом из которых только соответствие каждой группе. Это не всегда происходит по плану, поэтому обычно нужно использовать негруппирующие скобки (?:...)"
      ],
      "metadata": {
        "id": "FEb7gcdysH3e"
      }
    },
    {
      "cell_type": "code",
      "source": [
        "import re\n",
        "print(re.findall(r'([a-z]+)(\\d*)', r'foo3, im12, go, 24buz42'))"
      ],
      "metadata": {
        "colab": {
          "base_uri": "https://localhost:8080/"
        },
        "id": "1ryna8hEsI0a",
        "outputId": "f26e281f-8a4f-486c-e15e-ae77388d6c6d"
      },
      "execution_count": null,
      "outputs": [
        {
          "output_type": "stream",
          "name": "stdout",
          "text": [
            "[('foo', '3'), ('im', '12'), ('go', ''), ('buz', '42')]\n"
          ]
        }
      ]
    },
    {
      "cell_type": "markdown",
      "source": [
        "`{}` - узорные скобки\n",
        "\n",
        "указать конкретное количество совпадений"
      ],
      "metadata": {
        "id": "H-qPrCf4mDVr"
      }
    },
    {
      "cell_type": "markdown",
      "source": [
        "точное количество повторений"
      ],
      "metadata": {
        "id": "2dIHkiYRmF9x"
      }
    },
    {
      "cell_type": "code",
      "source": [
        "res = re.findall(r\"\\d{3}\", target_str)\n",
        "\n",
        "print(res)"
      ],
      "metadata": {
        "colab": {
          "base_uri": "https://localhost:8080/"
        },
        "id": "dGwxmiTflwxf",
        "outputId": "25cca99a-4ffc-43cf-9108-2ceb835e90ce"
      },
      "execution_count": null,
      "outputs": [
        {
          "output_type": "stream",
          "name": "stdout",
          "text": [
            "['234', '567']\n"
          ]
        }
      ]
    },
    {
      "cell_type": "markdown",
      "source": [
        "от нижней границы до верхней границы"
      ],
      "metadata": {
        "id": "oZe4jGzCmWEQ"
      }
    },
    {
      "cell_type": "code",
      "source": [
        "res = re.findall(r\"\\d{1,3}\", target_str)\n",
        "\n",
        "print(res)"
      ],
      "metadata": {
        "colab": {
          "base_uri": "https://localhost:8080/"
        },
        "id": "2bn_wv2-mSJ3",
        "outputId": "58fe7285-f523-4052-d5b1-08aab95ccf6c"
      },
      "execution_count": null,
      "outputs": [
        {
          "output_type": "stream",
          "name": "stdout",
          "text": [
            "['1', '234', '567', '89']\n"
          ]
        }
      ]
    },
    {
      "cell_type": "markdown",
      "source": [
        "по крайней мере, дважды"
      ],
      "metadata": {
        "id": "G8fz0vH-mbU0"
      }
    },
    {
      "cell_type": "code",
      "source": [
        "res = re.findall(r\"\\d{2,}\", target_str)\n",
        "\n",
        "print(res)"
      ],
      "metadata": {
        "colab": {
          "base_uri": "https://localhost:8080/"
        },
        "id": "2iL5QmcNmYdL",
        "outputId": "5ee79cbb-9d32-452c-db33-460bc56109b7"
      },
      "execution_count": null,
      "outputs": [
        {
          "output_type": "stream",
          "name": "stdout",
          "text": [
            "['234', '567', '89']\n"
          ]
        }
      ]
    },
    {
      "cell_type": "markdown",
      "source": [
        "# Некоторые специальные классы"
      ],
      "metadata": {
        "id": "7ZoKsLSQnGiX"
      }
    },
    {
      "cell_type": "markdown",
      "source": [
        "`\\d` эквивалентно `[0-9]` любая цифра\n",
        "\n",
        "`\\D` эквивалентно `[^0-9]` любой не цифре\n",
        "\n",
        "`\\s` эквивалентно `[ \\t\\n\\x0b\\r\\f]` любому пробельному символу\n",
        "\n",
        "`\\S` эквивалентно `[^ \\t\\n\\x0b\\r\\f]` любому непробельному символу\n",
        "\n",
        "`\\w` эквивалентно `[a-zA-Z_0-9]` любому буквенно-цифровому символу\n",
        "\n",
        "`\\W` эквивалентно `[^a-zA-Z_0-9]` любому небуквенно-цифровому символу\n",
        "\n",
        "`\\b` - найти пустую строку в начале или в конце слова\n",
        "\n",
        "`\\B` как-то наоборот"
      ],
      "metadata": {
        "id": "_k80HyVwnKKe"
      }
    },
    {
      "cell_type": "code",
      "source": [
        "target_str"
      ],
      "metadata": {
        "colab": {
          "base_uri": "https://localhost:8080/",
          "height": 36
        },
        "id": "gdl8c0Ehmko-",
        "outputId": "44269e4b-399d-4142-9985-9642f54444ab"
      },
      "execution_count": null,
      "outputs": [
        {
          "output_type": "execute_result",
          "data": {
            "text/plain": [
              "'My phone number is +1-234-567-89 dht privet'"
            ],
            "application/vnd.google.colaboratory.intrinsic+json": {
              "type": "string"
            }
          },
          "metadata": {},
          "execution_count": 22
        }
      ]
    },
    {
      "cell_type": "code",
      "source": [
        "res = re.findall(r\"\\B\\w+\\B\", target_str)\n",
        "\n",
        "print(res)"
      ],
      "metadata": {
        "colab": {
          "base_uri": "https://localhost:8080/"
        },
        "id": "LDajNuVSnMsk",
        "outputId": "15401e36-2eb4-447c-c110-f20ab0c4c9e4"
      },
      "execution_count": null,
      "outputs": [
        {
          "output_type": "stream",
          "name": "stdout",
          "text": [
            "['hon', 'umbe', '3', '6', 'h', 'rive']\n"
          ]
        }
      ]
    },
    {
      "cell_type": "code",
      "source": [
        "res = re.findall(r\"\\b\\w+\\b\", target_str)\n",
        "\n",
        "print(res)"
      ],
      "metadata": {
        "colab": {
          "base_uri": "https://localhost:8080/"
        },
        "id": "N0Dtl8csnOdC",
        "outputId": "4944d923-2b7a-43be-97b7-e4672468a119"
      },
      "execution_count": null,
      "outputs": [
        {
          "output_type": "stream",
          "name": "stdout",
          "text": [
            "['My', 'phone', 'number', 'is', '1', '234', '567', '89', 'dht', 'privet']\n"
          ]
        }
      ]
    },
    {
      "cell_type": "markdown",
      "source": [
        "# Кое-что о методах"
      ],
      "metadata": {
        "id": "3X2Uw4Ffnrin"
      }
    },
    {
      "cell_type": "code",
      "source": [
        "target_string = \"Toss a 300$ to a Witcher\""
      ],
      "metadata": {
        "id": "aUEliWrlnham"
      },
      "execution_count": null,
      "outputs": []
    },
    {
      "cell_type": "markdown",
      "source": [
        "`re.compile('pattern')`\n",
        "\n",
        "---\n",
        "\n",
        "\n",
        "\n",
        "сохранить шаблон как переменную для использования в будущем\n",
        "\n",
        "чтобы не скучно \"копипастить\" и не допускать ошибок\n"
      ],
      "metadata": {
        "id": "62RxiwHinz3g"
      }
    },
    {
      "cell_type": "code",
      "source": [
        "str_pattern = r\"\\w+\"\n",
        "pattern = re.compile(str_pattern)\n",
        "pattern"
      ],
      "metadata": {
        "colab": {
          "base_uri": "https://localhost:8080/"
        },
        "id": "aszh5y4mnteu",
        "outputId": "7ff3b218-5da1-4ac1-b78d-594969a13881"
      },
      "execution_count": null,
      "outputs": [
        {
          "output_type": "execute_result",
          "data": {
            "text/plain": [
              "re.compile(r'\\w+', re.UNICODE)"
            ]
          },
          "metadata": {},
          "execution_count": 26
        }
      ]
    },
    {
      "cell_type": "markdown",
      "source": [
        "то мы можем применять разные методы к шаблону"
      ],
      "metadata": {
        "id": "I0VczYErn4_7"
      }
    },
    {
      "cell_type": "markdown",
      "source": [
        "`re.match(pattern, str)`\n",
        "\n",
        "вернуть совпадение в начале строки"
      ],
      "metadata": {
        "id": "J-0y2sOXn8_j"
      }
    },
    {
      "cell_type": "code",
      "source": [
        "res = pattern.match(target_string)\n",
        "\n",
        "print(res.group())"
      ],
      "metadata": {
        "colab": {
          "base_uri": "https://localhost:8080/"
        },
        "id": "rjQO4vgVn2Z8",
        "outputId": "1d44ef3c-d8a4-4f87-ccd3-eebd7220bc2d"
      },
      "execution_count": null,
      "outputs": [
        {
          "output_type": "stream",
          "name": "stdout",
          "text": [
            "Toss\n"
          ]
        }
      ]
    },
    {
      "cell_type": "code",
      "source": [
        "print(res.start())"
      ],
      "metadata": {
        "colab": {
          "base_uri": "https://localhost:8080/"
        },
        "id": "8L0Yv_wBoAei",
        "outputId": "8a64fea9-c054-4440-d6aa-6628076a104b"
      },
      "execution_count": null,
      "outputs": [
        {
          "output_type": "stream",
          "name": "stdout",
          "text": [
            "0\n"
          ]
        }
      ]
    },
    {
      "cell_type": "code",
      "source": [
        "print(res.end())"
      ],
      "metadata": {
        "colab": {
          "base_uri": "https://localhost:8080/"
        },
        "id": "bdtKwWKmoGAp",
        "outputId": "05c2d1ad-810c-41ad-99b7-30d53569406d"
      },
      "execution_count": null,
      "outputs": [
        {
          "output_type": "stream",
          "name": "stdout",
          "text": [
            "4\n"
          ]
        }
      ]
    },
    {
      "cell_type": "code",
      "source": [
        "print(res)"
      ],
      "metadata": {
        "colab": {
          "base_uri": "https://localhost:8080/"
        },
        "id": "ymZ-IDMYoH5K",
        "outputId": "a6ec3b4d-c6c1-4e28-e7c7-78ac88fac2ee"
      },
      "execution_count": null,
      "outputs": [
        {
          "output_type": "stream",
          "name": "stdout",
          "text": [
            "<re.Match object; span=(0, 4), match='Toss'>\n"
          ]
        }
      ]
    },
    {
      "cell_type": "code",
      "source": [
        "print(res.span())"
      ],
      "metadata": {
        "colab": {
          "base_uri": "https://localhost:8080/"
        },
        "id": "Ak16tBrCoJ0e",
        "outputId": "72b36c7b-1333-40d3-f62b-e8494f6a3d0d"
      },
      "execution_count": null,
      "outputs": [
        {
          "output_type": "stream",
          "name": "stdout",
          "text": [
            "(0, 4)\n"
          ]
        }
      ]
    },
    {
      "cell_type": "markdown",
      "source": [
        "`re.search(pattern, str)`\n",
        "\n",
        "поиск шаблона регулярного выражения в любом месте внутри строки"
      ],
      "metadata": {
        "id": "6oih_G6boO-O"
      }
    },
    {
      "cell_type": "code",
      "source": [
        "res = re.search(r\"\\d+\", target_string)\n",
        "print(res.group())"
      ],
      "metadata": {
        "colab": {
          "base_uri": "https://localhost:8080/"
        },
        "id": "7FmYbUp_oL_I",
        "outputId": "6e72b9d2-6c57-415a-9422-193cbccff530"
      },
      "execution_count": null,
      "outputs": [
        {
          "output_type": "stream",
          "name": "stdout",
          "text": [
            "300\n"
          ]
        }
      ]
    },
    {
      "cell_type": "markdown",
      "source": [
        "`re.findall(pattern, str)`\n",
        "\n",
        "Сканирует шаблон регулярного выражения по всей строке и возвращает все совпадения"
      ],
      "metadata": {
        "id": "Qpmf5AmeoXi-"
      }
    },
    {
      "cell_type": "code",
      "source": [
        "res = re.findall(r\"\\w+\", target_string)\n",
        "print(res)"
      ],
      "metadata": {
        "colab": {
          "base_uri": "https://localhost:8080/"
        },
        "id": "cAreaGoioQo6",
        "outputId": "0ed5bb66-a64d-455a-d5f2-fbdef631eb43"
      },
      "execution_count": null,
      "outputs": [
        {
          "output_type": "stream",
          "name": "stdout",
          "text": [
            "['Toss', 'a', '300', 'to', 'a', 'Witcher']\n"
          ]
        }
      ]
    },
    {
      "cell_type": "markdown",
      "source": [
        "`re.split(pattern, str)`\n",
        "\n",
        "разбивает строку на список совпадений в соответствии с заданным шаблоном регулярного выражения"
      ],
      "metadata": {
        "id": "0FRBH1oDocCQ"
      }
    },
    {
      "cell_type": "code",
      "source": [
        "res = re.split(r\"\\s\", target_string)\n",
        "print(\"All tokens:\", res)"
      ],
      "metadata": {
        "colab": {
          "base_uri": "https://localhost:8080/"
        },
        "id": "8ulbHPsSoZld",
        "outputId": "3fc49b10-aa34-41a9-d358-9c7b239dfe98"
      },
      "execution_count": null,
      "outputs": [
        {
          "output_type": "stream",
          "name": "stdout",
          "text": [
            "All tokens: ['Toss', 'a', '300$', 'to', 'a', 'Witcher']\n"
          ]
        }
      ]
    },
    {
      "cell_type": "code",
      "source": [
        "target_str = \"My phone number is (wait for it) \\n +1-234-567-89\"\n",
        "\n",
        "res = re.split(\"\\n\", target_str)\n",
        "\n",
        "print(res)"
      ],
      "metadata": {
        "colab": {
          "base_uri": "https://localhost:8080/"
        },
        "id": "aAt59224okSX",
        "outputId": "cf80fc93-fe8f-415e-be28-1d8dd62cabae"
      },
      "execution_count": null,
      "outputs": [
        {
          "output_type": "stream",
          "name": "stdout",
          "text": [
            "['My phone number is (wait for it) ', ' +1-234-567-89']\n"
          ]
        }
      ]
    },
    {
      "cell_type": "markdown",
      "source": [
        "`re.sub(pattern, replacement, str)`\n",
        "\n",
        "Замените одно или несколько вхождений шаблона в строке на`replacement`\n"
      ],
      "metadata": {
        "id": "5JKLXRJvotc8"
      }
    },
    {
      "cell_type": "code",
      "source": [
        "res = re.sub(r\"\\s\", \"_SPACE_\", target_string)\n",
        "\n",
        "print(res)"
      ],
      "metadata": {
        "colab": {
          "base_uri": "https://localhost:8080/"
        },
        "id": "hXDdvZ5Zol68",
        "outputId": "f9678d21-d304-4d53-d801-189fad1ac867"
      },
      "execution_count": null,
      "outputs": [
        {
          "output_type": "stream",
          "name": "stdout",
          "text": [
            "Toss_SPACE_a_SPACE_300$_SPACE_to_SPACE_a_SPACE_Witcher\n"
          ]
        }
      ]
    },
    {
      "cell_type": "code",
      "source": [
        "res = re.sub(r\"\\d+\", \"threehundred\", target_string)\n",
        "\n",
        "print(res)"
      ],
      "metadata": {
        "colab": {
          "base_uri": "https://localhost:8080/"
        },
        "id": "eFM7nsUdove3",
        "outputId": "dc4c7998-29c6-4585-eac7-a1135afed120"
      },
      "execution_count": null,
      "outputs": [
        {
          "output_type": "stream",
          "name": "stdout",
          "text": [
            "Toss a threehundred$ to a Witcher\n"
          ]
        }
      ]
    },
    {
      "cell_type": "markdown",
      "source": [
        "### 3. Задания для самостоятельного выполнения <a name='tasks'></a>"
      ],
      "metadata": {
        "id": "KgZCzSZco9DG"
      }
    },
    {
      "cell_type": "markdown",
      "source": [
        "* Напишите код\n",
        "* Докажите, что это работает, когда надо\n",
        "* И Не работает, когда не надо\n",
        "\n",
        "Вдохновлено [Kaggle ](https://www.kaggle.com/code/albeffe/regex-exercises-solutions)\n",
        "\n",
        "Если совсем не получается можно \"подсмотреть\""
      ],
      "metadata": {
        "id": "6m2wlWT6pNaM"
      }
    },
    {
      "cell_type": "markdown",
      "source": [
        "1) Напишите функцию на Python для проверки того, что строка содержит только определенный набор символов (в данном случае a-z, A-Z и 0-9)."
      ],
      "metadata": {
        "id": "ZVlG89GtpUr3"
      }
    },
    {
      "cell_type": "code",
      "source": [
        "# write your code here"
      ],
      "metadata": {
        "id": "IJOP_scWo5yO"
      },
      "execution_count": null,
      "outputs": []
    },
    {
      "cell_type": "markdown",
      "source": [
        "2) Напишите функцию Python, которая находит шаблон вида есть «1», за которой следует ноль или более «0»."
      ],
      "metadata": {
        "id": "gzWdCBJJpXfm"
      }
    },
    {
      "cell_type": "code",
      "source": [
        "# write your code here"
      ],
      "metadata": {
        "id": "qE5I_8a_qgyH"
      },
      "execution_count": null,
      "outputs": []
    },
    {
      "cell_type": "markdown",
      "source": [
        "3) Напишите функцию Python, которая находит шаблон вида :, за которой следует один или несколько )"
      ],
      "metadata": {
        "id": "Gaudn67HpXc9"
      }
    },
    {
      "cell_type": "code",
      "source": [
        "# write your code here"
      ],
      "metadata": {
        "id": "JdE9_hGBqhP7"
      },
      "execution_count": null,
      "outputs": []
    },
    {
      "cell_type": "markdown",
      "source": [
        "4) Напишите функцию Python, которая находит шаблон вида «цифра» (любое число), за которой следует ноль или один «небуквенный символ»."
      ],
      "metadata": {
        "id": "9K1l9H6mpXa1"
      }
    },
    {
      "cell_type": "code",
      "source": [
        "# write your code here"
      ],
      "metadata": {
        "id": "womc4ttMqhwm"
      },
      "execution_count": null,
      "outputs": []
    },
    {
      "cell_type": "markdown",
      "source": [
        "5) Напишите функцию Python, которая находит шаблон вида «I», за которой следуют три «E»."
      ],
      "metadata": {
        "id": "mAUvU_yapXYh"
      }
    },
    {
      "cell_type": "code",
      "source": [
        "# write your code here"
      ],
      "metadata": {
        "id": "9i1083XnqiOL"
      },
      "execution_count": null,
      "outputs": []
    },
    {
      "cell_type": "markdown",
      "source": [
        "6) Напишите функцию Python, которая находит шаблон вида l, за которой следует от двух до трех 3."
      ],
      "metadata": {
        "id": "kRvqUKU3pXWM"
      }
    },
    {
      "cell_type": "code",
      "source": [
        "# write your code here"
      ],
      "metadata": {
        "id": "ay8-A05vqioX"
      },
      "execution_count": null,
      "outputs": []
    },
    {
      "cell_type": "markdown",
      "source": [
        "7) Напишите функцию Python для поиска последовательностей «строчных букв», соединенных символом подчеркивания."
      ],
      "metadata": {
        "id": "2S9KUhY0pXS0"
      }
    },
    {
      "cell_type": "code",
      "source": [
        "# write your code here"
      ],
      "metadata": {
        "id": "UzihicEOqi_v"
      },
      "execution_count": null,
      "outputs": []
    },
    {
      "cell_type": "markdown",
      "source": [
        "8) Напишите функцию Python, чтобы найти последовательность «одна заглавная буква», за которой следуют «строчные буквы»."
      ],
      "metadata": {
        "id": "0wDhsnoppXPH"
      }
    },
    {
      "cell_type": "code",
      "source": [
        "# write your code here"
      ],
      "metadata": {
        "id": "vZdbdcyAqjel"
      },
      "execution_count": null,
      "outputs": []
    },
    {
      "cell_type": "markdown",
      "source": [
        "9) Напишите функцию Python, которая находит шаблон вида l, за которым следует что-либо, заканчивающееся на e"
      ],
      "metadata": {
        "id": "SwpQrQJhpXMA"
      }
    },
    {
      "cell_type": "code",
      "source": [
        "# write your code here"
      ],
      "metadata": {
        "id": "6Wvah4mpqj2C"
      },
      "execution_count": null,
      "outputs": []
    },
    {
      "cell_type": "markdown",
      "source": [
        "10) Напишите функцию Python, которая находит шаблон вида слово в начале строки.\n",
        "\n",
        "(если строка начинается с (пробел), она не должна срабатывать)"
      ],
      "metadata": {
        "id": "MV224L9YpXJW"
      }
    },
    {
      "cell_type": "code",
      "source": [
        "# write your code here"
      ],
      "metadata": {
        "id": "RZilqPlMqlwe"
      },
      "execution_count": null,
      "outputs": []
    },
    {
      "cell_type": "markdown",
      "source": [
        "11) Напишите функцию Python, которая находит шаблон вида «слово» в конце строки с «необязательной пунктуацией»\n",
        "\n",
        "(если строка заканчивается на (пробел), она не должна совпадать)"
      ],
      "metadata": {
        "id": "22sb9YChpXGg"
      }
    },
    {
      "cell_type": "code",
      "source": [
        "# write your code here"
      ],
      "metadata": {
        "id": "wpVFnmYpqmbz"
      },
      "execution_count": null,
      "outputs": []
    },
    {
      "cell_type": "markdown",
      "source": [
        "12) Напишите функцию Python, которая находит слово, содержащее q"
      ],
      "metadata": {
        "id": "KoHEw_5WpXDD"
      }
    },
    {
      "cell_type": "code",
      "source": [
        "# write your code here"
      ],
      "metadata": {
        "id": "dEQIUgPRqnAW"
      },
      "execution_count": null,
      "outputs": []
    },
    {
      "cell_type": "markdown",
      "source": [
        "13) Напишите функцию Python, которая находит слово, содержащее g , не в начале и не в конце слова."
      ],
      "metadata": {
        "id": "u7p_mtFvpWyS"
      }
    },
    {
      "cell_type": "code",
      "source": [
        "# write your code here"
      ],
      "metadata": {
        "id": "-GBCpH7JqndX"
      },
      "execution_count": null,
      "outputs": []
    },
    {
      "cell_type": "markdown",
      "source": [
        "14) Напишите функцию Python для сопоставления строки, которая содержит только «верхние» и «строчные буквы», «цифры» и «символы подчеркивания».\n",
        "\n",
        "(без пробелов)"
      ],
      "metadata": {
        "id": "6uHDfUgdp1fw"
      }
    },
    {
      "cell_type": "code",
      "source": [
        "# write your code here"
      ],
      "metadata": {
        "id": "h8HRuTBfqoIb"
      },
      "execution_count": null,
      "outputs": []
    },
    {
      "cell_type": "markdown",
      "source": [
        "15) Напишите функцию Python которая ищет шаблон вида начинается с + определенного числа (пусть это будет 7)"
      ],
      "metadata": {
        "id": "EfTWmb5Wp1xI"
      }
    },
    {
      "cell_type": "code",
      "source": [
        "# write your code here"
      ],
      "metadata": {
        "id": "S4xrTKskqowt"
      },
      "execution_count": null,
      "outputs": []
    },
    {
      "cell_type": "markdown",
      "source": [
        "16) Напишите функцию Python для удаления ведущих нулей из IP-адреса.\n",
        "\n",
        "например 255.01.092.132 -> 255.1.92.132"
      ],
      "metadata": {
        "id": "tlNA1XQep2PX"
      }
    },
    {
      "cell_type": "code",
      "source": [
        "# write your code here"
      ],
      "metadata": {
        "id": "rq4j8LfdqpOX"
      },
      "execution_count": null,
      "outputs": []
    },
    {
      "cell_type": "markdown",
      "source": [
        "\n",
        "17) Напишите функцию Python для проверки числа в конце строки"
      ],
      "metadata": {
        "id": "sT9TEzbvp2o6"
      }
    },
    {
      "cell_type": "code",
      "source": [
        "# write your code here"
      ],
      "metadata": {
        "id": "LhaaU6QKqpzU"
      },
      "execution_count": null,
      "outputs": []
    },
    {
      "cell_type": "markdown",
      "source": [
        "18) Напишите функцию на Python для поиска чисел от 0 до 9 длиной от 1 до 3 в заданной строке"
      ],
      "metadata": {
        "id": "MQI8IWuPp_Sh"
      }
    },
    {
      "cell_type": "code",
      "source": [
        "# write your code here"
      ],
      "metadata": {
        "id": "7dAdOvDgqqRx"
      },
      "execution_count": null,
      "outputs": []
    },
    {
      "cell_type": "markdown",
      "source": [
        "19) Напишите функцию на Python для поиска некоторых строк литералов в строке.\n",
        "\n",
        "Пример текста : 'The quick brown fox jumps over the lazy dog'\n",
        "\n",
        "Искомые слова: 'fox', 'dog', 'horse'"
      ],
      "metadata": {
        "id": "UoII3C6mqCXO"
      }
    },
    {
      "cell_type": "code",
      "source": [
        "# write your code here"
      ],
      "metadata": {
        "id": "5GuAC4RLqqvd"
      },
      "execution_count": null,
      "outputs": []
    },
    {
      "cell_type": "markdown",
      "source": [
        "20) Напишите функцию Python для поиска строки литералов в строке, а также найдите место в исходной строке, где встречается шаблон\n",
        "\n",
        "Пример текста: 'The quick brown fox jumps over the lazy dog.'\n",
        "\n",
        "Искомые слова: 'lazy'"
      ],
      "metadata": {
        "id": "IAbgs3xbqCuB"
      }
    },
    {
      "cell_type": "code",
      "source": [
        "# write your code here"
      ],
      "metadata": {
        "id": "lsTwE9FLqrnG"
      },
      "execution_count": null,
      "outputs": []
    },
    {
      "cell_type": "markdown",
      "source": [
        "21) Напишите функцию на Python для поиска подстрок в строке\n",
        "\n",
        "Пример текста :\n",
        "\n",
        "'Machine learning, Deep learning, life-long learning'\n",
        "\n",
        "Шаблон :\n",
        "\n",
        "'learning'"
      ],
      "metadata": {
        "id": "ih6orPqgqDAz"
      }
    },
    {
      "cell_type": "code",
      "source": [
        "# write your code here"
      ],
      "metadata": {
        "id": "dEaD3EKvqsSW"
      },
      "execution_count": null,
      "outputs": []
    },
    {
      "cell_type": "markdown",
      "source": [
        "22) Напишите функцию Python, чтобы найти вхождение и положение подстрок в строке.\n",
        "\n",
        "(предыдущий пример)"
      ],
      "metadata": {
        "id": "DLmOtm7wqDQ7"
      }
    },
    {
      "cell_type": "code",
      "source": [
        "# write your code here"
      ],
      "metadata": {
        "id": "-bcp780Gqs_t"
      },
      "execution_count": null,
      "outputs": []
    },
    {
      "cell_type": "markdown",
      "source": [
        "23) Напишите функцию Python для замены пробелов символом подчеркивания и наоборот."
      ],
      "metadata": {
        "id": "-jSqP1i2qCmK"
      }
    },
    {
      "cell_type": "markdown",
      "source": [],
      "metadata": {
        "id": "ge7WX6P2qO_Z"
      }
    },
    {
      "cell_type": "markdown",
      "source": [],
      "metadata": {
        "id": "ybjc3yiEqPSZ"
      }
    },
    {
      "cell_type": "code",
      "source": [
        "# write your code here"
      ],
      "metadata": {
        "id": "WrLFBU-vqtpl"
      },
      "execution_count": null,
      "outputs": []
    },
    {
      "cell_type": "markdown",
      "source": [
        "24) Напишите функцию Python для извлечения года, месяца и даты из URL-адреса.\n",
        "\n",
        "Предположим, формат гггг/мм/дд"
      ],
      "metadata": {
        "id": "vSl_1VTYqQRi"
      }
    },
    {
      "cell_type": "code",
      "source": [
        "# write your code here"
      ],
      "metadata": {
        "id": "w2FycZM-quZB"
      },
      "execution_count": null,
      "outputs": []
    },
    {
      "cell_type": "markdown",
      "source": [
        "25) Напишите функцию Python для преобразования даты формата гггг-мм-дд в формат дд-мм-гггг"
      ],
      "metadata": {
        "id": "Q2H4v-gQqQIF"
      }
    },
    {
      "cell_type": "markdown",
      "source": [],
      "metadata": {
        "id": "mlm5tnmMqS0t"
      }
    },
    {
      "cell_type": "code",
      "source": [
        "# write your code here"
      ],
      "metadata": {
        "id": "B8XpCIr8qvDm"
      },
      "execution_count": null,
      "outputs": []
    },
    {
      "cell_type": "markdown",
      "source": [
        "26) Напишите функцию Python для удаления кавычек \" из строки"
      ],
      "metadata": {
        "id": "wZ_z0V5pqPnE"
      }
    },
    {
      "cell_type": "code",
      "source": [
        "# write your code here"
      ],
      "metadata": {
        "id": "6o9GRg6Jqv2C"
      },
      "execution_count": null,
      "outputs": []
    },
    {
      "cell_type": "markdown",
      "source": [
        "27) Напишите функцию на Python для разделения и печати «чисел» заданной строки."
      ],
      "metadata": {
        "id": "zVQrxF-fqYr4"
      }
    },
    {
      "cell_type": "code",
      "source": [
        "# write your code here"
      ],
      "metadata": {
        "id": "TMtvVYAsqwNT"
      },
      "execution_count": null,
      "outputs": []
    },
    {
      "cell_type": "markdown",
      "source": [
        "28) Напишите функцию на Python для поиска всех слов, начинающихся с «f» или «t» в заданной строке."
      ],
      "metadata": {
        "id": "eVNSnSScqbtd"
      }
    },
    {
      "cell_type": "code",
      "source": [
        "# write your code here"
      ],
      "metadata": {
        "id": "MA8yw-I9qwiF"
      },
      "execution_count": null,
      "outputs": []
    },
    {
      "cell_type": "markdown",
      "source": [
        "29) Напишите функцию на Python для разделения и вывода чисел и их положения в заданной строке."
      ],
      "metadata": {
        "id": "qh03XTH1qdEO"
      }
    },
    {
      "cell_type": "code",
      "source": [
        "# write your code here"
      ],
      "metadata": {
        "id": "RZ4h2axnqw6k"
      },
      "execution_count": null,
      "outputs": []
    },
    {
      "cell_type": "markdown",
      "source": [
        "30) Напишите функцию на Python, чтобы сокращать 'Doctor' как 'Dr.' в заданной строке."
      ],
      "metadata": {
        "id": "L2D9BZSaqewt"
      }
    },
    {
      "cell_type": "code",
      "source": [
        "# write your code here"
      ],
      "metadata": {
        "id": "LGsqnY8mqxYD"
      },
      "execution_count": null,
      "outputs": []
    }
  ]
}