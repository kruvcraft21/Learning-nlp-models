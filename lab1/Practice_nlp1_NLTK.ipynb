{
  "cells": [
    {
      "cell_type": "markdown",
      "metadata": {
        "colab_type": "text",
        "id": "view-in-github"
      },
      "source": [
        "<a href=\"https://colab.research.google.com/github/kruvcraft21/Learning-nlp-models/blob/master/Practice_nlp1_NLTK.ipynb\" target=\"_parent\"><img src=\"https://colab.research.google.com/assets/colab-badge.svg\" alt=\"Open In Colab\"/></a>"
      ]
    },
    {
      "cell_type": "markdown",
      "metadata": {
        "id": "FpNAA85wy3rs"
      },
      "source": [
        "<h1> Материалы курса \"Обработка естественного языка\" </h1>\n",
        "\n",
        "<h2> Практическое занятие № 1.2 </h2>\n",
        "\n",
        "<h2> Тема: \"Основы работы с библиотекой NLTK </h2>"
      ]
    },
    {
      "cell_type": "markdown",
      "metadata": {
        "id": "4ysa_F_vcRGS"
      },
      "source": [
        "[Все взято из оригинальной книжки по библиотеке NLTK](https://www.nltk.org/book/ch01.html)"
      ]
    },
    {
      "cell_type": "markdown",
      "metadata": {
        "id": "7i_VUnU91Fhw"
      },
      "source": [
        "**NLTK** — это свободно распространяемая библиотека Python, разработанная для работы с естественным языком. Это комплексный набор инструментов, предназначенный для символьной и статистической обработки естественного языка. Она предоставляет легкий доступ к более чем 50 корпусам текстов и лексическим ресурсам, таким как WordNet, а также набор инструментов для классификации, токенизации, стемминга, меток частей речи, синтаксического анализа и семантического рассуждения."
      ]
    },
    {
      "cell_type": "markdown",
      "metadata": {
        "id": "vCGiBvd3QBFl"
      },
      "source": [
        "# Блок импорта и загрузки"
      ]
    },
    {
      "cell_type": "markdown",
      "metadata": {
        "id": "_kCCjtUEzGDH"
      },
      "source": [
        "Наша библиотека на сегодня"
      ]
    },
    {
      "cell_type": "code",
      "execution_count": 1,
      "metadata": {
        "id": "hDU8q5BhPkja"
      },
      "outputs": [],
      "source": [
        "import nltk\n",
        "\n",
        "import re"
      ]
    },
    {
      "cell_type": "markdown",
      "metadata": {
        "id": "OyVfvCF8zDn4"
      },
      "source": [
        "Будем также рисовать"
      ]
    },
    {
      "cell_type": "code",
      "execution_count": 2,
      "metadata": {
        "id": "dRY0QzNDdGw5"
      },
      "outputs": [],
      "source": [
        "import matplotlib.pyplot as plt"
      ]
    },
    {
      "cell_type": "markdown",
      "metadata": {
        "id": "iUA6GH6wjBJX"
      },
      "source": [
        "# Структура корпусов в NLTK"
      ]
    },
    {
      "cell_type": "markdown",
      "metadata": {
        "id": "Cdzl-kI0jFzn"
      },
      "source": [
        "* `fileids()`\tфайлы корпуса\n",
        "* `fileids([categories])`\tфайлы корпуса, соответствующие категориям `categories`\n",
        "* `categories()`\tкатегории корпуса\n",
        "* `categories([fileids])`\tкатегории корпуса, соответствующие файлам `fileids`\n",
        "* `raw()`\tнеобработанное содержимое корпуса\n",
        "* `raw(fileids=[f1,f2,f3])`\tнеобработанное содержимое указанных файлов\n",
        "* `raw(categories=[c1,c2])`\tнеобработанное содержимое указанных категорий\n",
        "* `words()`\tслова всего корпуса\n",
        "* `words(fileids=[f1,f2,f3])`\tслова указанных файлов\n",
        "* `words(categories=[c1,c2])`\tслова указанных категорий\n",
        "* `sents()`\tпредложения всего корпуса\n",
        "* `sents(fileids=[f1,f2,f3])`\tпредложения указанных файлов\n",
        "* `sents(categories=[c1,c2])`\tпредложения указанных категорий\n",
        "* `readme()`\tсодержимое файла README корпуса"
      ]
    },
    {
      "cell_type": "markdown",
      "metadata": {
        "id": "-evYIkqr0WMg"
      },
      "source": [
        "**Поехали смотреть, что тут у нас есть**"
      ]
    },
    {
      "cell_type": "markdown",
      "metadata": {
        "id": "_63YwGo-5gWC"
      },
      "source": [
        "# **Корпус Gutenberg**\n",
        "\n",
        "NLTK включает небольшую подборку текстов из электронного текстового архива Project Gutenberg, который содержит около 25 000 бесплатных электронных книг, размещенных по адресу http://www.gutenberg.org/."
      ]
    },
    {
      "cell_type": "code",
      "execution_count": 3,
      "metadata": {
        "colab": {
          "base_uri": "https://localhost:8080/"
        },
        "id": "KRMCwkd2Qcez",
        "outputId": "99093f10-6755-4470-b6fb-aafc2a0fde85"
      },
      "outputs": [
        {
          "name": "stderr",
          "output_type": "stream",
          "text": [
            "[nltk_data] Downloading package gutenberg to /home/egor/nltk_data...\n",
            "[nltk_data]   Package gutenberg is already up-to-date!\n"
          ]
        },
        {
          "data": {
            "text/plain": [
              "True"
            ]
          },
          "execution_count": 3,
          "metadata": {},
          "output_type": "execute_result"
        }
      ],
      "source": [
        "nltk.download('gutenberg')"
      ]
    },
    {
      "cell_type": "code",
      "execution_count": 4,
      "metadata": {
        "id": "KuQkBYSpY107"
      },
      "outputs": [],
      "source": [
        "from nltk.corpus import gutenberg"
      ]
    },
    {
      "cell_type": "markdown",
      "metadata": {
        "id": "Knww7EfoY5Gz"
      },
      "source": [
        "Смотрим на книжки"
      ]
    },
    {
      "cell_type": "code",
      "execution_count": 5,
      "metadata": {
        "colab": {
          "base_uri": "https://localhost:8080/"
        },
        "id": "1wuffiYaY7gb",
        "outputId": "4e900797-da52-4c8e-f62e-fb718a12bc2f"
      },
      "outputs": [
        {
          "data": {
            "text/plain": [
              "['austen-emma.txt',\n",
              " 'austen-persuasion.txt',\n",
              " 'austen-sense.txt',\n",
              " 'bible-kjv.txt',\n",
              " 'blake-poems.txt',\n",
              " 'bryant-stories.txt',\n",
              " 'burgess-busterbrown.txt',\n",
              " 'carroll-alice.txt',\n",
              " 'chesterton-ball.txt',\n",
              " 'chesterton-brown.txt',\n",
              " 'chesterton-thursday.txt',\n",
              " 'edgeworth-parents.txt',\n",
              " 'melville-moby_dick.txt',\n",
              " 'milton-paradise.txt',\n",
              " 'shakespeare-caesar.txt',\n",
              " 'shakespeare-hamlet.txt',\n",
              " 'shakespeare-macbeth.txt',\n",
              " 'whitman-leaves.txt']"
            ]
          },
          "execution_count": 5,
          "metadata": {},
          "output_type": "execute_result"
        }
      ],
      "source": [
        "gutenberg.fileids()"
      ]
    },
    {
      "cell_type": "code",
      "execution_count": 6,
      "metadata": {
        "colab": {
          "base_uri": "https://localhost:8080/",
          "height": 123
        },
        "id": "WdFpatYe26Jq",
        "outputId": "06212d09-08d7-4be0-d7e0-ef7660d53dfe"
      },
      "outputs": [
        {
          "data": {
            "text/plain": [
              "'Project Gutenberg Selections\\nhttp://gutenberg.net/\\n\\nThis corpus contains etexts from from Project Gutenberg,\\nby the following authors:\\n\\n* Jane Austen (3)\\n* William Blake (2)\\n* Thornton W. Burgess\\n* Sarah Cone Bryant\\n* Lewis Carroll\\n* G. K. Chesterton (3)\\n* Maria Edgeworth\\n* King James Bible\\n* Herman Melville\\n* John Milton\\n* William Shakespeare (3)\\n* Walt Whitman\\n\\nThe beginning of the body of each book could not be identified automatically,\\nso the semi-generic header of each file has been removed, and included below.\\nSome source files ended with a line \"End of The Project Gutenberg Etext...\",\\nand this has been deleted.\\n\\nInformation about Project Gutenberg (one page)\\n\\nWe produce about two million dollars for each hour we work.  The\\nfifty hours is one conservative estimate for how long it we take\\nto get any etext selected, entered, proofread, edited, copyright\\nsearched and analyzed, the copyright letters written, etc.  This\\nprojected audience is one hundred million readers.  If our value\\nper text is nominally estimated at one dollar, then we produce 2\\nmillion dollars per hour this year we, will have to do four text\\nfiles per month:  thus upping our productivity from one million.\\nThe Goal of Project Gutenberg is to Give Away One Trillion Etext\\nFiles by the December 31, 2001.  [10,000 x 100,000,000=Trillion]\\nThis is ten thousand titles each to one hundred million readers,\\nwhich is 10% of the expected number of computer users by the end\\nof the year 2001.\\n\\nWe need your donations more than ever!\\n\\nAll donations should be made to \"Project Gutenberg/IBC\", and are\\ntax deductible to the extent allowable by law (\"IBC\" is Illinois\\nBenedictine College).  (Subscriptions to our paper newsletter go\\nto IBC, too)\\n\\nFor these and other matters, please mail to:\\n\\nProject Gutenberg\\nP. O. Box  2782\\nChampaign, IL 61825\\n\\nWhen all other email fails try our Michael S. Hart, Executive\\nDirector:\\nhart@vmd.cso.uiuc.edu (internet)   hart@uiucvmd   (bitnet)\\n\\nWe would prefer to send you this information by email\\n(Internet, Bitnet, Compuserve, ATTMAIL or MCImail).\\n\\n******\\nIf you have an FTP program (or emulator), please\\nFTP directly to the Project Gutenberg archives:\\n[Mac users, do NOT point and click. . .type]\\n\\nftp mrcnext.cso.uiuc.edu\\nlogin:  anonymous\\npassword:  your@login\\ncd etext/etext91\\nor cd etext92\\nor cd etext93 [for new books]  [now also in cd etext/etext93]\\nor cd etext/articles [get suggest gut for more information]\\ndir [to see files]\\nget or mget [to get files. . .set bin for zip files]\\nget INDEX100.GUT\\nget INDEX200.GUT\\nfor a list of books\\nand\\nget NEW.GUT for general information\\nand\\nmget GUT* for newsletters.\\n\\n**Information prepared by the Project Gutenberg legal advisor**\\n(Three Pages)\\n\\n\\n***START**THE SMALL PRINT!**FOR PUBLIC DOMAIN ETEXTS**START***\\nWhy is this \"Small Print!\" statement here?  You know: lawyers.\\nThey tell us you might sue us if there is something wrong with\\nyour copy of this etext, even if you got it for free from\\nsomeone other than us, and even if what\\'s wrong is not our\\nfault.  So, among other things, this \"Small Print!\" statement\\ndisclaims most of our liability to you.  It also tells you how\\nyou can distribute copies of this etext if you want to.\\n\\n*BEFORE!* YOU USE OR READ THIS ETEXT\\nBy using or reading any part of this PROJECT GUTENBERG-tm\\netext, you indicate that you understand, agree to and accept\\nthis \"Small Print!\" statement.  If you do not, you can receive\\na refund of the money (if any) you paid for this etext by\\nsending a request within 30 days of receiving it to the person\\nyou got it from.  If you received this etext on a physical\\nmedium (such as a disk), you must return it with your request.\\n\\nABOUT PROJECT GUTENBERG-TM ETEXTS\\nThis PROJECT GUTENBERG-tm etext, like most PROJECT GUTENBERG-\\ntm etexts, is a \"public domain\" work distributed by Professor\\nMichael S. Hart through the Project Gutenberg Association at\\nIllinois Benedictine College (the \"Project\").  Among other\\nthings, this means that no one owns a United States copyright\\non or for this work, so the Project (and you!) can copy and\\ndistribute it in the United States without permission and\\nwithout paying copyright royalties.  Special rules, set forth\\nbelow, apply if you wish to copy and distribute this etext\\nunder the Project\\'s \"PROJECT GUTENBERG\" trademark.\\n\\nTo create these etexts, the Project expends considerable\\nefforts to identify, transcribe and proofread public domain\\nworks.  Despite these efforts, the Project\\'s etexts and any\\nmedium they may be on may contain \"Defects\".  Among other\\nthings, Defects may take the form of incomplete, inaccurate or\\ncorrupt data, transcription errors, a copyright or other\\nintellectual property infringement, a defective or damaged\\ndisk or other etext medium, a computer virus, or computer\\ncodes that damage or cannot be read by your equipment.\\n\\nLIMITED WARRANTY; DISCLAIMER OF DAMAGES\\nBut for the \"Right of Replacement or Refund\" described below,\\n[1] the Project (and any other party you may receive this\\netext from as a PROJECT GUTENBERG-tm etext) disclaims all\\nliability to you for damages, costs and expenses, including\\nlegal fees, and [2] YOU HAVE NO REMEDIES FOR NEGLIGENCE OR\\nUNDER STRICT LIABILITY, OR FOR BREACH OF WARRANTY OR CONTRACT,\\nINCLUDING BUT NOT LIMITED TO INDIRECT, CONSEQUENTIAL, PUNITIVE\\nOR INCIDENTAL DAMAGES, EVEN IF YOU GIVE NOTICE OF THE\\nPOSSIBILITY OF SUCH DAMAGES.\\n\\nIf you discover a Defect in this etext within 90 days of\\nreceiving it, you can receive a refund of the money (if any)\\nyou paid for it by sending an explanatory note within that\\ntime to the person you received it from.  If you received it\\non a physical medium, you must return it with your note, and\\nsuch person may choose to alternatively give you a replacement\\ncopy.  If you received it electronically, such person may\\nchoose to alternatively give you a second opportunity to\\nreceive it electronically.\\n\\nTHIS ETEXT IS OTHERWISE PROVIDED TO YOU \"AS-IS\".  NO OTHER\\nWARRANTIES OF ANY KIND, EXPRESS OR IMPLIED, ARE MADE TO YOU AS\\nTO THE ETEXT OR ANY MEDIUM IT MAY BE ON, INCLUDING BUT NOT\\nLIMITED TO WARRANTIES OF MERCHANTABILITY OR FITNESS FOR A\\nPARTICULAR PURPOSE.\\n\\nSome states do not allow disclaimers of implied warranties or\\nthe exclusion or limitation of consequential damages, so the\\nabove disclaimers and exclusions may not apply to you, and you\\nmay have other legal rights.\\n\\nINDEMNITY\\nYou will indemnify and hold the Project, its directors,\\nofficers, members and agents harmless from all liability, cost\\nand expense, including legal fees, that arise directly or\\nindirectly from any of the following that you do or cause:\\n[1] distribution of this etext, [2] alteration, modification,\\nor addition to the etext, or [3] any Defect.\\n\\nDISTRIBUTION UNDER \"PROJECT GUTENBERG-tm\"\\nYou may distribute copies of this etext electronically, or by\\ndisk, book or any other medium if you either delete this\\n\"Small Print!\" and all other references to Project Gutenberg,\\nor:\\n\\n[1]  Only give exact copies of it.  Among other things, this\\n     requires that you do not remove, alter or modify the\\n     etext or this \"small print!\" statement.  You may however,\\n     if you wish, distribute this etext in machine readable\\n     binary, compressed, mark-up, or proprietary form,\\n     including any form resulting from conversion by word pro-\\n     cessing or hypertext software, but only so long as\\n     *EITHER*:\\n\\n     [*]  The etext, when displayed, is clearly readable, and\\n          does *not* contain characters other than those\\n          intended by the author of the work, although tilde\\n          (~), asterisk (*) and underline (_) characters may\\n          be used to convey punctuation intended by the\\n          author, and additional characters may be used to\\n          indicate hypertext links; OR\\n\\n     [*]  The etext may be readily converted by the reader at\\n          no expense into plain ASCII, EBCDIC or equivalent\\n          form by the program that displays the etext (as is\\n          the case, for instance, with most word processors);\\n          OR\\n\\n     [*]  You provide, or agree to also provide on request at\\n          no additional cost, fee or expense, a copy of the\\n          etext in its original plain ASCII form (or in EBCDIC\\n          or other equivalent proprietary form).\\n\\n[2]  Honor the etext refund and replacement provisions of this\\n     \"Small Print!\" statement.\\n\\n[3]  Pay a trademark license fee to the Project of 20% of the\\n     net profits you derive calculated using the method you\\n     already use to calculate your applicable taxes.  If you\\n     don\\'t derive profits, no royalty is due.  Royalties are\\n     payable to \"Project Gutenberg Association / Illinois\\n     Benedictine College\" within the 60 days following each\\n     date you prepare (or were legally required to prepare)\\n     your annual (or equivalent periodic) tax return.\\n\\nWHAT IF YOU *WANT* TO SEND MONEY EVEN IF YOU DON\\'T HAVE TO?\\nThe Project gratefully accepts contributions in money, time,\\nscanning machines, OCR software, public domain etexts, royalty\\nfree copyright licenses, and every other sort of contribution\\nyou can think of.  Money should be paid to \"Project Gutenberg\\nAssociation / Illinois Benedictine College\".\\n\\nThis \"Small Print!\" by Charles B. Kramer, Attorney\\nInternet (72600.2026@compuserve.com); TEL: (212-254-5093)\\n*END*THE SMALL PRINT! FOR PUBLIC DOMAIN ETEXTS*Ver.04.29.93*END*\\n'"
            ]
          },
          "execution_count": 6,
          "metadata": {},
          "output_type": "execute_result"
        }
      ],
      "source": [
        "gutenberg.readme()"
      ]
    },
    {
      "cell_type": "markdown",
      "metadata": {
        "id": "P-b1RIIgZBSD"
      },
      "source": [
        "Корпус с пунктуацией"
      ]
    },
    {
      "cell_type": "code",
      "execution_count": 7,
      "metadata": {
        "colab": {
          "base_uri": "https://localhost:8080/"
        },
        "id": "6BmsduetZAFE",
        "outputId": "e539a3b7-0241-4c6c-fc7f-e36528d645e3"
      },
      "outputs": [
        {
          "name": "stderr",
          "output_type": "stream",
          "text": [
            "[nltk_data] Downloading package punkt to /home/egor/nltk_data...\n",
            "[nltk_data]   Package punkt is already up-to-date!\n",
            "[nltk_data] Downloading package punkt_tab to /home/egor/nltk_data...\n",
            "[nltk_data]   Package punkt_tab is already up-to-date!\n"
          ]
        },
        {
          "data": {
            "text/plain": [
              "True"
            ]
          },
          "execution_count": 7,
          "metadata": {},
          "output_type": "execute_result"
        }
      ],
      "source": [
        "nltk.download('punkt')\n",
        "nltk.download('punkt_tab')"
      ]
    },
    {
      "cell_type": "markdown",
      "metadata": {
        "id": "VOyY7uGdZEqP"
      },
      "source": [
        "**Немного базовой статистики по книгам**\n",
        "\n",
        "* средняя длина слова (в буквах)\n",
        "* средняя длина предложения (в словах)\n",
        "* среднее количество раз, когда каждый элемент лексики встречается в тексте"
      ]
    },
    {
      "cell_type": "markdown",
      "metadata": {
        "id": "8xrJlTa3chsu"
      },
      "source": [
        "`raw()` метод дает нам содержимое файла без какой-либо лингвистической обработки\n",
        "\n",
        "`sents()` метод делит текст на предложения, где каждое предложение представляет собой список слов"
      ]
    },
    {
      "cell_type": "code",
      "execution_count": 8,
      "metadata": {
        "colab": {
          "base_uri": "https://localhost:8080/"
        },
        "id": "gsKLBHo7ZIeG",
        "outputId": "2a904788-1852-4de8-80fd-7a088190b2c2"
      },
      "outputs": [
        {
          "name": "stdout",
          "output_type": "stream",
          "text": [
            "В книге - austen-emma.txt, средняя длина слов 5 букв; Всего слов: 192427; Средняя длина предложения: 25 слов; Количество уникальных слов: 7344; Отдельное слово встречается в среднем 26 раз\n",
            "В книге - austen-persuasion.txt, средняя длина слов 5 букв; Всего слов: 98171; Средняя длина предложения: 26 слов; Количество уникальных слов: 5835; Отдельное слово встречается в среднем 17 раз\n",
            "В книге - austen-sense.txt, средняя длина слов 5 букв; Всего слов: 141576; Средняя длина предложения: 28 слов; Количество уникальных слов: 6403; Отдельное слово встречается в среднем 22 раз\n",
            "В книге - bible-kjv.txt, средняя длина слов 4 букв; Всего слов: 1010654; Средняя длина предложения: 34 слов; Количество уникальных слов: 12767; Отдельное слово встречается в среднем 79 раз\n",
            "В книге - blake-poems.txt, средняя длина слов 5 букв; Всего слов: 8354; Средняя длина предложения: 19 слов; Количество уникальных слов: 1535; Отдельное слово встречается в среднем 5 раз\n",
            "В книге - bryant-stories.txt, средняя длина слов 4 букв; Всего слов: 55563; Средняя длина предложения: 19 слов; Количество уникальных слов: 3940; Отдельное слово встречается в среднем 14 раз\n",
            "В книге - burgess-busterbrown.txt, средняя длина слов 4 букв; Всего слов: 18963; Средняя длина предложения: 18 слов; Количество уникальных слов: 1559; Отдельное слово встречается в среднем 12 раз\n",
            "В книге - carroll-alice.txt, средняя длина слов 4 букв; Всего слов: 34110; Средняя длина предложения: 20 слов; Количество уникальных слов: 2636; Отдельное слово встречается в среднем 13 раз\n",
            "В книге - chesterton-ball.txt, средняя длина слов 5 букв; Всего слов: 96996; Средняя длина предложения: 20 слов; Количество уникальных слов: 8335; Отдельное слово встречается в среднем 12 раз\n",
            "В книге - chesterton-brown.txt, средняя длина слов 5 букв; Всего слов: 86063; Средняя длина предложения: 23 слов; Количество уникальных слов: 7794; Отдельное слово встречается в среднем 11 раз\n",
            "В книге - chesterton-thursday.txt, средняя длина слов 5 букв; Всего слов: 69213; Средняя длина предложения: 18 слов; Количество уникальных слов: 6349; Отдельное слово встречается в среднем 11 раз\n",
            "В книге - edgeworth-parents.txt, средняя длина слов 4 букв; Всего слов: 210663; Средняя длина предложения: 21 слов; Количество уникальных слов: 8447; Отдельное слово встречается в среднем 25 раз\n",
            "В книге - melville-moby_dick.txt, средняя длина слов 5 букв; Всего слов: 260819; Средняя длина предложения: 26 слов; Количество уникальных слов: 17231; Отдельное слово встречается в среднем 15 раз\n",
            "В книге - milton-paradise.txt, средняя длина слов 5 букв; Всего слов: 96825; Средняя длина предложения: 52 слов; Количество уникальных слов: 9021; Отдельное слово встречается в среднем 11 раз\n",
            "В книге - shakespeare-caesar.txt, средняя длина слов 4 букв; Всего слов: 25833; Средняя длина предложения: 12 слов; Количество уникальных слов: 3032; Отдельное слово встречается в среднем 9 раз\n",
            "В книге - shakespeare-hamlet.txt, средняя длина слов 4 букв; Всего слов: 37360; Средняя длина предложения: 12 слов; Количество уникальных слов: 4716; Отдельное слово встречается в среднем 8 раз\n",
            "В книге - shakespeare-macbeth.txt, средняя длина слов 4 букв; Всего слов: 23140; Средняя длина предложения: 12 слов; Количество уникальных слов: 3464; Отдельное слово встречается в среднем 7 раз\n",
            "В книге - whitman-leaves.txt, средняя длина слов 5 букв; Всего слов: 154883; Средняя длина предложения: 36 слов; Количество уникальных слов: 12452; Отдельное слово встречается в среднем 12 раз\n"
          ]
        }
      ],
      "source": [
        "for fileid in gutenberg.fileids():\n",
        "     num_chars = len(gutenberg.raw(fileid))\n",
        "     num_words = len(gutenberg.words(fileid))\n",
        "     num_sents = len(gutenberg.sents(fileid))\n",
        "     num_vocab = len(set(w.lower() for w in gutenberg.words(fileid)))\n",
        "     print(\"В книге - {}, средняя длина слов {} букв; Всего слов: {}; Средняя длина предложения: {} слов; Количество уникальных слов: {}; Отдельное слово встречается в среднем {} раз\".format(\n",
        "          fileid,\n",
        "          round(num_chars/num_words),\n",
        "          num_words,\n",
        "          round(num_words/num_sents),\n",
        "          num_vocab,\n",
        "          round(num_words/num_vocab))\n",
        ")"
      ]
    },
    {
      "cell_type": "markdown",
      "metadata": {
        "id": "a4IweyiPdhET"
      },
      "source": [
        "**Допустим, мы хотим найти самое длинное предложение**\n",
        "\n"
      ]
    },
    {
      "cell_type": "code",
      "execution_count": 9,
      "metadata": {
        "colab": {
          "base_uri": "https://localhost:8080/"
        },
        "id": "Y2j7YLkUdwxb",
        "outputId": "a421f1c7-8e01-4afa-94f3-8bb761d6940f"
      },
      "outputs": [
        {
          "data": {
            "text/plain": [
              "[['Doubtfull',\n",
              "  'it',\n",
              "  'stood',\n",
              "  ',',\n",
              "  'As',\n",
              "  'two',\n",
              "  'spent',\n",
              "  'Swimmers',\n",
              "  ',',\n",
              "  'that',\n",
              "  'doe',\n",
              "  'cling',\n",
              "  'together',\n",
              "  ',',\n",
              "  'And',\n",
              "  'choake',\n",
              "  'their',\n",
              "  'Art',\n",
              "  ':',\n",
              "  'The',\n",
              "  'mercilesse',\n",
              "  'Macdonwald',\n",
              "  '(',\n",
              "  'Worthie',\n",
              "  'to',\n",
              "  'be',\n",
              "  'a',\n",
              "  'Rebell',\n",
              "  ',',\n",
              "  'for',\n",
              "  'to',\n",
              "  'that',\n",
              "  'The',\n",
              "  'multiplying',\n",
              "  'Villanies',\n",
              "  'of',\n",
              "  'Nature',\n",
              "  'Doe',\n",
              "  'swarme',\n",
              "  'vpon',\n",
              "  'him',\n",
              "  ')',\n",
              "  'from',\n",
              "  'the',\n",
              "  'Westerne',\n",
              "  'Isles',\n",
              "  'Of',\n",
              "  'Kernes',\n",
              "  'and',\n",
              "  'Gallowgrosses',\n",
              "  'is',\n",
              "  'supply',\n",
              "  \"'\",\n",
              "  'd',\n",
              "  ',',\n",
              "  'And',\n",
              "  'Fortune',\n",
              "  'on',\n",
              "  'his',\n",
              "  'damned',\n",
              "  'Quarry',\n",
              "  'smiling',\n",
              "  ',',\n",
              "  'Shew',\n",
              "  \"'\",\n",
              "  'd',\n",
              "  'like',\n",
              "  'a',\n",
              "  'Rebells',\n",
              "  'Whore',\n",
              "  ':',\n",
              "  'but',\n",
              "  'all',\n",
              "  \"'\",\n",
              "  's',\n",
              "  'too',\n",
              "  'weake',\n",
              "  ':',\n",
              "  'For',\n",
              "  'braue',\n",
              "  'Macbeth',\n",
              "  '(',\n",
              "  'well',\n",
              "  'hee',\n",
              "  'deserues',\n",
              "  'that',\n",
              "  'Name',\n",
              "  ')',\n",
              "  'Disdayning',\n",
              "  'Fortune',\n",
              "  ',',\n",
              "  'with',\n",
              "  'his',\n",
              "  'brandisht',\n",
              "  'Steele',\n",
              "  ',',\n",
              "  'Which',\n",
              "  'smoak',\n",
              "  \"'\",\n",
              "  'd',\n",
              "  'with',\n",
              "  'bloody',\n",
              "  'execution',\n",
              "  '(',\n",
              "  'Like',\n",
              "  'Valours',\n",
              "  'Minion',\n",
              "  ')',\n",
              "  'caru',\n",
              "  \"'\",\n",
              "  'd',\n",
              "  'out',\n",
              "  'his',\n",
              "  'passage',\n",
              "  ',',\n",
              "  'Till',\n",
              "  'hee',\n",
              "  'fac',\n",
              "  \"'\",\n",
              "  'd',\n",
              "  'the',\n",
              "  'Slaue',\n",
              "  ':',\n",
              "  'Which',\n",
              "  'neu',\n",
              "  \"'\",\n",
              "  'r',\n",
              "  'shooke',\n",
              "  'hands',\n",
              "  ',',\n",
              "  'nor',\n",
              "  'bad',\n",
              "  'farwell',\n",
              "  'to',\n",
              "  'him',\n",
              "  ',',\n",
              "  'Till',\n",
              "  'he',\n",
              "  'vnseam',\n",
              "  \"'\",\n",
              "  'd',\n",
              "  'him',\n",
              "  'from',\n",
              "  'the',\n",
              "  'Naue',\n",
              "  'toth',\n",
              "  \"'\",\n",
              "  'Chops',\n",
              "  ',',\n",
              "  'And',\n",
              "  'fix',\n",
              "  \"'\",\n",
              "  'd',\n",
              "  'his',\n",
              "  'Head',\n",
              "  'vpon',\n",
              "  'our',\n",
              "  'Battlements']]"
            ]
          },
          "execution_count": 9,
          "metadata": {},
          "output_type": "execute_result"
        }
      ],
      "source": [
        "macbeth_sentences = gutenberg.sents('shakespeare-macbeth.txt')\n",
        "\n",
        "longest_len = max(len(s) for s in macbeth_sentences)\n",
        "\n",
        "[s for s in macbeth_sentences if len(s) == longest_len]"
      ]
    },
    {
      "cell_type": "markdown",
      "metadata": {
        "id": "rc_6zJ0JeIci"
      },
      "source": [
        "**Поиск текста**\n",
        "\n",
        "`concordance` показывает нам каждое вхождение данного слова вместе с некоторым контекстом"
      ]
    },
    {
      "cell_type": "code",
      "execution_count": 10,
      "metadata": {
        "id": "7cRJdTqok5jh"
      },
      "outputs": [],
      "source": [
        "from nltk.text import Text"
      ]
    },
    {
      "cell_type": "code",
      "execution_count": 11,
      "metadata": {
        "id": "Ej3oWRQUfcts"
      },
      "outputs": [],
      "source": [
        "corpus_moby_dick = gutenberg.words('melville-moby_dick.txt')\n",
        "text_moby_dick = Text(corpus_moby_dick)"
      ]
    },
    {
      "cell_type": "code",
      "execution_count": 12,
      "metadata": {
        "colab": {
          "base_uri": "https://localhost:8080/"
        },
        "id": "2whpDzPNec3K",
        "outputId": "1c210e25-5e34-414d-d0a5-ef7bcf339fa3"
      },
      "outputs": [
        {
          "name": "stdout",
          "output_type": "stream",
          "text": [
            "Displaying 11 of 11 matches:\n",
            "ong the former , one was of a most monstrous size . ... This came towards us , \n",
            "ON OF THE PSALMS . \" Touching that monstrous bulk of the whale or ork we have r\n",
            "ll over with a heathenish array of monstrous clubs and spears . Some were thick\n",
            "d as you gazed , and wondered what monstrous cannibal and savage could ever hav\n",
            "that has survived the flood ; most monstrous and most mountainous ! That Himmal\n",
            "they might scout at Moby Dick as a monstrous fable , or still worse and more de\n",
            "th of Radney .'\" CHAPTER 55 Of the Monstrous Pictures of Whales . I shall ere l\n",
            "ing Scenes . In connexion with the monstrous pictures of whales , I am strongly\n",
            "ere to enter upon those still more monstrous stories of them which are to be fo\n",
            "ght have been rummaged out of this monstrous cabinet there is no telling . But \n",
            "of Whale - Bones ; for Whales of a monstrous size are oftentimes cast up dead u\n"
          ]
        }
      ],
      "source": [
        "text_moby_dick.concordance(\"monstrous\", )"
      ]
    },
    {
      "cell_type": "markdown",
      "metadata": {
        "id": "m246u6C5g0Ds"
      },
      "source": [
        "**Можно находить похожие слова**\n",
        "\n",
        "По контексту"
      ]
    },
    {
      "cell_type": "code",
      "execution_count": 13,
      "metadata": {
        "colab": {
          "base_uri": "https://localhost:8080/"
        },
        "id": "mCnNZx8HgxLi",
        "outputId": "dfe46a8d-ef0c-4662-f0c0-efaed6b2aadf"
      },
      "outputs": [
        {
          "name": "stdout",
          "output_type": "stream",
          "text": [
            "true contemptible christian abundant few part mean careful puzzled\n",
            "mystifying passing curious loving wise doleful gamesome singular\n",
            "delightfully perilous fearless\n"
          ]
        }
      ],
      "source": [
        "text_moby_dick.similar(\"monstrous\",)"
      ]
    },
    {
      "cell_type": "code",
      "execution_count": 14,
      "metadata": {
        "colab": {
          "base_uri": "https://localhost:8080/"
        },
        "id": "QcQx9Fb-g8Hr",
        "outputId": "7bcbb681-5bc3-4912-850d-5fa61e0b9a18"
      },
      "outputs": [
        {
          "name": "stdout",
          "output_type": "stream",
          "text": [
            "Displaying 4 of 4 matches:\n",
            ", we shall find they will appear contemptible in the comparison . The whale is\n",
            " God ? Miserable man ! Oh ! most contemptible and worthy of all scorn ; with s\n",
            "s these pig - fish are a noisy , contemptible set , mostly lurking in the mout\n",
            " harm , it may possibly be of no contemptible advantage ; considering that oil\n"
          ]
        }
      ],
      "source": [
        "text_moby_dick.concordance(\"contemptible\" )"
      ]
    },
    {
      "cell_type": "code",
      "execution_count": 15,
      "metadata": {
        "colab": {
          "base_uri": "https://localhost:8080/"
        },
        "id": "pdNM228xhZNS",
        "outputId": "c254795a-609f-4670-a30f-ddba0259b9fc"
      },
      "outputs": [
        {
          "name": "stdout",
          "output_type": "stream",
          "text": [
            "most_and\n"
          ]
        }
      ],
      "source": [
        "text_moby_dick.common_contexts([\"monstrous\", \"contemptible\"])"
      ]
    },
    {
      "cell_type": "markdown",
      "metadata": {
        "id": "vuqv3GlHim9x"
      },
      "source": [
        "Можно обмазаться метриками про \"разноообразии лексики\""
      ]
    },
    {
      "cell_type": "code",
      "execution_count": 16,
      "metadata": {
        "id": "YyoaKh6winzF"
      },
      "outputs": [],
      "source": [
        "def lexical_diversity(text):\n",
        "    return len(set(text)) / len(text)"
      ]
    },
    {
      "cell_type": "code",
      "execution_count": 17,
      "metadata": {
        "colab": {
          "base_uri": "https://localhost:8080/"
        },
        "id": "7gNszzhkinzG",
        "outputId": "42b7b46a-d563-4049-e7eb-584c2b02f27b"
      },
      "outputs": [
        {
          "data": {
            "text/plain": [
              "0.07406285585022564"
            ]
          },
          "execution_count": 17,
          "metadata": {},
          "output_type": "execute_result"
        }
      ],
      "source": [
        "lexical_diversity(text_moby_dick)"
      ]
    },
    {
      "cell_type": "markdown",
      "metadata": {
        "id": "cZ-hsQEYj29Y"
      },
      "source": [
        "**Задачки на поиск слов по условиям**"
      ]
    },
    {
      "cell_type": "code",
      "execution_count": 18,
      "metadata": {
        "id": "uuj8VtDL4qH3"
      },
      "outputs": [],
      "source": [
        "V = set(text_moby_dick)"
      ]
    },
    {
      "cell_type": "code",
      "execution_count": 19,
      "metadata": {
        "colab": {
          "base_uri": "https://localhost:8080/"
        },
        "id": "_njh9nxBj-jZ",
        "outputId": "e9e6ced8-3972-4105-c5f9-60748615f454"
      },
      "outputs": [
        {
          "data": {
            "text/plain": [
              "['CIRCUMNAVIGATION',\n",
              " 'Physiognomically',\n",
              " 'apprehensiveness',\n",
              " 'cannibalistically',\n",
              " 'characteristically',\n",
              " 'circumnavigating',\n",
              " 'circumnavigation',\n",
              " 'circumnavigations',\n",
              " 'comprehensiveness',\n",
              " 'hermaphroditical',\n",
              " 'indiscriminately',\n",
              " 'indispensableness',\n",
              " 'irresistibleness',\n",
              " 'physiognomically',\n",
              " 'preternaturalness',\n",
              " 'responsibilities',\n",
              " 'simultaneousness',\n",
              " 'subterraneousness',\n",
              " 'supernaturalness',\n",
              " 'superstitiousness',\n",
              " 'uncomfortableness',\n",
              " 'uncompromisedness',\n",
              " 'undiscriminating',\n",
              " 'uninterpenetratingly']"
            ]
          },
          "execution_count": 19,
          "metadata": {},
          "output_type": "execute_result"
        }
      ],
      "source": [
        "long_words = [w for w in V if len(w) > 15]\n",
        "sorted(long_words)"
      ]
    },
    {
      "cell_type": "markdown",
      "metadata": {
        "id": "x6P2RSBJkFYx"
      },
      "source": [
        "FreqDist - строит оперативно встречаемость слов"
      ]
    },
    {
      "cell_type": "code",
      "execution_count": 20,
      "metadata": {
        "id": "hqh0-7qukSoJ"
      },
      "outputs": [],
      "source": [
        "from nltk.probability import FreqDist"
      ]
    },
    {
      "cell_type": "code",
      "execution_count": 21,
      "metadata": {
        "colab": {
          "base_uri": "https://localhost:8080/"
        },
        "id": "FF9FwrnPkiQR",
        "outputId": "5aac7410-5d77-4897-aaa0-f7a20bedeec5"
      },
      "outputs": [
        {
          "data": {
            "text/plain": [
              "FreqDist({',': 18713, 'the': 13721, '.': 6862, 'of': 6536, 'and': 6024, 'a': 4569, 'to': 4542, ';': 4072, 'in': 3916, 'that': 2982, ...})"
            ]
          },
          "execution_count": 21,
          "metadata": {},
          "output_type": "execute_result"
        }
      ],
      "source": [
        "fdist = FreqDist(text_moby_dick)\n",
        "fdist"
      ]
    },
    {
      "cell_type": "code",
      "execution_count": 22,
      "metadata": {
        "colab": {
          "base_uri": "https://localhost:8080/"
        },
        "id": "z0CAXZUUkqB5",
        "outputId": "3c5d583b-3c4a-4d36-e35b-ccf75e0c8e1b"
      },
      "outputs": [
        {
          "data": {
            "text/plain": [
              "[(',', 18713),\n",
              " ('the', 13721),\n",
              " ('.', 6862),\n",
              " ('of', 6536),\n",
              " ('and', 6024),\n",
              " ('a', 4569),\n",
              " ('to', 4542),\n",
              " (';', 4072),\n",
              " ('in', 3916),\n",
              " ('that', 2982),\n",
              " (\"'\", 2684),\n",
              " ('-', 2552),\n",
              " ('his', 2459),\n",
              " ('it', 2209),\n",
              " ('I', 2124),\n",
              " ('s', 1739),\n",
              " ('is', 1695),\n",
              " ('he', 1661),\n",
              " ('with', 1659),\n",
              " ('was', 1632),\n",
              " ('as', 1620),\n",
              " ('\"', 1478),\n",
              " ('all', 1462),\n",
              " ('for', 1414),\n",
              " ('this', 1280),\n",
              " ('!', 1269),\n",
              " ('at', 1231),\n",
              " ('by', 1137),\n",
              " ('but', 1113),\n",
              " ('not', 1103),\n",
              " ('--', 1070),\n",
              " ('him', 1058),\n",
              " ('from', 1052),\n",
              " ('be', 1030),\n",
              " ('on', 1005),\n",
              " ('so', 918),\n",
              " ('whale', 906),\n",
              " ('one', 889),\n",
              " ('you', 841),\n",
              " ('had', 767),\n",
              " ('have', 760),\n",
              " ('there', 715),\n",
              " ('But', 705),\n",
              " ('or', 697),\n",
              " ('were', 680),\n",
              " ('now', 646),\n",
              " ('which', 640),\n",
              " ('?', 637),\n",
              " ('me', 627),\n",
              " ('like', 624)]"
            ]
          },
          "execution_count": 22,
          "metadata": {},
          "output_type": "execute_result"
        }
      ],
      "source": [
        "fdist.most_common(50)"
      ]
    },
    {
      "cell_type": "code",
      "execution_count": 23,
      "metadata": {
        "colab": {
          "base_uri": "https://localhost:8080/",
          "height": 492
        },
        "id": "UIyPK5Gokss5",
        "outputId": "22b85aeb-0707-47d1-bb05-8b57cc5d113a"
      },
      "outputs": [
        {
          "data": {
            "image/png": "[encoded data removed]",
            "text/plain": [
              "<Figure size 1500x500 with 1 Axes>"
            ]
          },
          "metadata": {},
          "output_type": "display_data"
        }
      ],
      "source": [
        "fig = plt.figure(figsize = (15,5))\n",
        "\n",
        "fdist.plot(50, cumulative=True);"
      ]
    },
    {
      "cell_type": "markdown",
      "metadata": {
        "id": "90H9E2MSkwS5"
      },
      "source": [
        "Специально есть метод про \"встречается только 1 раз\""
      ]
    },
    {
      "cell_type": "code",
      "execution_count": 24,
      "metadata": {
        "colab": {
          "base_uri": "https://localhost:8080/"
        },
        "id": "qDlywXcxk0LR",
        "outputId": "ceee373d-21bb-44f7-e22d-ea53ff1e47d2"
      },
      "outputs": [
        {
          "data": {
            "text/plain": [
              "['Herman',\n",
              " 'Melville',\n",
              " ']',\n",
              " 'ETYMOLOGY',\n",
              " 'Late',\n",
              " 'Consumptive',\n",
              " 'School',\n",
              " 'threadbare',\n",
              " 'lexicons',\n",
              " 'mockingly',\n",
              " 'flags',\n",
              " 'mortality',\n",
              " 'signification',\n",
              " 'HACKLUYT',\n",
              " 'Sw',\n",
              " 'HVAL',\n",
              " 'roundness',\n",
              " 'Dut',\n",
              " 'Ger',\n",
              " 'WALLEN',\n",
              " 'WALW',\n",
              " 'IAN',\n",
              " 'RICHARDSON',\n",
              " 'KETOS',\n",
              " 'GREEK',\n",
              " 'CETUS',\n",
              " 'LATIN',\n",
              " 'WHOEL',\n",
              " 'ANGLO',\n",
              " 'SAXON',\n",
              " 'WAL',\n",
              " 'HWAL',\n",
              " 'SWEDISH',\n",
              " 'ICELANDIC',\n",
              " 'BALEINE',\n",
              " 'BALLENA',\n",
              " 'FEGEE',\n",
              " 'ERROMANGOAN',\n",
              " 'Librarian',\n",
              " 'painstaking',\n",
              " 'burrower',\n",
              " 'grub',\n",
              " 'Vaticans',\n",
              " 'stalls',\n",
              " 'higgledy',\n",
              " 'piggledy',\n",
              " 'gospel',\n",
              " 'promiscuously',\n",
              " 'commentator',\n",
              " 'belongest',\n",
              " 'sallow',\n",
              " 'Pale',\n",
              " 'Sherry',\n",
              " 'loves',\n",
              " 'bluntly',\n",
              " 'Subs',\n",
              " 'thankless',\n",
              " 'Hampton',\n",
              " 'Court',\n",
              " 'hie',\n",
              " 'refugees',\n",
              " 'pampered',\n",
              " 'Michael',\n",
              " 'Raphael',\n",
              " 'unsplinterable',\n",
              " 'GENESIS',\n",
              " 'JOB',\n",
              " 'JONAH',\n",
              " 'punish',\n",
              " 'ISAIAH',\n",
              " 'soever',\n",
              " 'cometh',\n",
              " 'incontinently',\n",
              " 'perisheth',\n",
              " 'PLUTARCH',\n",
              " 'MORALS',\n",
              " 'breedeth',\n",
              " 'Whirlpooles',\n",
              " 'Balaene',\n",
              " 'arpens',\n",
              " 'PLINY',\n",
              " 'Scarcely',\n",
              " 'TOOKE',\n",
              " 'LUCIAN',\n",
              " 'TRUE',\n",
              " 'catched',\n",
              " 'OCTHER',\n",
              " 'VERBAL',\n",
              " 'TAKEN',\n",
              " 'MOUTH',\n",
              " 'ALFRED',\n",
              " '890',\n",
              " 'gudgeon',\n",
              " 'retires',\n",
              " 'MONTAIGNE',\n",
              " 'APOLOGY',\n",
              " 'RAIMOND',\n",
              " 'SEBOND',\n",
              " 'Nick',\n",
              " 'RABELAIS',\n",
              " 'cartloads',\n",
              " 'STOWE',\n",
              " 'ANNALS',\n",
              " 'LORD',\n",
              " 'BACON',\n",
              " 'Touching',\n",
              " 'ork',\n",
              " 'DEATH',\n",
              " 'sovereignest',\n",
              " 'bruise',\n",
              " 'HAMLET',\n",
              " 'leach',\n",
              " 'Mote',\n",
              " 'availle',\n",
              " 'returne',\n",
              " 'againe',\n",
              " 'worker',\n",
              " 'Dinting',\n",
              " 'paine',\n",
              " 'thro',\n",
              " 'maine',\n",
              " 'FAERIE',\n",
              " 'Immense',\n",
              " 'til',\n",
              " 'DAVENANT',\n",
              " 'PREFACE',\n",
              " 'GONDIBERT',\n",
              " 'spermacetti',\n",
              " 'Hosmannus',\n",
              " 'Nescio',\n",
              " 'VIDE',\n",
              " 'Spencer',\n",
              " 'Talus',\n",
              " 'flail',\n",
              " 'threatens',\n",
              " 'jav',\n",
              " 'lins',\n",
              " 'WALLER',\n",
              " 'SUMMER',\n",
              " 'ISLANDS',\n",
              " 'Commonwealth',\n",
              " 'Civitas',\n",
              " 'OPENING',\n",
              " 'SENTENCE',\n",
              " 'HOBBES',\n",
              " 'LEVIATHAN',\n",
              " 'Silly',\n",
              " 'Mansoul',\n",
              " 'chewing',\n",
              " 'sprat',\n",
              " 'PILGRIM',\n",
              " 'PROGRESS',\n",
              " 'Created',\n",
              " 'PARADISE',\n",
              " 'LOST',\n",
              " '---\"',\n",
              " 'Hugest',\n",
              " 'Stretched',\n",
              " 'Draws',\n",
              " 'FULLLER',\n",
              " 'PROFANE',\n",
              " 'HOLY',\n",
              " 'STATE',\n",
              " 'DRYDEN',\n",
              " 'ANNUS',\n",
              " 'MIRABILIS',\n",
              " 'aground',\n",
              " 'EDGE',\n",
              " 'TEN',\n",
              " 'SPITZBERGEN',\n",
              " 'PURCHAS',\n",
              " 'wantonness',\n",
              " 'fuzzing',\n",
              " 'vents',\n",
              " 'HERBERT',\n",
              " 'INTO',\n",
              " 'ASIA',\n",
              " 'AFRICA',\n",
              " 'SCHOUTEN',\n",
              " 'SIXTH',\n",
              " 'CIRCUMNAVIGATION',\n",
              " 'Elbe',\n",
              " 'ducat',\n",
              " 'herrings',\n",
              " 'GREENLAND',\n",
              " 'Several',\n",
              " 'Fife',\n",
              " 'Anno',\n",
              " '1652',\n",
              " 'Pitferren',\n",
              " 'SIBBALD',\n",
              " 'FIFE',\n",
              " 'KINROSS',\n",
              " 'Myself',\n",
              " 'Sperma',\n",
              " 'ceti',\n",
              " 'fierceness',\n",
              " 'RICHARD',\n",
              " 'STRAFFORD',\n",
              " 'LETTER',\n",
              " 'BERMUDAS',\n",
              " 'PHIL',\n",
              " 'TRANS',\n",
              " '1668',\n",
              " 'PRIMER',\n",
              " 'COWLEY',\n",
              " '1729',\n",
              " '\"...',\n",
              " 'frequendy',\n",
              " 'insupportable',\n",
              " 'disorder',\n",
              " 'ULLOA',\n",
              " 'SOUTH',\n",
              " 'AMERICA',\n",
              " 'sylphs',\n",
              " 'petticoat',\n",
              " 'Oft',\n",
              " 'Tho',\n",
              " 'RAPE',\n",
              " 'LOCK',\n",
              " 'NAT',\n",
              " 'wales',\n",
              " 'JOHNSON',\n",
              " 'COOK',\n",
              " 'dung',\n",
              " 'lime',\n",
              " 'juniper',\n",
              " 'UNO',\n",
              " 'VON',\n",
              " 'TROIL',\n",
              " 'LETTERS',\n",
              " 'BANKS',\n",
              " 'SOLANDER',\n",
              " '1772',\n",
              " 'Nantuckois',\n",
              " 'JEFFERSON',\n",
              " 'MEMORIAL',\n",
              " 'MINISTER',\n",
              " 'REFERENCE',\n",
              " 'PARLIAMENT',\n",
              " 'SOMEWHERE',\n",
              " 'guarding',\n",
              " 'protecting',\n",
              " 'robbers',\n",
              " 'BLACKSTONE',\n",
              " 'Rodmond',\n",
              " 'suspends',\n",
              " 'attends',\n",
              " 'FALCONER',\n",
              " 'Bright',\n",
              " 'roofs',\n",
              " 'domes',\n",
              " 'rockets',\n",
              " 'Around',\n",
              " 'unwieldy',\n",
              " 'COWPER',\n",
              " 'VISIT',\n",
              " 'LONDON',\n",
              " 'HUNTER',\n",
              " 'DISSECTION',\n",
              " 'SMALL',\n",
              " 'SIZED',\n",
              " 'aorta',\n",
              " 'gushing',\n",
              " 'PALEY',\n",
              " 'THEOLOGY',\n",
              " 'mammiferous',\n",
              " 'hind',\n",
              " 'BARON',\n",
              " 'CUVIER',\n",
              " 'COLNETT',\n",
              " 'PURPOSE',\n",
              " 'EXTENDING',\n",
              " 'SPERMACETI',\n",
              " 'Floundered',\n",
              " 'chace',\n",
              " 'peopling',\n",
              " 'Gather',\n",
              " 'Led',\n",
              " 'instincts',\n",
              " 'trackless',\n",
              " 'Assaulted',\n",
              " 'voracious',\n",
              " 'spiral',\n",
              " 'MONTGOMERY',\n",
              " 'WORLD',\n",
              " 'FLOOD',\n",
              " 'Paean',\n",
              " 'fatter',\n",
              " 'Flounders',\n",
              " 'CHARLES',\n",
              " 'LAMB',\n",
              " 'TRIUMPH',\n",
              " '1690',\n",
              " 'OBED',\n",
              " 'Susan',\n",
              " 'HAWTHORNE',\n",
              " 'TWICE',\n",
              " 'bespeak',\n",
              " 'raal',\n",
              " 'COOPER',\n",
              " 'PILOT',\n",
              " 'Berlin',\n",
              " 'Gazette',\n",
              " 'ECKERMANN',\n",
              " 'CONVERSATIONS',\n",
              " 'GOETHE',\n",
              " 'ESSEX',\n",
              " 'WAS',\n",
              " 'ATTACKED',\n",
              " 'FINALLY',\n",
              " 'DESTROYED',\n",
              " 'OWEN',\n",
              " 'CHACE',\n",
              " 'FIRST',\n",
              " 'SAID',\n",
              " 'VESSEL',\n",
              " 'YORK',\n",
              " '1821',\n",
              " 'piping',\n",
              " 'dimmed',\n",
              " 'phospher',\n",
              " 'ELIZABETH',\n",
              " 'OAKES',\n",
              " 'SMITH',\n",
              " 'amounted',\n",
              " '440',\n",
              " 'SCORESBY',\n",
              " 'Mad',\n",
              " 'agonies',\n",
              " 'endures',\n",
              " 'infuriated',\n",
              " 'rears',\n",
              " 'snaps',\n",
              " 'propelled',\n",
              " 'observers',\n",
              " 'opportunities',\n",
              " 'habitudes',\n",
              " 'BEALE',\n",
              " 'offensively',\n",
              " 'artful',\n",
              " 'mischievous',\n",
              " 'FREDERICK',\n",
              " 'DEBELL',\n",
              " '1840',\n",
              " 'October',\n",
              " 'Raise',\n",
              " 'ay',\n",
              " 'THAR',\n",
              " 'bowes',\n",
              " 'os',\n",
              " 'ROSS',\n",
              " 'ETCHINGS',\n",
              " 'CRUIZE',\n",
              " '1846',\n",
              " 'Globe',\n",
              " 'transactions',\n",
              " 'relate',\n",
              " 'HUSSEY',\n",
              " 'SURVIVORS',\n",
              " 'parried',\n",
              " 'MISSIONARY',\n",
              " 'JOURNAL',\n",
              " 'TYERMAN',\n",
              " 'boldest',\n",
              " 'persevering',\n",
              " 'REPORT',\n",
              " 'DANIEL',\n",
              " 'SPEECH',\n",
              " 'SENATE',\n",
              " 'APPLICATION',\n",
              " 'ERECTION',\n",
              " 'BREAKWATER',\n",
              " 'CAPTORS',\n",
              " 'WHALEMAN',\n",
              " 'ADVENTURES',\n",
              " 'BIOGRAPHY',\n",
              " 'GATHERED',\n",
              " 'HOMEWARD',\n",
              " 'COMMODORE',\n",
              " 'PREBLE',\n",
              " 'REV',\n",
              " 'CHEEVER',\n",
              " 'MUTINEER',\n",
              " 'BROTHER',\n",
              " 'ANOTHER',\n",
              " 'MCCULLOCH',\n",
              " 'COMMERCIAL',\n",
              " 'reciprocal',\n",
              " 'clews',\n",
              " 'SOMETHING',\n",
              " 'UNPUBLISHED',\n",
              " 'CURRENTS',\n",
              " 'Pedestrians',\n",
              " 'recollect',\n",
              " 'gateways',\n",
              " 'VOYAGER',\n",
              " 'ARCTIC',\n",
              " 'NEWSPAPER',\n",
              " 'TAKING',\n",
              " 'RETAKING',\n",
              " 'HOBOMACK',\n",
              " 'MIRIAM',\n",
              " 'FISHERMAN',\n",
              " 'appliance',\n",
              " 'RIBS',\n",
              " 'TRUCKS',\n",
              " 'Terra',\n",
              " 'Del',\n",
              " 'Fuego',\n",
              " 'DARWIN',\n",
              " 'NATURALIST',\n",
              " \";--'\",\n",
              " '!\\'\"',\n",
              " 'WHARTON',\n",
              " 'Loomings',\n",
              " 'spleen',\n",
              " 'regulating',\n",
              " 'circulation',\n",
              " 'Whenever',\n",
              " 'drizzly',\n",
              " 'hypos',\n",
              " 'philosophical',\n",
              " 'Cato',\n",
              " 'Manhattoes',\n",
              " 'reefs',\n",
              " 'downtown',\n",
              " 'gazers',\n",
              " 'Circumambulate',\n",
              " 'Corlears',\n",
              " 'Coenties',\n",
              " 'Slip',\n",
              " 'Whitehall',\n",
              " 'Posted',\n",
              " 'sentinels',\n",
              " 'spiles',\n",
              " 'pier',\n",
              " 'lath',\n",
              " 'counters',\n",
              " 'desks',\n",
              " 'loitering',\n",
              " 'shady',\n",
              " 'Inlanders',\n",
              " 'lanes',\n",
              " 'alleys',\n",
              " 'attract',\n",
              " 'dale',\n",
              " 'dreamiest',\n",
              " 'shadiest',\n",
              " 'quietest',\n",
              " 'enchanting',\n",
              " 'Saco',\n",
              " 'crucifix',\n",
              " 'Deep',\n",
              " 'mazy',\n",
              " 'Tiger',\n",
              " 'Tennessee',\n",
              " 'Rockaway',\n",
              " 'Persians',\n",
              " 'deity',\n",
              " 'Narcissus',\n",
              " 'ungraspable',\n",
              " 'hazy',\n",
              " 'quarrelsome',\n",
              " 'offices',\n",
              " 'abominate',\n",
              " 'toils',\n",
              " 'trials',\n",
              " 'barques',\n",
              " 'schooners',\n",
              " 'broiling',\n",
              " 'buttered',\n",
              " 'judgmatically',\n",
              " 'peppered',\n",
              " 'reverentially',\n",
              " 'idolatrous',\n",
              " 'dotings',\n",
              " 'ibis',\n",
              " 'roasted',\n",
              " 'bake',\n",
              " 'plumb',\n",
              " 'Van',\n",
              " 'Rensselaers',\n",
              " 'Randolphs',\n",
              " 'Hardicanutes',\n",
              " 'lording',\n",
              " 'tallest',\n",
              " 'decoction',\n",
              " 'Seneca',\n",
              " 'Stoics',\n",
              " 'Testament',\n",
              " 'promptly',\n",
              " 'rub',\n",
              " 'infliction',\n",
              " 'BEING',\n",
              " 'PAID',\n",
              " 'urbane',\n",
              " 'ills',\n",
              " 'monied',\n",
              " 'consign',\n",
              " 'prevalent',\n",
              " 'violate',\n",
              " 'Pythagorean',\n",
              " 'commonalty',\n",
              " 'police',\n",
              " 'surveillance',\n",
              " 'programme',\n",
              " 'solo',\n",
              " 'CONTESTED',\n",
              " 'ELECTION',\n",
              " 'PRESIDENCY',\n",
              " 'UNITED',\n",
              " 'STATES',\n",
              " 'ISHMAEL',\n",
              " 'BLOODY',\n",
              " 'AFFGHANISTAN',\n",
              " 'managers',\n",
              " 'genteel',\n",
              " 'comedies',\n",
              " 'farces',\n",
              " 'cunningly',\n",
              " 'disguises',\n",
              " 'cajoling',\n",
              " 'unbiased',\n",
              " 'freewill',\n",
              " 'discriminating',\n",
              " 'overwhelming',\n",
              " 'undeliverable',\n",
              " 'itch',\n",
              " 'forbidden',\n",
              " 'ignoring',\n",
              " 'lodges',\n",
              " 'Carpet',\n",
              " 'Bag',\n",
              " 'Manhatto',\n",
              " 'candidates',\n",
              " 'penalties',\n",
              " 'Tyre',\n",
              " 'Carthage',\n",
              " 'imported',\n",
              " 'cobblestones',\n",
              " 'bitingly',\n",
              " 'shouldering',\n",
              " 'price',\n",
              " 'fervent',\n",
              " 'asphaltic',\n",
              " 'pavement',\n",
              " 'flinty',\n",
              " 'projections',\n",
              " 'soles',\n",
              " 'Too',\n",
              " 'cheapest',\n",
              " 'cheeriest',\n",
              " 'invitingly',\n",
              " 'particles',\n",
              " 'peer',\n",
              " 'Angel',\n",
              " 'Doom',\n",
              " 'wailing',\n",
              " 'gnashing',\n",
              " 'Wretched',\n",
              " 'entertainment',\n",
              " 'Moving',\n",
              " 'emigrant',\n",
              " 'poverty',\n",
              " 'creak',\n",
              " 'lodgings',\n",
              " 'zephyr',\n",
              " 'hob',\n",
              " 'toasting',\n",
              " 'observest',\n",
              " 'sashless',\n",
              " 'glazier',\n",
              " 'reasonest',\n",
              " 'chinks',\n",
              " 'crannies',\n",
              " 'lint',\n",
              " 'chattering',\n",
              " 'shiverings',\n",
              " 'cob',\n",
              " 'redder',\n",
              " 'Orion',\n",
              " 'glitters',\n",
              " 'conservatories',\n",
              " 'president',\n",
              " 'temperance',\n",
              " 'blubbering',\n",
              " 'straggling',\n",
              " 'wainscots',\n",
              " 'reminding',\n",
              " 'oilpainting',\n",
              " 'besmoked',\n",
              " 'defaced',\n",
              " 'unequal',\n",
              " 'crosslights',\n",
              " 'hags',\n",
              " 'delineate',\n",
              " 'bewitched',\n",
              " 'ponderings',\n",
              " 'boggy',\n",
              " 'soggy',\n",
              " 'squitchy',\n",
              " 'froze',\n",
              " 'heath',\n",
              " 'icebound',\n",
              " 'represents',\n",
              " 'Horner',\n",
              " 'foundered',\n",
              " 'clubs',\n",
              " 'harvesting',\n",
              " 'hacking',\n",
              " 'horrifying',\n",
              " 'Mixed',\n",
              " 'Nathan',\n",
              " 'Swain',\n",
              " 'corkscrew',\n",
              " 'Blanco',\n",
              " 'sojourning',\n",
              " 'fireplaces',\n",
              " 'duskier',\n",
              " 'cockpits',\n",
              " 'rarities',\n",
              " 'Projecting',\n",
              " 'Within',\n",
              " 'shelves',\n",
              " 'flasks',\n",
              " 'bustles',\n",
              " 'deliriums',\n",
              " 'Abominable',\n",
              " 'tumblers',\n",
              " 'cylinders',\n",
              " 'goggling',\n",
              " 'deceitfully',\n",
              " 'tapered',\n",
              " 'Parallel',\n",
              " 'pecked',\n",
              " 'footpads',\n",
              " 'Fill',\n",
              " 'shilling',\n",
              " 'examining',\n",
              " 'SKRIMSHANDER',\n",
              " 'accommodated',\n",
              " 'unoccupied',\n",
              " 'haint',\n",
              " 'pose',\n",
              " 'whalin',\n",
              " 'decidedly',\n",
              " 'objectionable',\n",
              " 'wander',\n",
              " 'Battery',\n",
              " 'ruminating',\n",
              " 'adorning',\n",
              " 'potatoes',\n",
              " 'sartainty',\n",
              " 'diabolically',\n",
              " 'steaks',\n",
              " 'undress',\n",
              " 'looker',\n",
              " 'rioting',\n",
              " 'Grampus',\n",
              " 'seed',\n",
              " 'Feegees',\n",
              " 'tramping',\n",
              " 'Enveloped',\n",
              " 'bedarned',\n",
              " 'eruption',\n",
              " 'officiating',\n",
              " 'brimmers',\n",
              " 'complained',\n",
              " 'potion',\n",
              " 'colds',\n",
              " 'catarrhs',\n",
              " 'liquor',\n",
              " 'arrantest',\n",
              " 'topers',\n",
              " 'obstreperously',\n",
              " 'aloof',\n",
              " 'desirous',\n",
              " 'hilarity',\n",
              " 'coffer',\n",
              " 'Southerner',\n",
              " 'mountaineers',\n",
              " 'Alleghanian',\n",
              " 'missed',\n",
              " 'supernaturally',\n",
              " 'congratulate',\n",
              " 'multiply',\n",
              " 'bachelor',\n",
              " 'abominated',\n",
              " 'tidiest',\n",
              " 'bedwards',\n",
              " 'shan',\n",
              " 'tablecloth',\n",
              " 'Skrimshander',\n",
              " 'bump',\n",
              " 'spraining',\n",
              " 'eider',\n",
              " 'yoking',\n",
              " 'rickety',\n",
              " 'whirlwinds',\n",
              " 'knockings',\n",
              " 'dismissed',\n",
              " 'popped',\n",
              " 'cherishing',\n",
              " 'chuckled',\n",
              " 'chuckle',\n",
              " 'mightily',\n",
              " 'catches',\n",
              " 'bamboozingly',\n",
              " 'overstocked',\n",
              " 'toothpick',\n",
              " 'rayther',\n",
              " 'BROWN',\n",
              " 'slanderin',\n",
              " 'farrago',\n",
              " 'BROKE',\n",
              " 'Sartain',\n",
              " 'Mt',\n",
              " 'Hecla',\n",
              " 'persist',\n",
              " 'mystifying',\n",
              " 'unsay',\n",
              " 'criminal',\n",
              " 'Wall',\n",
              " 'purty',\n",
              " 'sarmon',\n",
              " 'rips',\n",
              " 'tellin',\n",
              " 'bought',\n",
              " 'balmed',\n",
              " 'curios',\n",
              " 'sellin',\n",
              " 'inions',\n",
              " 'fooling',\n",
              " 'idolators',\n",
              " 'Depend',\n",
              " 'reg',\n",
              " 'lar',\n",
              " 'spliced',\n",
              " 'Johnny',\n",
              " 'sprawling',\n",
              " 'Arter',\n",
              " 'glim',\n",
              " 'jiffy',\n",
              " 'irresolute',\n",
              " 'vum',\n",
              " 'WON',\n",
              " 'Folding',\n",
              " 'scrutiny',\n",
              " 'porcupine',\n",
              " 'moccasin',\n",
              " 'ponchos',\n",
              " 'parade',\n",
              " 'rainy',\n",
              " 'remembering',\n",
              " 'commended',\n",
              " 'cobs',\n",
              " 'Nod',\n",
              " 'footfall',\n",
              " 'unlacing',\n",
              " 'blackish',\n",
              " 'plasters',\n",
              " 'inkling',\n",
              " 'Placing',\n",
              " 'crammed',\n",
              " 'scalp',\n",
              " 'mildewed',\n",
              " 'Ignorance',\n",
              " 'parent',\n",
              " 'nonplussed',\n",
              " 'undressing',\n",
              " 'checkered',\n",
              " 'Thirty',\n",
              " 'frogs',\n",
              " 'quaked',\n",
              " 'wrapall',\n",
              " 'dreadnaught',\n",
              " 'fumbled',\n",
              " 'Remembering',\n",
              " 'manikin',\n",
              " 'tenpin',\n",
              " 'andirons',\n",
              " 'jambs',\n",
              " 'bricks',\n",
              " 'appropriate',\n",
              " 'applying',\n",
              " 'hastier',\n",
              " 'withdrawals',\n",
              " 'antics',\n",
              " 'devotee',\n",
              " 'extinguishing',\n",
              " 'unceremoniously',\n",
              " 'bagged',\n",
              " 'sportsman',\n",
              " 'woodcock',\n",
              " 'uncomfortableness',\n",
              " 'deliberating',\n",
              " 'puffed',\n",
              " 'sang',\n",
              " 'Stammering',\n",
              " 'conjured',\n",
              " 'responses',\n",
              " 'debel',\n",
              " 'flourishing',\n",
              " 'Angels',\n",
              " 'flourishings',\n",
              " 'peddlin',\n",
              " 'sleepe',\n",
              " 'grunted',\n",
              " 'gettee',\n",
              " 'motioning',\n",
              " 'comely',\n",
              " 'insured',\n",
              " 'Counterpane',\n",
              " 'parti',\n",
              " 'triangles',\n",
              " 'interminable',\n",
              " 'caper',\n",
              " 'supperless',\n",
              " '21st',\n",
              " 'hemisphere',\n",
              " 'sigh',\n",
              " 'Sixteen',\n",
              " 'ached',\n",
              " 'coaches',\n",
              " 'stockinged',\n",
              " 'slippering',\n",
              " 'misbehaviour',\n",
              " 'unendurable',\n",
              " 'stepmothers',\n",
              " 'misfortunes',\n",
              " 'steeped',\n",
              " 'shudderingly',\n",
              " 'confounding',\n",
              " 'soberly',\n",
              " 'recurred',\n",
              " 'predicament',\n",
              " 'unlock',\n",
              " 'bridegroom',\n",
              " 'clasp',\n",
              " 'hugged',\n",
              " 'rouse',\n",
              " 'snore',\n",
              " 'scratch',\n",
              " 'Throwing',\n",
              " 'expostulations',\n",
              " 'unbecomingness',\n",
              " 'matrimonial',\n",
              " 'dawning',\n",
              " 'overture',\n",
              " 'innate',\n",
              " 'compliment',\n",
              " 'civility',\n",
              " 'rudeness',\n",
              " 'toilette',\n",
              " 'dressing',\n",
              " 'donning',\n",
              " 'gaspings',\n",
              " 'booting',\n",
              " 'caterpillar',\n",
              " 'outlandishness',\n",
              " 'manners',\n",
              " 'education',\n",
              " 'undergraduate',\n",
              " 'dreamt',\n",
              " 'cowhide',\n",
              " 'pinched',\n",
              " 'curtains',\n",
              " 'indecorous',\n",
              " 'contented',\n",
              " 'restricting',\n",
              " 'donned',\n",
              " 'lathering',\n",
              " 'unsheathes',\n",
              " 'whets',\n",
              " 'Rogers',\n",
              " 'cutlery',\n",
              " 'Afterwards',\n",
              " 'baton',\n",
              " 'Breakfast',\n",
              " 'pleasantly',\n",
              " 'bountifully',\n",
              " 'laughable',\n",
              " 'bosky',\n",
              " 'unshorn',\n",
              " 'gowns',\n",
              " 'toasted',\n",
              " 'lingers',\n",
              " 'tarried',\n",
              " 'barred',\n",
              " 'Grub',\n",
              " 'Park',\n",
              " 'assurance',\n",
              " 'polish',\n",
              " 'occasioned',\n",
              " 'embarrassed',\n",
              " 'bashfulness',\n",
              " 'duelled',\n",
              " 'winking',\n",
              " 'tastes',\n",
              " 'sheepishly',\n",
              " 'bashful',\n",
              " 'icicle',\n",
              " 'admirer',\n",
              " 'cordially',\n",
              " 'grappling',\n",
              " 'genteelly',\n",
              " 'eschewed',\n",
              " 'undivided',\n",
              " '6',\n",
              " 'circulating',\n",
              " 'nondescripts',\n",
              " 'Chestnut',\n",
              " 'jostle',\n",
              " 'Regent',\n",
              " 'Lascars',\n",
              " 'Bombay',\n",
              " 'Apollo',\n",
              " 'Feegeeans',\n",
              " 'Tongatobooarrs',\n",
              " 'Erromanggoans',\n",
              " 'Pannangians',\n",
              " 'Brighggians',\n",
              " 'weekly',\n",
              " 'Vermonters',\n",
              " 'stalwart',\n",
              " 'frames',\n",
              " 'felled',\n",
              " 'strutting',\n",
              " 'wester',\n",
              " 'bombazine',\n",
              " 'cloak',\n",
              " 'mow',\n",
              " 'gloves',\n",
              " 'joins',\n",
              " 'outfit',\n",
              " 'waistcoats',\n",
              " 'Hay',\n",
              " 'Seed',\n",
              " 'tract',\n",
              " 'dearest',\n",
              " 'pave',\n",
              " 'eggs',\n",
              " 'patrician',\n",
              " 'parks',\n",
              " 'scraggy',\n",
              " 'scoria',\n",
              " 'Herr',\n",
              " 'dowers',\n",
              " 'nieces',\n",
              " 'reservoirs',\n",
              " 'maples',\n",
              " 'bountiful',\n",
              " 'proffer',\n",
              " 'passer',\n",
              " 'cones',\n",
              " 'blossoms',\n",
              " 'superinduced',\n",
              " 'carnation',\n",
              " 'Salem',\n",
              " 'sweethearts',\n",
              " 'Puritanic',\n",
              " 'Whaleman',\n",
              " 'Wrapping',\n",
              " 'Each',\n",
              " 'quote',\n",
              " 'TALBOT',\n",
              " 'Near',\n",
              " 'Desolation',\n",
              " '1st',\n",
              " 'SISTER',\n",
              " 'ROBERT',\n",
              " 'WILLIS',\n",
              " 'ELLERY',\n",
              " 'NATHAN',\n",
              " 'COLEMAN',\n",
              " 'WALTER',\n",
              " 'CANNY',\n",
              " 'SETH',\n",
              " 'GLEIG',\n",
              " 'Forming',\n",
              " 'ELIZA',\n",
              " '31st',\n",
              " 'MARBLE',\n",
              " 'SHIPMATES',\n",
              " 'EZEKIEL',\n",
              " 'HARDY',\n",
              " 'AUGUST',\n",
              " '3d',\n",
              " '1833',\n",
              " 'WIDOW',\n",
              " 'Shaking',\n",
              " 'glazed',\n",
              " 'Affected',\n",
              " 'relatives',\n",
              " 'unhealing',\n",
              " 'sympathetically',\n",
              " 'wounds',\n",
              " 'bleed',\n",
              " 'blanks',\n",
              " ...]"
            ]
          },
          "execution_count": 24,
          "metadata": {},
          "output_type": "execute_result"
        }
      ],
      "source": [
        "fdist.hapaxes()"
      ]
    },
    {
      "cell_type": "markdown",
      "metadata": {
        "id": "JtgmB_Dpk_kJ"
      },
      "source": [
        "Совмещаем условия и делаем их сложными"
      ]
    },
    {
      "cell_type": "code",
      "execution_count": 25,
      "metadata": {
        "colab": {
          "base_uri": "https://localhost:8080/"
        },
        "id": "pIsgfPiKkC4Q",
        "outputId": "4b5970a0-f109-4963-8a4f-045a4cf903c3"
      },
      "outputs": [
        {
          "data": {
            "text/plain": [
              "['Leviathan',\n",
              " 'Nantucket',\n",
              " 'Queequeg',\n",
              " 'Starbuck',\n",
              " 'Tashtego',\n",
              " 'business',\n",
              " 'harpooneer',\n",
              " 'harpooneers',\n",
              " 'peculiar',\n",
              " 'something',\n",
              " 'sometimes',\n",
              " 'standing',\n",
              " 'themselves',\n",
              " 'therefore',\n",
              " 'thousand',\n",
              " 'together',\n",
              " 'whalemen']"
            ]
          },
          "execution_count": 25,
          "metadata": {},
          "output_type": "execute_result"
        }
      ],
      "source": [
        "sorted(w for w in set(text_moby_dick) if len(w) > 7 and fdist[w] > 50)"
      ]
    },
    {
      "cell_type": "markdown",
      "metadata": {
        "id": "3QVTgWxnln9o"
      },
      "source": [
        "Ну или делаем статистику не только слов, но и чего-то еще"
      ]
    },
    {
      "cell_type": "code",
      "execution_count": 26,
      "metadata": {
        "colab": {
          "base_uri": "https://localhost:8080/"
        },
        "id": "QsopR6rIlnPA",
        "outputId": "fda64efd-7e27-4adf-af8a-3761aac6d396"
      },
      "outputs": [
        {
          "data": {
            "text/plain": [
              "FreqDist({3: 50223, 1: 47933, 4: 42345, 2: 38513, 5: 26597, 6: 17111, 7: 14399, 8: 9966, 9: 6428, 10: 3528, ...})"
            ]
          },
          "execution_count": 26,
          "metadata": {},
          "output_type": "execute_result"
        }
      ],
      "source": [
        "fdist_len = FreqDist(len(w) for w in text_moby_dick)\n",
        "fdist_len"
      ]
    },
    {
      "cell_type": "code",
      "execution_count": 27,
      "metadata": {
        "colab": {
          "base_uri": "https://localhost:8080/"
        },
        "id": "wBmkw0tVl2eA",
        "outputId": "5cc0bad4-c228-4f4d-c265-cff6563088c4"
      },
      "outputs": [
        {
          "data": {
            "text/plain": [
              "[(3, 50223),\n",
              " (1, 47933),\n",
              " (4, 42345),\n",
              " (2, 38513),\n",
              " (5, 26597),\n",
              " (6, 17111),\n",
              " (7, 14399),\n",
              " (8, 9966),\n",
              " (9, 6428),\n",
              " (10, 3528),\n",
              " (11, 1873),\n",
              " (12, 1053),\n",
              " (13, 567),\n",
              " (14, 177),\n",
              " (15, 70),\n",
              " (16, 22),\n",
              " (17, 12),\n",
              " (18, 1),\n",
              " (20, 1)]"
            ]
          },
          "execution_count": 27,
          "metadata": {},
          "output_type": "execute_result"
        }
      ],
      "source": [
        "fdist_len.most_common()"
      ]
    },
    {
      "cell_type": "markdown",
      "metadata": {
        "id": "HrpnQXzCsEEI"
      },
      "source": [
        "## Обмажемся условиями по полной"
      ]
    },
    {
      "cell_type": "code",
      "execution_count": 28,
      "metadata": {
        "colab": {
          "base_uri": "https://localhost:8080/"
        },
        "id": "WxeDHRaWsL94",
        "outputId": "65a1aea7-f0ea-4b0c-8ca1-82f19eb50268"
      },
      "outputs": [
        {
          "data": {
            "text/plain": [
              "['[', 'Moby', 'Dick', 'by', 'Herman', 'Melville', '1851', ']']"
            ]
          },
          "execution_count": 28,
          "metadata": {},
          "output_type": "execute_result"
        }
      ],
      "source": [
        "sent = gutenberg.sents('melville-moby_dick.txt')[0]\n",
        "sent"
      ]
    },
    {
      "cell_type": "code",
      "execution_count": 29,
      "metadata": {
        "colab": {
          "base_uri": "https://localhost:8080/"
        },
        "id": "7oq3vxqssEEJ",
        "outputId": "d59d296d-90dc-43de-c47a-2742c7ecaedd"
      },
      "outputs": [
        {
          "data": {
            "text/plain": [
              "['[', 'by', ']']"
            ]
          },
          "execution_count": 29,
          "metadata": {},
          "output_type": "execute_result"
        }
      ],
      "source": [
        "[w for w in sent if len(w) < 4]"
      ]
    },
    {
      "cell_type": "code",
      "execution_count": 30,
      "metadata": {
        "colab": {
          "base_uri": "https://localhost:8080/"
        },
        "id": "Lz2zqFEGsEEJ",
        "outputId": "74cea03d-3f12-4cea-ab4e-b27aa7ec5406"
      },
      "outputs": [
        {
          "data": {
            "text/plain": [
              "['[', 'Moby', 'Dick', 'by', '1851', ']']"
            ]
          },
          "execution_count": 30,
          "metadata": {},
          "output_type": "execute_result"
        }
      ],
      "source": [
        "[w for w in sent if len(w) <= 4]"
      ]
    },
    {
      "cell_type": "code",
      "execution_count": 31,
      "metadata": {
        "colab": {
          "base_uri": "https://localhost:8080/"
        },
        "id": "mxjQOdmOsEEJ",
        "outputId": "70186918-bbbf-4da0-cd8a-9988a8dd046d"
      },
      "outputs": [
        {
          "data": {
            "text/plain": [
              "['Moby', 'Dick', '1851']"
            ]
          },
          "execution_count": 31,
          "metadata": {},
          "output_type": "execute_result"
        }
      ],
      "source": [
        "[w for w in sent if len(w) == 4]"
      ]
    },
    {
      "cell_type": "code",
      "execution_count": 32,
      "metadata": {
        "colab": {
          "base_uri": "https://localhost:8080/"
        },
        "id": "q6kr4xeGsEEJ",
        "outputId": "555e9e9e-2d41-4a56-e93f-6307c52b4aba"
      },
      "outputs": [
        {
          "data": {
            "text/plain": [
              "['[', 'by', 'Herman', 'Melville', ']']"
            ]
          },
          "execution_count": 32,
          "metadata": {},
          "output_type": "execute_result"
        }
      ],
      "source": [
        "[w for w in sent if len(w) != 4]"
      ]
    },
    {
      "cell_type": "markdown",
      "metadata": {
        "id": "sRWOt3pCsEEK"
      },
      "source": [
        "Некоторые дополнительные условия"
      ]
    },
    {
      "cell_type": "markdown",
      "metadata": {
        "id": "YhE5Ny3hsEEK"
      },
      "source": [
        "\n",
        "\n",
        "* `s.startswith(t)`\tпроверить, если `s` начинается с `t`\n",
        "\n",
        "* `s.endswith(t)`\tпроверить, если `s` заканчивается на `t`\n",
        "\n",
        "* `t in s`\tпроверить, если `t` является подстрокой `s`\n",
        "\n",
        "* `s.islower()`\tпроверить, если `s` содержит символы в регистре, и все они в нижнем регистре\n",
        "\n",
        "* `s.isupper()`\tпроверить, если `s` содержит символы в регистре, и все они в верхнем регистре\n",
        "\n",
        "* `s.isalpha()`\tпроверить, если `s` непусто, и все символы в `s` являются буквенными\n",
        "\n",
        "* `s.isalnum()`\tпроверить, если `s` непусто, и все символы в `s` являются буквенно-цифровыми\n",
        "\n",
        "* `s.isdigit()`\tпроверить, если `s` непусто, и все символы в `s` являются цифрами\n",
        "\n",
        "* `s.istitle()`\tпроверить, если `s` содержит символы в регистре и имеет заглавный регистр (т. е. все слова в `s` имеют начальные заглавные буквы)\n",
        "\n",
        "\n"
      ]
    },
    {
      "cell_type": "code",
      "execution_count": 33,
      "metadata": {
        "colab": {
          "base_uri": "https://localhost:8080/"
        },
        "id": "X9YXajU1sEEK",
        "outputId": "a1d01c45-cac0-4487-a16f-26f8f38942db"
      },
      "outputs": [
        {
          "data": {
            "text/plain": [
              "['comfortableness',\n",
              " 'honourableness',\n",
              " 'immutableness',\n",
              " 'indispensableness',\n",
              " 'indomitableness',\n",
              " 'intolerableness',\n",
              " 'palpableness',\n",
              " 'reasonableness',\n",
              " 'uncomfortableness']"
            ]
          },
          "execution_count": 33,
          "metadata": {},
          "output_type": "execute_result"
        }
      ],
      "source": [
        "sorted(w for w in set(text_moby_dick) if w.endswith('ableness'))"
      ]
    },
    {
      "cell_type": "code",
      "execution_count": 34,
      "metadata": {
        "colab": {
          "base_uri": "https://localhost:8080/"
        },
        "id": "MIoLtAHbsEEK",
        "outputId": "43f5c6ab-5828-463d-ffc6-74df1ec2f081"
      },
      "outputs": [
        {
          "data": {
            "text/plain": [
              "['nostril', 'nostrils', 'unostentatious']"
            ]
          },
          "execution_count": 34,
          "metadata": {},
          "output_type": "execute_result"
        }
      ],
      "source": [
        "sorted(term for term in set(text_moby_dick) if 'nost' in term)"
      ]
    },
    {
      "cell_type": "code",
      "execution_count": 35,
      "metadata": {
        "colab": {
          "base_uri": "https://localhost:8080/"
        },
        "id": "WQspaCOysEEK",
        "outputId": "25486e2a-74f4-4a2e-8ee0-75c26b230fe3"
      },
      "outputs": [
        {
          "data": {
            "text/plain": [
              "['Dick', 'Herman', 'Melville', 'Moby']"
            ]
          },
          "execution_count": 35,
          "metadata": {},
          "output_type": "execute_result"
        }
      ],
      "source": [
        "sorted(item for item in set(sent) if item.istitle())"
      ]
    },
    {
      "cell_type": "code",
      "execution_count": 36,
      "metadata": {
        "colab": {
          "base_uri": "https://localhost:8080/"
        },
        "id": "AIQ1VudYsEEK",
        "outputId": "663e1fce-a4ea-46d8-8434-a1f5d36a6b3f"
      },
      "outputs": [
        {
          "data": {
            "text/plain": [
              "['1851']"
            ]
          },
          "execution_count": 36,
          "metadata": {},
          "output_type": "execute_result"
        }
      ],
      "source": [
        "sorted(item for item in set(sent) if item.isdigit())"
      ]
    },
    {
      "cell_type": "code",
      "execution_count": 37,
      "metadata": {
        "colab": {
          "base_uri": "https://localhost:8080/"
        },
        "id": "8Lb37C9FsEEK",
        "outputId": "34c5101c-effc-41ae-9ff0-d312d4d1eca0"
      },
      "outputs": [
        {
          "data": {
            "text/plain": [
              "['Squeeze',\n",
              " 'soliloquized',\n",
              " 'soliloquizer',\n",
              " 'soliloquizes',\n",
              " 'soliloquizing',\n",
              " 'squeeze',\n",
              " 'squeezed',\n",
              " 'squeezing',\n",
              " 'tranquillize']"
            ]
          },
          "execution_count": 37,
          "metadata": {},
          "output_type": "execute_result"
        }
      ],
      "source": [
        "sorted(w for w in set(text_moby_dick) if 'z' in w and 'q' in w)"
      ]
    },
    {
      "cell_type": "code",
      "execution_count": 38,
      "metadata": {
        "colab": {
          "base_uri": "https://localhost:8080/"
        },
        "id": "jTGJPRrSsEEK",
        "outputId": "3cabb7eb-9239-4e0b-baf8-c71adae1eb30"
      },
      "outputs": [
        {
          "data": {
            "text/plain": [
              "['Bibliographical',\n",
              " 'Circumambulate',\n",
              " 'Congregational',\n",
              " 'Constantinople',\n",
              " 'Ehrenbreitstein',\n",
              " 'Mephistophelean',\n",
              " 'Philologically',\n",
              " 'Physiognomically',\n",
              " 'Tongatobooarrs']"
            ]
          },
          "execution_count": 38,
          "metadata": {},
          "output_type": "execute_result"
        }
      ],
      "source": [
        "sorted(wd for wd in set(text_moby_dick) if wd.istitle() and len(wd) > 13)"
      ]
    },
    {
      "cell_type": "code",
      "execution_count": 39,
      "metadata": {
        "colab": {
          "base_uri": "https://localhost:8080/"
        },
        "id": "DmMrLhILsEEL",
        "outputId": "d643cccf-b9cc-49d1-d796-f1bee40a537d"
      },
      "outputs": [
        {
          "data": {
            "text/plain": [
              "['1851', 'Dick', 'Herman', 'Melville', 'Moby', '[', ']']"
            ]
          },
          "execution_count": 39,
          "metadata": {},
          "output_type": "execute_result"
        }
      ],
      "source": [
        "sorted(w for w in set(sent) if not w.islower())"
      ]
    },
    {
      "cell_type": "code",
      "execution_count": 40,
      "metadata": {
        "colab": {
          "base_uri": "https://localhost:8080/"
        },
        "id": "K2GC61t9sEEL",
        "outputId": "ace9dc89-fc68-4620-dd81-1f1848771933"
      },
      "outputs": [
        {
          "data": {
            "text/plain": [
              "['Glacier',\n",
              " 'Receiving',\n",
              " 'Science',\n",
              " 'Sciences',\n",
              " 'Societies',\n",
              " 'Society',\n",
              " 'agencies',\n",
              " 'ancient',\n",
              " 'ancientest',\n",
              " 'ceiling',\n",
              " 'conceit',\n",
              " 'conceited',\n",
              " 'conceits',\n",
              " 'conceivable',\n",
              " 'conceive',\n",
              " 'conceived',\n",
              " 'conceives',\n",
              " 'conscience',\n",
              " 'consciences',\n",
              " 'conscientious',\n",
              " 'conscientiously',\n",
              " 'contingencies',\n",
              " 'deceitfully',\n",
              " 'deceitfulness',\n",
              " 'deceits',\n",
              " 'deceive',\n",
              " 'deceived',\n",
              " 'deceiving',\n",
              " 'deficiencies',\n",
              " 'deficiency',\n",
              " 'efficiency',\n",
              " 'efficient',\n",
              " 'emergencies',\n",
              " 'fancied',\n",
              " 'fancies',\n",
              " 'glacier',\n",
              " 'insufficient',\n",
              " 'intricacies',\n",
              " 'omniscient',\n",
              " 'omnisciently',\n",
              " 'perceive',\n",
              " 'perceived',\n",
              " 'perceiving',\n",
              " 'potencies',\n",
              " 'prescience',\n",
              " 'prescient',\n",
              " 'prophecies',\n",
              " 'receive',\n",
              " 'received',\n",
              " 'receives',\n",
              " 'receiving',\n",
              " 'science',\n",
              " 'sciences',\n",
              " 'scientific',\n",
              " 'society',\n",
              " 'species',\n",
              " 'sufficient',\n",
              " 'sufficiently',\n",
              " 'unscientific',\n",
              " 'vacancies']"
            ]
          },
          "execution_count": 40,
          "metadata": {},
          "output_type": "execute_result"
        }
      ],
      "source": [
        "sorted(t for t in set(text_moby_dick) if 'cie' in t or 'cei' in t)"
      ]
    },
    {
      "cell_type": "markdown",
      "metadata": {
        "id": "SNSzbZxqenRP"
      },
      "source": [
        "# Корпус Brown\n",
        "\n",
        "Первый электронный корпус английского языка объемом в миллион слов, созданный в 1961 году в Университете Брауна. Этот корпус содержит тексты из 500 источников, которые разбиты по жанрам."
      ]
    },
    {
      "cell_type": "code",
      "execution_count": 41,
      "metadata": {
        "colab": {
          "base_uri": "https://localhost:8080/"
        },
        "id": "Rr47azFNgUVe",
        "outputId": "f77e90b1-1158-44bb-edc9-45ca833210e2"
      },
      "outputs": [
        {
          "name": "stderr",
          "output_type": "stream",
          "text": [
            "[nltk_data] Downloading package brown to /home/egor/nltk_data...\n",
            "[nltk_data]   Unzipping corpora/brown.zip.\n"
          ]
        },
        {
          "data": {
            "text/plain": [
              "True"
            ]
          },
          "execution_count": 41,
          "metadata": {},
          "output_type": "execute_result"
        }
      ],
      "source": [
        "nltk.download('brown')"
      ]
    },
    {
      "cell_type": "code",
      "execution_count": 42,
      "metadata": {
        "id": "nPLfrw4vgSgg"
      },
      "outputs": [],
      "source": [
        "from nltk.corpus import brown"
      ]
    },
    {
      "cell_type": "code",
      "execution_count": 43,
      "metadata": {
        "colab": {
          "base_uri": "https://localhost:8080/"
        },
        "id": "eB-Bz370gV9Q",
        "outputId": "464155b5-5cc9-4183-df7a-874de04808c3"
      },
      "outputs": [
        {
          "data": {
            "text/plain": [
              "['adventure',\n",
              " 'belles_lettres',\n",
              " 'editorial',\n",
              " 'fiction',\n",
              " 'government',\n",
              " 'hobbies',\n",
              " 'humor',\n",
              " 'learned',\n",
              " 'lore',\n",
              " 'mystery',\n",
              " 'news',\n",
              " 'religion',\n",
              " 'reviews',\n",
              " 'romance',\n",
              " 'science_fiction']"
            ]
          },
          "execution_count": 43,
          "metadata": {},
          "output_type": "execute_result"
        }
      ],
      "source": [
        "brown.categories()"
      ]
    },
    {
      "cell_type": "markdown",
      "metadata": {
        "id": "hh9EGvLXguWg"
      },
      "source": [
        "Изучение систематических различий между жанрами, своего рода лингвистическое исследование, известное как стилистика.\n",
        "\n",
        "  Давайте сравним жанры в использовании модальных глаголов."
      ]
    },
    {
      "cell_type": "code",
      "execution_count": 44,
      "metadata": {
        "id": "va6xsaIFgh2n"
      },
      "outputs": [],
      "source": [
        "cfd = nltk.ConditionalFreqDist(\n",
        "          (genre, word)\n",
        "          for genre in brown.categories()\n",
        "          for word in brown.words(categories=genre))"
      ]
    },
    {
      "cell_type": "code",
      "execution_count": 45,
      "metadata": {
        "colab": {
          "base_uri": "https://localhost:8080/"
        },
        "id": "nMXaMgUUt6F6",
        "outputId": "1390bd0a-3b8b-4666-dbda-cb08c56336c3"
      },
      "outputs": [
        {
          "name": "stdout",
          "output_type": "stream",
          "text": [
            "                  can could   may might  must  will \n",
            "           news    93    86    66    38    50   389 \n",
            "       religion    82    59    78    12    54    71 \n",
            "        hobbies   268    58   131    22    83   264 \n",
            "science_fiction    16    49     4    12     8    16 \n",
            "        romance    74   193    11    51    45    43 \n",
            "          humor    16    30     8     8     9    13 \n"
          ]
        }
      ],
      "source": [
        "genres = ['news', 'religion', 'hobbies', 'science_fiction', 'romance', 'humor']\n",
        "modals = ['can', 'could', 'may', 'might', 'must', 'will']\n",
        "cfd.tabulate(conditions=genres, samples=modals)"
      ]
    },
    {
      "cell_type": "markdown",
      "metadata": {
        "id": "B81EFu7jmFsm"
      },
      "source": [
        "Дополнительные сведения о Conditional Frequency\n",
        "\n",
        "* `cfdist = ConditionalFreqDist(pairs)`\tсоздать условное частотное распределение для списка `pairs`\n",
        "* `cfdist.conditions()`\tусловия\n",
        "* `cfdist[condition]`\tчастотное распределение для этого условия\n",
        "* `cfdist[condition][sample]`\tчастота для данного образца для этого условия\n",
        "* `cfdist.tabulate()`\tсвести в таблицу условное частотное распределение\n",
        "* `cfdist.tabulate(samples, conditions)`\tтабулирование ограничено указанными образцами и условиями\n",
        "* `cfdist.plot()`\tграфик условного распределения частот\n",
        "* `cfdist.plot(samples, conditions)`\tграфическое изображение, ограниченное указанными образцами и условиями\n",
        "* `cfdist1 < cfdist2`\tпроверить, если образцы в `cfdist1` встречаются реже, чем в `cfdist2`"
      ]
    },
    {
      "cell_type": "markdown",
      "metadata": {
        "id": "beNVN5BKhfPh"
      },
      "source": [
        "# **Корпус про Речь Президентов США**"
      ]
    },
    {
      "cell_type": "code",
      "execution_count": 46,
      "metadata": {
        "colab": {
          "base_uri": "https://localhost:8080/"
        },
        "id": "iF7bZhvtQe6D",
        "outputId": "91d4c0c3-5c38-449c-ac40-23b64592669f"
      },
      "outputs": [
        {
          "name": "stderr",
          "output_type": "stream",
          "text": [
            "[nltk_data] Downloading package inaugural to /home/egor/nltk_data...\n",
            "[nltk_data]   Unzipping corpora/inaugural.zip.\n"
          ]
        },
        {
          "data": {
            "text/plain": [
              "True"
            ]
          },
          "execution_count": 46,
          "metadata": {},
          "output_type": "execute_result"
        }
      ],
      "source": [
        "nltk.download('inaugural')"
      ]
    },
    {
      "cell_type": "code",
      "execution_count": 47,
      "metadata": {
        "id": "yK_koQ_OhzgZ"
      },
      "outputs": [],
      "source": [
        "from nltk.corpus import inaugural"
      ]
    },
    {
      "cell_type": "code",
      "execution_count": 48,
      "metadata": {
        "colab": {
          "base_uri": "https://localhost:8080/"
        },
        "id": "hr0gH9Wzh0i5",
        "outputId": "f130da01-742c-4ea6-8850-59a59471676b"
      },
      "outputs": [
        {
          "data": {
            "text/plain": [
              "['1789-Washington.txt',\n",
              " '1793-Washington.txt',\n",
              " '1797-Adams.txt',\n",
              " '1801-Jefferson.txt',\n",
              " '1805-Jefferson.txt',\n",
              " '1809-Madison.txt',\n",
              " '1813-Madison.txt',\n",
              " '1817-Monroe.txt',\n",
              " '1821-Monroe.txt',\n",
              " '1825-Adams.txt',\n",
              " '1829-Jackson.txt',\n",
              " '1833-Jackson.txt',\n",
              " '1837-VanBuren.txt',\n",
              " '1841-Harrison.txt',\n",
              " '1845-Polk.txt',\n",
              " '1849-Taylor.txt',\n",
              " '1853-Pierce.txt',\n",
              " '1857-Buchanan.txt',\n",
              " '1861-Lincoln.txt',\n",
              " '1865-Lincoln.txt',\n",
              " '1869-Grant.txt',\n",
              " '1873-Grant.txt',\n",
              " '1877-Hayes.txt',\n",
              " '1881-Garfield.txt',\n",
              " '1885-Cleveland.txt',\n",
              " '1889-Harrison.txt',\n",
              " '1893-Cleveland.txt',\n",
              " '1897-McKinley.txt',\n",
              " '1901-McKinley.txt',\n",
              " '1905-Roosevelt.txt',\n",
              " '1909-Taft.txt',\n",
              " '1913-Wilson.txt',\n",
              " '1917-Wilson.txt',\n",
              " '1921-Harding.txt',\n",
              " '1925-Coolidge.txt',\n",
              " '1929-Hoover.txt',\n",
              " '1933-Roosevelt.txt',\n",
              " '1937-Roosevelt.txt',\n",
              " '1941-Roosevelt.txt',\n",
              " '1945-Roosevelt.txt',\n",
              " '1949-Truman.txt',\n",
              " '1953-Eisenhower.txt',\n",
              " '1957-Eisenhower.txt',\n",
              " '1961-Kennedy.txt',\n",
              " '1965-Johnson.txt',\n",
              " '1969-Nixon.txt',\n",
              " '1973-Nixon.txt',\n",
              " '1977-Carter.txt',\n",
              " '1981-Reagan.txt',\n",
              " '1985-Reagan.txt',\n",
              " '1989-Bush.txt',\n",
              " '1993-Clinton.txt',\n",
              " '1997-Clinton.txt',\n",
              " '2001-Bush.txt',\n",
              " '2005-Bush.txt',\n",
              " '2009-Obama.txt',\n",
              " '2013-Obama.txt',\n",
              " '2017-Trump.txt',\n",
              " '2021-Biden.txt',\n",
              " '2025-Trump.txt']"
            ]
          },
          "execution_count": 48,
          "metadata": {},
          "output_type": "execute_result"
        }
      ],
      "source": [
        "inaugural.fileids()"
      ]
    },
    {
      "cell_type": "markdown",
      "metadata": {
        "id": "ra1S7PCrh14a"
      },
      "source": [
        "Есть и Байден, и Трамп. Кайф"
      ]
    },
    {
      "cell_type": "markdown",
      "metadata": {
        "id": "ICPiTsr4iDwJ"
      },
      "source": [
        "**Dispersion plot**\n",
        "\n",
        "Каждая полоса представляет собой экземпляр слова, а каждая строка представляет собой весь текст."
      ]
    },
    {
      "cell_type": "code",
      "execution_count": 49,
      "metadata": {
        "id": "qUpBT3qFiLpS"
      },
      "outputs": [],
      "source": [
        "corpus_inaugural = inaugural.words()\n",
        "text_inaugural = Text(corpus_inaugural)"
      ]
    },
    {
      "cell_type": "code",
      "execution_count": 50,
      "metadata": {
        "colab": {
          "base_uri": "https://localhost:8080/",
          "height": 472
        },
        "id": "Iuu7kvfDh_ZJ",
        "outputId": "a33a9a8f-1480-4150-a434-4fa0cc4878ed"
      },
      "outputs": [
        {
          "data": {
            "image/png": "[encoded data removed]",
            "text/plain": [
              "<Figure size 640x480 with 1 Axes>"
            ]
          },
          "metadata": {},
          "output_type": "display_data"
        }
      ],
      "source": [
        "text_inaugural.dispersion_plot([\"citizens\", \"democracy\", \"freedom\", \"duties\", \"America\"]    );"
      ]
    },
    {
      "cell_type": "markdown",
      "metadata": {
        "id": "YK4Cb37-jm0q"
      },
      "source": [
        "Ну или можно поиграться с условными вероятностями"
      ]
    },
    {
      "cell_type": "code",
      "execution_count": 51,
      "metadata": {
        "id": "2W3cXe6FjDzj"
      },
      "outputs": [],
      "source": [
        "[re.match(r'\\d+', fileid).group()  for fileid in inaugural.fileids()];"
      ]
    },
    {
      "cell_type": "code",
      "execution_count": 52,
      "metadata": {
        "colab": {
          "base_uri": "https://localhost:8080/",
          "height": 640
        },
        "id": "Jba0hba7jQvM",
        "outputId": "e70f5cd3-e64e-413e-dcaa-e9013ab9abd2"
      },
      "outputs": [
        {
          "data": {
            "image/png": "[encoded data removed]",
            "text/plain": [
              "<Figure size 1500x700 with 1 Axes>"
            ]
          },
          "metadata": {},
          "output_type": "display_data"
        }
      ],
      "source": [
        "cfd = nltk.ConditionalFreqDist(\n",
        "           (target, re.match(fr'\\d+', fileid).group())\n",
        "           for fileid in inaugural.fileids()\n",
        "           for w in inaugural.words(fileid)\n",
        "           for target in ['america', 'citizen']\n",
        "           if w.lower().startswith(target))\n",
        "\n",
        "fig = plt.figure(figsize = (15,7))\n",
        "cfd.plot();"
      ]
    },
    {
      "cell_type": "markdown",
      "metadata": {
        "id": "YQwDsJZJmtYG"
      },
      "source": [
        "#  Прочие Лексические Ресурсы"
      ]
    },
    {
      "cell_type": "markdown",
      "metadata": {
        "id": "HKNS6MMpm4j-"
      },
      "source": [
        "**Корпус Wordlist**\n",
        "\n",
        "NLTK включает в себя несколько корпусов, которые представляют собой не что иное, как списки слов. Корпус Words — это файл /usr/share/dict/words из Unix, используемый некоторыми программами проверки орфографии.\n",
        "\n",
        "Мы можем использовать его для поиска необычных или неправильно написанных слов в текстовом корпусе."
      ]
    },
    {
      "cell_type": "code",
      "execution_count": 53,
      "metadata": {
        "colab": {
          "base_uri": "https://localhost:8080/"
        },
        "id": "eOPf7cwgnD0W",
        "outputId": "ba645f95-6120-4dcc-ba9b-6ef7264e33bc"
      },
      "outputs": [
        {
          "name": "stderr",
          "output_type": "stream",
          "text": [
            "[nltk_data] Downloading package words to /home/egor/nltk_data...\n",
            "[nltk_data]   Unzipping corpora/words.zip.\n"
          ]
        },
        {
          "data": {
            "text/plain": [
              "True"
            ]
          },
          "execution_count": 53,
          "metadata": {},
          "output_type": "execute_result"
        }
      ],
      "source": [
        "nltk.download('words')"
      ]
    },
    {
      "cell_type": "code",
      "execution_count": 54,
      "metadata": {
        "colab": {
          "base_uri": "https://localhost:8080/"
        },
        "id": "-R_6mBHancD2",
        "outputId": "d1cbca3a-df01-4c42-f21a-1d76ca8dfc9d"
      },
      "outputs": [
        {
          "data": {
            "text/plain": [
              "['A',\n",
              " 'a',\n",
              " 'aa',\n",
              " 'aal',\n",
              " 'aalii',\n",
              " 'aam',\n",
              " 'Aani',\n",
              " 'aardvark',\n",
              " 'aardwolf',\n",
              " 'Aaron',\n",
              " 'Aaronic',\n",
              " 'Aaronical',\n",
              " 'Aaronite',\n",
              " 'Aaronitic',\n",
              " 'Aaru',\n",
              " 'Ab',\n",
              " 'aba',\n",
              " 'Ababdeh',\n",
              " 'Ababua',\n",
              " 'abac',\n",
              " 'abaca',\n",
              " 'abacate',\n",
              " 'abacay',\n",
              " 'abacinate',\n",
              " 'abacination',\n",
              " 'abaciscus',\n",
              " 'abacist',\n",
              " 'aback',\n",
              " 'abactinal',\n",
              " 'abactinally',\n",
              " 'abaction',\n",
              " 'abactor',\n",
              " 'abaculus',\n",
              " 'abacus',\n",
              " 'Abadite',\n",
              " 'abaff',\n",
              " 'abaft',\n",
              " 'abaisance',\n",
              " 'abaiser',\n",
              " 'abaissed',\n",
              " 'abalienate',\n",
              " 'abalienation',\n",
              " 'abalone',\n",
              " 'Abama',\n",
              " 'abampere',\n",
              " 'abandon',\n",
              " 'abandonable',\n",
              " 'abandoned',\n",
              " 'abandonedly',\n",
              " 'abandonee',\n",
              " 'abandoner',\n",
              " 'abandonment',\n",
              " 'Abanic',\n",
              " 'Abantes',\n",
              " 'abaptiston',\n",
              " 'Abarambo',\n",
              " 'Abaris',\n",
              " 'abarthrosis',\n",
              " 'abarticular',\n",
              " 'abarticulation',\n",
              " 'abas',\n",
              " 'abase',\n",
              " 'abased',\n",
              " 'abasedly',\n",
              " 'abasedness',\n",
              " 'abasement',\n",
              " 'abaser',\n",
              " 'Abasgi',\n",
              " 'abash',\n",
              " 'abashed',\n",
              " 'abashedly',\n",
              " 'abashedness',\n",
              " 'abashless',\n",
              " 'abashlessly',\n",
              " 'abashment',\n",
              " 'abasia',\n",
              " 'abasic',\n",
              " 'abask',\n",
              " 'Abassin',\n",
              " 'abastardize',\n",
              " 'abatable',\n",
              " 'abate',\n",
              " 'abatement',\n",
              " 'abater',\n",
              " 'abatis',\n",
              " 'abatised',\n",
              " 'abaton',\n",
              " 'abator',\n",
              " 'abattoir',\n",
              " 'Abatua',\n",
              " 'abature',\n",
              " 'abave',\n",
              " 'abaxial',\n",
              " 'abaxile',\n",
              " 'abaze',\n",
              " 'abb',\n",
              " 'Abba',\n",
              " 'abbacomes',\n",
              " 'abbacy',\n",
              " 'Abbadide',\n",
              " 'abbas',\n",
              " 'abbasi',\n",
              " 'abbassi',\n",
              " 'Abbasside',\n",
              " 'abbatial',\n",
              " 'abbatical',\n",
              " 'abbess',\n",
              " 'abbey',\n",
              " 'abbeystede',\n",
              " 'Abbie',\n",
              " 'abbot',\n",
              " 'abbotcy',\n",
              " 'abbotnullius',\n",
              " 'abbotship',\n",
              " 'abbreviate',\n",
              " 'abbreviately',\n",
              " 'abbreviation',\n",
              " 'abbreviator',\n",
              " 'abbreviatory',\n",
              " 'abbreviature',\n",
              " 'Abby',\n",
              " 'abcoulomb',\n",
              " 'abdal',\n",
              " 'abdat',\n",
              " 'Abderian',\n",
              " 'Abderite',\n",
              " 'abdest',\n",
              " 'abdicable',\n",
              " 'abdicant',\n",
              " 'abdicate',\n",
              " 'abdication',\n",
              " 'abdicative',\n",
              " 'abdicator',\n",
              " 'Abdiel',\n",
              " 'abditive',\n",
              " 'abditory',\n",
              " 'abdomen',\n",
              " 'abdominal',\n",
              " 'Abdominales',\n",
              " 'abdominalian',\n",
              " 'abdominally',\n",
              " 'abdominoanterior',\n",
              " 'abdominocardiac',\n",
              " 'abdominocentesis',\n",
              " 'abdominocystic',\n",
              " 'abdominogenital',\n",
              " 'abdominohysterectomy',\n",
              " 'abdominohysterotomy',\n",
              " 'abdominoposterior',\n",
              " 'abdominoscope',\n",
              " 'abdominoscopy',\n",
              " 'abdominothoracic',\n",
              " 'abdominous',\n",
              " 'abdominovaginal',\n",
              " 'abdominovesical',\n",
              " 'abduce',\n",
              " 'abducens',\n",
              " 'abducent',\n",
              " 'abduct',\n",
              " 'abduction',\n",
              " 'abductor',\n",
              " 'Abe',\n",
              " 'abeam',\n",
              " 'abear',\n",
              " 'abearance',\n",
              " 'abecedarian',\n",
              " 'abecedarium',\n",
              " 'abecedary',\n",
              " 'abed',\n",
              " 'abeigh',\n",
              " 'Abel',\n",
              " 'abele',\n",
              " 'Abelia',\n",
              " 'Abelian',\n",
              " 'Abelicea',\n",
              " 'Abelite',\n",
              " 'abelite',\n",
              " 'Abelmoschus',\n",
              " 'abelmosk',\n",
              " 'Abelonian',\n",
              " 'abeltree',\n",
              " 'Abencerrages',\n",
              " 'abenteric',\n",
              " 'abepithymia',\n",
              " 'Aberdeen',\n",
              " 'aberdevine',\n",
              " 'Aberdonian',\n",
              " 'Aberia',\n",
              " 'aberrance',\n",
              " 'aberrancy',\n",
              " 'aberrant',\n",
              " 'aberrate',\n",
              " 'aberration',\n",
              " 'aberrational',\n",
              " 'aberrator',\n",
              " 'aberrometer',\n",
              " 'aberroscope',\n",
              " 'aberuncator',\n",
              " 'abet',\n",
              " 'abetment',\n",
              " 'abettal',\n",
              " 'abettor',\n",
              " 'abevacuation',\n",
              " 'abey',\n",
              " 'abeyance',\n",
              " 'abeyancy',\n",
              " 'abeyant',\n",
              " 'abfarad',\n",
              " 'abhenry',\n",
              " 'abhiseka',\n",
              " 'abhominable',\n",
              " 'abhor',\n",
              " 'abhorrence',\n",
              " 'abhorrency',\n",
              " 'abhorrent',\n",
              " 'abhorrently',\n",
              " 'abhorrer',\n",
              " 'abhorrible',\n",
              " 'abhorring',\n",
              " 'Abhorson',\n",
              " 'abidal',\n",
              " 'abidance',\n",
              " 'abide',\n",
              " 'abider',\n",
              " 'abidi',\n",
              " 'abiding',\n",
              " 'abidingly',\n",
              " 'abidingness',\n",
              " 'Abie',\n",
              " 'Abies',\n",
              " 'abietate',\n",
              " 'abietene',\n",
              " 'abietic',\n",
              " 'abietin',\n",
              " 'Abietineae',\n",
              " 'abietineous',\n",
              " 'abietinic',\n",
              " 'Abiezer',\n",
              " 'Abigail',\n",
              " 'abigail',\n",
              " 'abigailship',\n",
              " 'abigeat',\n",
              " 'abigeus',\n",
              " 'abilao',\n",
              " 'ability',\n",
              " 'abilla',\n",
              " 'abilo',\n",
              " 'abintestate',\n",
              " 'abiogenesis',\n",
              " 'abiogenesist',\n",
              " 'abiogenetic',\n",
              " 'abiogenetical',\n",
              " 'abiogenetically',\n",
              " 'abiogenist',\n",
              " 'abiogenous',\n",
              " 'abiogeny',\n",
              " 'abiological',\n",
              " 'abiologically',\n",
              " 'abiology',\n",
              " 'abiosis',\n",
              " 'abiotic',\n",
              " 'abiotrophic',\n",
              " 'abiotrophy',\n",
              " 'Abipon',\n",
              " 'abir',\n",
              " 'abirritant',\n",
              " 'abirritate',\n",
              " 'abirritation',\n",
              " 'abirritative',\n",
              " 'abiston',\n",
              " 'Abitibi',\n",
              " 'abiuret',\n",
              " 'abject',\n",
              " 'abjectedness',\n",
              " 'abjection',\n",
              " 'abjective',\n",
              " 'abjectly',\n",
              " 'abjectness',\n",
              " 'abjoint',\n",
              " 'abjudge',\n",
              " 'abjudicate',\n",
              " 'abjudication',\n",
              " 'abjunction',\n",
              " 'abjunctive',\n",
              " 'abjuration',\n",
              " 'abjuratory',\n",
              " 'abjure',\n",
              " 'abjurement',\n",
              " 'abjurer',\n",
              " 'abkar',\n",
              " 'abkari',\n",
              " 'Abkhas',\n",
              " 'Abkhasian',\n",
              " 'ablach',\n",
              " 'ablactate',\n",
              " 'ablactation',\n",
              " 'ablare',\n",
              " 'ablastemic',\n",
              " 'ablastous',\n",
              " 'ablate',\n",
              " 'ablation',\n",
              " 'ablatitious',\n",
              " 'ablatival',\n",
              " 'ablative',\n",
              " 'ablator',\n",
              " 'ablaut',\n",
              " 'ablaze',\n",
              " 'able',\n",
              " 'ableeze',\n",
              " 'ablegate',\n",
              " 'ableness',\n",
              " 'ablepharia',\n",
              " 'ablepharon',\n",
              " 'ablepharous',\n",
              " 'Ablepharus',\n",
              " 'ablepsia',\n",
              " 'ableptical',\n",
              " 'ableptically',\n",
              " 'abler',\n",
              " 'ablest',\n",
              " 'ablewhackets',\n",
              " 'ablins',\n",
              " 'abloom',\n",
              " 'ablow',\n",
              " 'ablude',\n",
              " 'abluent',\n",
              " 'ablush',\n",
              " 'ablution',\n",
              " 'ablutionary',\n",
              " 'abluvion',\n",
              " 'ably',\n",
              " 'abmho',\n",
              " 'Abnaki',\n",
              " 'abnegate',\n",
              " 'abnegation',\n",
              " 'abnegative',\n",
              " 'abnegator',\n",
              " 'Abner',\n",
              " 'abnerval',\n",
              " 'abnet',\n",
              " 'abneural',\n",
              " 'abnormal',\n",
              " 'abnormalism',\n",
              " 'abnormalist',\n",
              " 'abnormality',\n",
              " 'abnormalize',\n",
              " 'abnormally',\n",
              " 'abnormalness',\n",
              " 'abnormity',\n",
              " 'abnormous',\n",
              " 'abnumerable',\n",
              " 'Abo',\n",
              " 'aboard',\n",
              " 'Abobra',\n",
              " 'abode',\n",
              " 'abodement',\n",
              " 'abody',\n",
              " 'abohm',\n",
              " 'aboil',\n",
              " 'abolish',\n",
              " 'abolisher',\n",
              " 'abolishment',\n",
              " 'abolition',\n",
              " 'abolitionary',\n",
              " 'abolitionism',\n",
              " 'abolitionist',\n",
              " 'abolitionize',\n",
              " 'abolla',\n",
              " 'aboma',\n",
              " 'abomasum',\n",
              " 'abomasus',\n",
              " 'abominable',\n",
              " 'abominableness',\n",
              " 'abominably',\n",
              " 'abominate',\n",
              " 'abomination',\n",
              " 'abominator',\n",
              " 'abomine',\n",
              " 'Abongo',\n",
              " 'aboon',\n",
              " 'aborad',\n",
              " 'aboral',\n",
              " 'aborally',\n",
              " 'abord',\n",
              " 'aboriginal',\n",
              " 'aboriginality',\n",
              " 'aboriginally',\n",
              " 'aboriginary',\n",
              " 'aborigine',\n",
              " 'abort',\n",
              " 'aborted',\n",
              " 'aborticide',\n",
              " 'abortient',\n",
              " 'abortifacient',\n",
              " 'abortin',\n",
              " 'abortion',\n",
              " 'abortional',\n",
              " 'abortionist',\n",
              " 'abortive',\n",
              " 'abortively',\n",
              " 'abortiveness',\n",
              " 'abortus',\n",
              " 'abouchement',\n",
              " 'abound',\n",
              " 'abounder',\n",
              " 'abounding',\n",
              " 'aboundingly',\n",
              " 'about',\n",
              " 'abouts',\n",
              " 'above',\n",
              " 'aboveboard',\n",
              " 'abovedeck',\n",
              " 'aboveground',\n",
              " 'aboveproof',\n",
              " 'abovestairs',\n",
              " 'abox',\n",
              " 'abracadabra',\n",
              " 'abrachia',\n",
              " 'abradant',\n",
              " 'abrade',\n",
              " 'abrader',\n",
              " 'Abraham',\n",
              " 'Abrahamic',\n",
              " 'Abrahamidae',\n",
              " 'Abrahamite',\n",
              " 'Abrahamitic',\n",
              " 'abraid',\n",
              " 'Abram',\n",
              " 'Abramis',\n",
              " 'abranchial',\n",
              " 'abranchialism',\n",
              " 'abranchian',\n",
              " 'Abranchiata',\n",
              " 'abranchiate',\n",
              " 'abranchious',\n",
              " 'abrasax',\n",
              " 'abrase',\n",
              " 'abrash',\n",
              " 'abrasiometer',\n",
              " 'abrasion',\n",
              " 'abrasive',\n",
              " 'abrastol',\n",
              " 'abraum',\n",
              " 'abraxas',\n",
              " 'abreact',\n",
              " 'abreaction',\n",
              " 'abreast',\n",
              " 'abrenounce',\n",
              " 'abret',\n",
              " 'abrico',\n",
              " 'abridge',\n",
              " 'abridgeable',\n",
              " 'abridged',\n",
              " 'abridgedly',\n",
              " 'abridger',\n",
              " 'abridgment',\n",
              " 'abrim',\n",
              " 'abrin',\n",
              " 'abristle',\n",
              " 'abroach',\n",
              " 'abroad',\n",
              " 'Abrocoma',\n",
              " 'abrocome',\n",
              " 'abrogable',\n",
              " 'abrogate',\n",
              " 'abrogation',\n",
              " 'abrogative',\n",
              " 'abrogator',\n",
              " 'Abroma',\n",
              " 'Abronia',\n",
              " 'abrook',\n",
              " 'abrotanum',\n",
              " 'abrotine',\n",
              " 'abrupt',\n",
              " 'abruptedly',\n",
              " 'abruption',\n",
              " 'abruptly',\n",
              " 'abruptness',\n",
              " 'Abrus',\n",
              " 'Absalom',\n",
              " 'absampere',\n",
              " 'Absaroka',\n",
              " 'absarokite',\n",
              " 'abscess',\n",
              " 'abscessed',\n",
              " 'abscession',\n",
              " 'abscessroot',\n",
              " 'abscind',\n",
              " 'abscise',\n",
              " 'abscision',\n",
              " 'absciss',\n",
              " 'abscissa',\n",
              " 'abscissae',\n",
              " 'abscisse',\n",
              " 'abscission',\n",
              " 'absconce',\n",
              " 'abscond',\n",
              " 'absconded',\n",
              " 'abscondedly',\n",
              " 'abscondence',\n",
              " 'absconder',\n",
              " 'absconsa',\n",
              " 'abscoulomb',\n",
              " 'absence',\n",
              " 'absent',\n",
              " 'absentation',\n",
              " 'absentee',\n",
              " 'absenteeism',\n",
              " 'absenteeship',\n",
              " 'absenter',\n",
              " 'absently',\n",
              " 'absentment',\n",
              " 'absentmindedly',\n",
              " 'absentness',\n",
              " 'absfarad',\n",
              " 'abshenry',\n",
              " 'Absi',\n",
              " 'absinthe',\n",
              " 'absinthial',\n",
              " 'absinthian',\n",
              " 'absinthiate',\n",
              " 'absinthic',\n",
              " 'absinthin',\n",
              " 'absinthine',\n",
              " 'absinthism',\n",
              " 'absinthismic',\n",
              " 'absinthium',\n",
              " 'absinthol',\n",
              " 'absit',\n",
              " 'absmho',\n",
              " 'absohm',\n",
              " 'absolute',\n",
              " 'absolutely',\n",
              " 'absoluteness',\n",
              " 'absolution',\n",
              " 'absolutism',\n",
              " 'absolutist',\n",
              " 'absolutistic',\n",
              " 'absolutistically',\n",
              " 'absolutive',\n",
              " 'absolutization',\n",
              " 'absolutize',\n",
              " 'absolutory',\n",
              " 'absolvable',\n",
              " 'absolvatory',\n",
              " 'absolve',\n",
              " 'absolvent',\n",
              " 'absolver',\n",
              " 'absolvitor',\n",
              " 'absolvitory',\n",
              " 'absonant',\n",
              " 'absonous',\n",
              " 'absorb',\n",
              " 'absorbability',\n",
              " 'absorbable',\n",
              " 'absorbed',\n",
              " 'absorbedly',\n",
              " 'absorbedness',\n",
              " 'absorbefacient',\n",
              " 'absorbency',\n",
              " 'absorbent',\n",
              " 'absorber',\n",
              " 'absorbing',\n",
              " 'absorbingly',\n",
              " 'absorbition',\n",
              " 'absorpt',\n",
              " 'absorptance',\n",
              " 'absorptiometer',\n",
              " 'absorptiometric',\n",
              " 'absorption',\n",
              " 'absorptive',\n",
              " 'absorptively',\n",
              " 'absorptiveness',\n",
              " 'absorptivity',\n",
              " 'absquatulate',\n",
              " 'abstain',\n",
              " 'abstainer',\n",
              " 'abstainment',\n",
              " 'abstemious',\n",
              " 'abstemiously',\n",
              " 'abstemiousness',\n",
              " 'abstention',\n",
              " 'abstentionist',\n",
              " 'abstentious',\n",
              " 'absterge',\n",
              " 'abstergent',\n",
              " 'abstersion',\n",
              " 'abstersive',\n",
              " 'abstersiveness',\n",
              " 'abstinence',\n",
              " 'abstinency',\n",
              " 'abstinent',\n",
              " 'abstinential',\n",
              " 'abstinently',\n",
              " 'abstract',\n",
              " 'abstracted',\n",
              " 'abstractedly',\n",
              " 'abstractedness',\n",
              " 'abstracter',\n",
              " 'abstraction',\n",
              " 'abstractional',\n",
              " 'abstractionism',\n",
              " 'abstractionist',\n",
              " 'abstractitious',\n",
              " 'abstractive',\n",
              " 'abstractively',\n",
              " 'abstractiveness',\n",
              " 'abstractly',\n",
              " 'abstractness',\n",
              " 'abstractor',\n",
              " 'abstrahent',\n",
              " 'abstricted',\n",
              " 'abstriction',\n",
              " 'abstruse',\n",
              " 'abstrusely',\n",
              " 'abstruseness',\n",
              " 'abstrusion',\n",
              " 'abstrusity',\n",
              " 'absume',\n",
              " 'absumption',\n",
              " 'absurd',\n",
              " 'absurdity',\n",
              " 'absurdly',\n",
              " 'absurdness',\n",
              " 'absvolt',\n",
              " 'Absyrtus',\n",
              " 'abterminal',\n",
              " 'abthain',\n",
              " 'abthainrie',\n",
              " 'abthainry',\n",
              " 'abthanage',\n",
              " 'Abu',\n",
              " 'abu',\n",
              " 'abucco',\n",
              " 'abulia',\n",
              " 'abulic',\n",
              " 'abulomania',\n",
              " 'abuna',\n",
              " 'abundance',\n",
              " 'abundancy',\n",
              " 'abundant',\n",
              " 'Abundantia',\n",
              " 'abundantly',\n",
              " 'abura',\n",
              " 'aburabozu',\n",
              " 'aburban',\n",
              " 'aburst',\n",
              " 'aburton',\n",
              " 'abusable',\n",
              " 'abuse',\n",
              " 'abusedly',\n",
              " 'abusee',\n",
              " 'abuseful',\n",
              " 'abusefully',\n",
              " 'abusefulness',\n",
              " 'abuser',\n",
              " 'abusion',\n",
              " 'abusious',\n",
              " 'abusive',\n",
              " 'abusively',\n",
              " 'abusiveness',\n",
              " 'abut',\n",
              " 'Abuta',\n",
              " 'Abutilon',\n",
              " 'abutment',\n",
              " 'abuttal',\n",
              " 'abutter',\n",
              " 'abutting',\n",
              " 'abuzz',\n",
              " 'abvolt',\n",
              " 'abwab',\n",
              " 'aby',\n",
              " 'abysm',\n",
              " 'abysmal',\n",
              " 'abysmally',\n",
              " 'abyss',\n",
              " 'abyssal',\n",
              " 'Abyssinian',\n",
              " 'abyssobenthonic',\n",
              " 'abyssolith',\n",
              " 'abyssopelagic',\n",
              " 'acacatechin',\n",
              " 'acacatechol',\n",
              " 'acacetin',\n",
              " 'Acacia',\n",
              " 'Acacian',\n",
              " 'acaciin',\n",
              " 'acacin',\n",
              " 'academe',\n",
              " 'academial',\n",
              " 'academian',\n",
              " 'Academic',\n",
              " 'academic',\n",
              " 'academical',\n",
              " 'academically',\n",
              " 'academicals',\n",
              " 'academician',\n",
              " 'academicism',\n",
              " 'academism',\n",
              " 'academist',\n",
              " 'academite',\n",
              " 'academization',\n",
              " 'academize',\n",
              " 'Academus',\n",
              " 'academy',\n",
              " 'Acadia',\n",
              " 'acadialite',\n",
              " 'Acadian',\n",
              " 'Acadie',\n",
              " 'Acaena',\n",
              " 'acajou',\n",
              " 'acaleph',\n",
              " 'Acalepha',\n",
              " 'Acalephae',\n",
              " 'acalephan',\n",
              " 'acalephoid',\n",
              " 'acalycal',\n",
              " 'acalycine',\n",
              " 'acalycinous',\n",
              " 'acalyculate',\n",
              " 'Acalypha',\n",
              " 'Acalypterae',\n",
              " 'Acalyptrata',\n",
              " 'Acalyptratae',\n",
              " 'acalyptrate',\n",
              " 'Acamar',\n",
              " 'acampsia',\n",
              " 'acana',\n",
              " 'acanaceous',\n",
              " 'acanonical',\n",
              " 'acanth',\n",
              " 'acantha',\n",
              " 'Acanthaceae',\n",
              " 'acanthaceous',\n",
              " 'acanthad',\n",
              " 'Acantharia',\n",
              " 'Acanthia',\n",
              " 'acanthial',\n",
              " 'acanthin',\n",
              " 'acanthine',\n",
              " 'acanthion',\n",
              " 'acanthite',\n",
              " 'acanthocarpous',\n",
              " 'Acanthocephala',\n",
              " 'acanthocephalan',\n",
              " 'Acanthocephali',\n",
              " 'acanthocephalous',\n",
              " 'Acanthocereus',\n",
              " 'acanthocladous',\n",
              " 'Acanthodea',\n",
              " 'acanthodean',\n",
              " 'Acanthodei',\n",
              " 'Acanthodes',\n",
              " 'acanthodian',\n",
              " 'Acanthodidae',\n",
              " 'Acanthodii',\n",
              " 'Acanthodini',\n",
              " 'acanthoid',\n",
              " 'Acantholimon',\n",
              " 'acanthological',\n",
              " 'acanthology',\n",
              " 'acantholysis',\n",
              " 'acanthoma',\n",
              " 'Acanthomeridae',\n",
              " 'acanthon',\n",
              " 'Acanthopanax',\n",
              " 'Acanthophis',\n",
              " 'acanthophorous',\n",
              " 'acanthopod',\n",
              " 'acanthopodous',\n",
              " 'acanthopomatous',\n",
              " 'acanthopore',\n",
              " 'acanthopteran',\n",
              " 'Acanthopteri',\n",
              " 'acanthopterous',\n",
              " 'acanthopterygian',\n",
              " 'Acanthopterygii',\n",
              " 'acanthosis',\n",
              " 'acanthous',\n",
              " 'Acanthuridae',\n",
              " 'Acanthurus',\n",
              " 'acanthus',\n",
              " 'acapnia',\n",
              " 'acapnial',\n",
              " 'acapsular',\n",
              " 'acapu',\n",
              " 'acapulco',\n",
              " 'acara',\n",
              " 'Acarapis',\n",
              " 'acardia',\n",
              " 'acardiac',\n",
              " 'acari',\n",
              " 'acarian',\n",
              " 'acariasis',\n",
              " 'acaricidal',\n",
              " 'acaricide',\n",
              " 'acarid',\n",
              " 'Acarida',\n",
              " 'Acaridea',\n",
              " 'acaridean',\n",
              " 'acaridomatium',\n",
              " 'acariform',\n",
              " 'Acarina',\n",
              " 'acarine',\n",
              " 'acarinosis',\n",
              " 'acarocecidium',\n",
              " 'acarodermatitis',\n",
              " 'acaroid',\n",
              " 'acarol',\n",
              " 'acarologist',\n",
              " 'acarology',\n",
              " 'acarophilous',\n",
              " 'acarophobia',\n",
              " 'acarotoxic',\n",
              " 'acarpelous',\n",
              " 'acarpous',\n",
              " 'Acarus',\n",
              " 'Acastus',\n",
              " 'acatalectic',\n",
              " 'acatalepsia',\n",
              " 'acatalepsy',\n",
              " 'acataleptic',\n",
              " 'acatallactic',\n",
              " 'acatamathesia',\n",
              " 'acataphasia',\n",
              " 'acataposis',\n",
              " 'acatastasia',\n",
              " 'acatastatic',\n",
              " 'acate',\n",
              " 'acategorical',\n",
              " 'acatery',\n",
              " 'acatharsia',\n",
              " 'acatharsy',\n",
              " 'acatholic',\n",
              " 'acaudal',\n",
              " 'acaudate',\n",
              " 'acaulescent',\n",
              " 'acauline',\n",
              " 'acaulose',\n",
              " 'acaulous',\n",
              " 'acca',\n",
              " 'accede',\n",
              " 'accedence',\n",
              " 'acceder',\n",
              " 'accelerable',\n",
              " 'accelerando',\n",
              " 'accelerant',\n",
              " 'accelerate',\n",
              " 'accelerated',\n",
              " 'acceleratedly',\n",
              " 'acceleration',\n",
              " 'accelerative',\n",
              " 'accelerator',\n",
              " 'acceleratory',\n",
              " 'accelerograph',\n",
              " 'accelerometer',\n",
              " 'accend',\n",
              " 'accendibility',\n",
              " 'accendible',\n",
              " 'accension',\n",
              " 'accensor',\n",
              " 'accent',\n",
              " 'accentless',\n",
              " 'accentor',\n",
              " 'accentuable',\n",
              " 'accentual',\n",
              " 'accentuality',\n",
              " 'accentually',\n",
              " 'accentuate',\n",
              " 'accentuation',\n",
              " 'accentuator',\n",
              " 'accentus',\n",
              " 'accept',\n",
              " 'acceptability',\n",
              " 'acceptable',\n",
              " 'acceptableness',\n",
              " 'acceptably',\n",
              " 'acceptance',\n",
              " 'acceptancy',\n",
              " 'acceptant',\n",
              " 'acceptation',\n",
              " 'accepted',\n",
              " 'acceptedly',\n",
              " 'accepter',\n",
              " 'acceptilate',\n",
              " 'acceptilation',\n",
              " 'acception',\n",
              " 'acceptive',\n",
              " 'acceptor',\n",
              " 'acceptress',\n",
              " 'accerse',\n",
              " 'accersition',\n",
              " 'accersitor',\n",
              " 'access',\n",
              " 'accessarily',\n",
              " 'accessariness',\n",
              " 'accessary',\n",
              " 'accessaryship',\n",
              " 'accessibility',\n",
              " 'accessible',\n",
              " 'accessibly',\n",
              " 'accession',\n",
              " 'accessional',\n",
              " 'accessioner',\n",
              " 'accessive',\n",
              " 'accessively',\n",
              " 'accessless',\n",
              " 'accessorial',\n",
              " 'accessorily',\n",
              " 'accessoriness',\n",
              " 'accessorius',\n",
              " 'accessory',\n",
              " 'accidence',\n",
              " 'accidency',\n",
              " 'accident',\n",
              " 'accidental',\n",
              " 'accidentalism',\n",
              " 'accidentalist',\n",
              " 'accidentality',\n",
              " 'accidentally',\n",
              " 'accidentalness',\n",
              " 'accidented',\n",
              " 'accidential',\n",
              " 'accidentiality',\n",
              " 'accidently',\n",
              " 'accidia',\n",
              " 'accidie',\n",
              " 'accinge',\n",
              " 'accipient',\n",
              " 'Accipiter',\n",
              " 'accipitral',\n",
              " 'accipitrary',\n",
              " 'Accipitres',\n",
              " 'accipitrine',\n",
              " 'accismus',\n",
              " 'accite',\n",
              " 'acclaim',\n",
              " 'acclaimable',\n",
              " 'acclaimer',\n",
              " 'acclamation',\n",
              " 'acclamator',\n",
              " 'acclamatory',\n",
              " 'acclimatable',\n",
              " 'acclimatation',\n",
              " 'acclimate',\n",
              " 'acclimatement',\n",
              " 'acclimation',\n",
              " 'acclimatizable',\n",
              " 'acclimatization',\n",
              " 'acclimatize',\n",
              " 'acclimatizer',\n",
              " 'acclimature',\n",
              " 'acclinal',\n",
              " 'acclinate',\n",
              " 'acclivitous',\n",
              " 'acclivity',\n",
              " 'acclivous',\n",
              " 'accloy',\n",
              " 'accoast',\n",
              " 'accoil',\n",
              " 'accolade',\n",
              " 'accoladed',\n",
              " 'accolated',\n",
              " 'accolent',\n",
              " 'accolle',\n",
              " 'accombination',\n",
              " 'accommodable',\n",
              " 'accommodableness',\n",
              " 'accommodate',\n",
              " 'accommodately',\n",
              " 'accommodateness',\n",
              " 'accommodating',\n",
              " 'accommodatingly',\n",
              " 'accommodation',\n",
              " 'accommodational',\n",
              " 'accommodative',\n",
              " 'accommodativeness',\n",
              " 'accommodator',\n",
              " 'accompanier',\n",
              " 'accompaniment',\n",
              " 'accompanimental',\n",
              " 'accompanist',\n",
              " 'accompany',\n",
              " 'accompanyist',\n",
              " 'accompletive',\n",
              " 'accomplice',\n",
              " 'accompliceship',\n",
              " 'accomplicity',\n",
              " 'accomplish',\n",
              " 'accomplishable',\n",
              " 'accomplished',\n",
              " 'accomplisher',\n",
              " 'accomplishment',\n",
              " 'accomplisht',\n",
              " 'accompt',\n",
              " 'accord',\n",
              " 'accordable',\n",
              " 'accordance',\n",
              " 'accordancy',\n",
              " 'accordant',\n",
              " ...]"
            ]
          },
          "execution_count": 54,
          "metadata": {},
          "output_type": "execute_result"
        }
      ],
      "source": [
        "nltk.corpus.words.words()"
      ]
    },
    {
      "cell_type": "code",
      "execution_count": 55,
      "metadata": {
        "id": "rdnbn7cjm2df"
      },
      "outputs": [],
      "source": [
        "def unusual_words(text):\n",
        "    text_vocab = set(w.lower() for w in text if w.isalpha())\n",
        "    english_vocab = set(w.lower() for w in nltk.corpus.words.words())\n",
        "    unusual = text_vocab - english_vocab\n",
        "    return sorted(unusual)"
      ]
    },
    {
      "cell_type": "code",
      "execution_count": 56,
      "metadata": {
        "colab": {
          "base_uri": "https://localhost:8080/"
        },
        "id": "PUUlC4rwnBEm",
        "outputId": "9a399c44-8a49-4473-9c09-725147190daa"
      },
      "outputs": [
        {
          "data": {
            "text/plain": [
              "['abbeyland',\n",
              " 'abhorred',\n",
              " 'abilities',\n",
              " 'abounded',\n",
              " 'abridgement',\n",
              " 'abused',\n",
              " 'abuses',\n",
              " 'accents',\n",
              " 'accepting',\n",
              " 'accommodations',\n",
              " 'accompanied',\n",
              " 'accounted',\n",
              " 'accounts',\n",
              " 'accustomary',\n",
              " 'aches',\n",
              " 'acknowledging',\n",
              " 'acknowledgment',\n",
              " 'acknowledgments',\n",
              " 'acquaintances',\n",
              " 'acquiesced',\n",
              " 'acquitted',\n",
              " 'acquitting',\n",
              " 'acted',\n",
              " 'actions',\n",
              " 'adapted',\n",
              " 'adding',\n",
              " 'additions',\n",
              " 'addressed',\n",
              " 'addresses',\n",
              " 'addressing',\n",
              " 'adhering',\n",
              " 'adieus',\n",
              " 'adjusting',\n",
              " 'administering',\n",
              " 'admirers',\n",
              " 'admires',\n",
              " 'admitting',\n",
              " 'adorned',\n",
              " 'advances',\n",
              " 'advantages',\n",
              " 'affairs',\n",
              " 'affections',\n",
              " 'affects',\n",
              " 'affixed',\n",
              " 'afflictions',\n",
              " 'afforded',\n",
              " 'affording',\n",
              " 'ages',\n",
              " 'agitated',\n",
              " 'agonies',\n",
              " 'ailments',\n",
              " 'aimed',\n",
              " 'alarms',\n",
              " 'alienated',\n",
              " 'alighted',\n",
              " 'alleged',\n",
              " 'allenham',\n",
              " 'allowances',\n",
              " 'allowed',\n",
              " 'allowing',\n",
              " 'alluded',\n",
              " 'alterations',\n",
              " 'altered',\n",
              " 'altering',\n",
              " 'amended',\n",
              " 'amounted',\n",
              " 'amusements',\n",
              " 'ankles',\n",
              " 'annamaria',\n",
              " 'annexed',\n",
              " 'announced',\n",
              " 'announcing',\n",
              " 'annuities',\n",
              " 'annum',\n",
              " 'answered',\n",
              " 'answering',\n",
              " 'answers',\n",
              " 'anticipated',\n",
              " 'anticipating',\n",
              " 'anticipations',\n",
              " 'anymore',\n",
              " 'apartments',\n",
              " 'apologies',\n",
              " 'apologising',\n",
              " 'apologized',\n",
              " 'appearances',\n",
              " 'appeared',\n",
              " 'appearing',\n",
              " 'appeased',\n",
              " 'appetites',\n",
              " 'applauded',\n",
              " 'applying',\n",
              " 'appointed',\n",
              " 'apprehended',\n",
              " 'apprehensions',\n",
              " 'approached',\n",
              " 'approved',\n",
              " 'arbour',\n",
              " 'ardour',\n",
              " 'arguments',\n",
              " 'arranged',\n",
              " 'arrangements',\n",
              " 'arranging',\n",
              " 'arrived',\n",
              " 'arrives',\n",
              " 'arriving',\n",
              " 'ascended',\n",
              " 'ascertained',\n",
              " 'asked',\n",
              " 'asking',\n",
              " 'assembled',\n",
              " 'assemblies',\n",
              " 'asserted',\n",
              " 'assertions',\n",
              " 'assiduities',\n",
              " 'assisted',\n",
              " 'assisting',\n",
              " 'associating',\n",
              " 'assurances',\n",
              " 'astonished',\n",
              " 'atoned',\n",
              " 'atoning',\n",
              " 'attaching',\n",
              " 'attachments',\n",
              " 'attacked',\n",
              " 'attacks',\n",
              " 'attained',\n",
              " 'attempted',\n",
              " 'attempting',\n",
              " 'attempts',\n",
              " 'attendants',\n",
              " 'attended',\n",
              " 'attending',\n",
              " 'attentions',\n",
              " 'attracted',\n",
              " 'attractions',\n",
              " 'attributed',\n",
              " 'attributing',\n",
              " 'auditors',\n",
              " 'augmenting',\n",
              " 'austen',\n",
              " 'authorised',\n",
              " 'authors',\n",
              " 'availed',\n",
              " 'avignon',\n",
              " 'avoided',\n",
              " 'avoiding',\n",
              " 'awaited',\n",
              " 'awakened',\n",
              " 'awaking',\n",
              " 'bags',\n",
              " 'balls',\n",
              " 'banished',\n",
              " 'barouches',\n",
              " 'bathed',\n",
              " 'bears',\n",
              " 'beasts',\n",
              " 'beauties',\n",
              " 'became',\n",
              " 'bedrooms',\n",
              " 'beds',\n",
              " 'befallen',\n",
              " 'befalls',\n",
              " 'befell',\n",
              " 'began',\n",
              " 'begged',\n",
              " 'begins',\n",
              " 'behaved',\n",
              " 'beings',\n",
              " 'believed',\n",
              " 'believes',\n",
              " 'belonged',\n",
              " 'belongs',\n",
              " 'benefited',\n",
              " 'bequeathed',\n",
              " 'berkeley',\n",
              " 'bestowed',\n",
              " 'betrayed',\n",
              " 'betraying',\n",
              " 'biased',\n",
              " 'blackest',\n",
              " 'blameable',\n",
              " 'blessings',\n",
              " 'blights',\n",
              " 'blossoms',\n",
              " 'blundered',\n",
              " 'blushed',\n",
              " 'blushes',\n",
              " 'bolder',\n",
              " 'bones',\n",
              " 'bonomi',\n",
              " 'books',\n",
              " 'booksellers',\n",
              " 'borrowed',\n",
              " 'bottoms',\n",
              " 'boys',\n",
              " 'breakfasting',\n",
              " 'bribing',\n",
              " 'brightened',\n",
              " 'brighter',\n",
              " 'bringing',\n",
              " 'brings',\n",
              " 'broader',\n",
              " 'brothers',\n",
              " 'bruised',\n",
              " 'buildings',\n",
              " 'bursts',\n",
              " 'buying',\n",
              " 'called',\n",
              " 'calls',\n",
              " 'calming',\n",
              " 'candles',\n",
              " 'candour',\n",
              " 'canvassing',\n",
              " 'cards',\n",
              " 'cares',\n",
              " 'caresses',\n",
              " 'careys',\n",
              " 'carriages',\n",
              " 'carries',\n",
              " 'cases',\n",
              " 'casts',\n",
              " 'cats',\n",
              " 'caused',\n",
              " 'ceased',\n",
              " 'ceasing',\n",
              " 'censured',\n",
              " 'centre',\n",
              " 'certainties',\n",
              " 'chagrined',\n",
              " 'chairs',\n",
              " 'chambers',\n",
              " 'chanced',\n",
              " 'changed',\n",
              " 'changes',\n",
              " 'changing',\n",
              " 'characters',\n",
              " 'charged',\n",
              " 'charmed',\n",
              " 'charms',\n",
              " 'cheated',\n",
              " 'checking',\n",
              " 'cheeks',\n",
              " 'cheerfuller',\n",
              " 'cherished',\n",
              " 'cherries',\n",
              " 'children',\n",
              " 'choked',\n",
              " 'chuse',\n",
              " 'chusing',\n",
              " 'circles',\n",
              " 'circumstances',\n",
              " 'civilities',\n",
              " 'claimed',\n",
              " 'claiming',\n",
              " 'claims',\n",
              " 'clarke',\n",
              " 'cleared',\n",
              " 'cleveland',\n",
              " 'clogged',\n",
              " 'closing',\n",
              " 'clouds',\n",
              " 'coats',\n",
              " 'collecting',\n",
              " 'coloured',\n",
              " 'colouring',\n",
              " 'combe',\n",
              " 'comforted',\n",
              " 'comforts',\n",
              " 'comings',\n",
              " 'commanded',\n",
              " 'commands',\n",
              " 'commended',\n",
              " 'comments',\n",
              " 'commissioned',\n",
              " 'commonest',\n",
              " 'communicated',\n",
              " 'companions',\n",
              " 'compared',\n",
              " 'compares',\n",
              " 'comparisons',\n",
              " 'complained',\n",
              " 'complaining',\n",
              " 'complaints',\n",
              " 'completed',\n",
              " 'compliments',\n",
              " 'comprehended',\n",
              " 'concealing',\n",
              " 'concerns',\n",
              " 'concessions',\n",
              " 'concluded',\n",
              " 'conclusions',\n",
              " 'conditions',\n",
              " 'conducted',\n",
              " 'confessed',\n",
              " 'confidante',\n",
              " 'conforming',\n",
              " 'congratulated',\n",
              " 'congratulating',\n",
              " 'congratulations',\n",
              " 'conjectured',\n",
              " 'conjectures',\n",
              " 'conjecturing',\n",
              " 'connections',\n",
              " 'conquests',\n",
              " 'consented',\n",
              " 'consequences',\n",
              " 'considerations',\n",
              " 'considers',\n",
              " 'consisted',\n",
              " 'consists',\n",
              " 'consoled',\n",
              " 'conspired',\n",
              " 'constantia',\n",
              " 'consulted',\n",
              " 'contained',\n",
              " 'containing',\n",
              " 'contend',\n",
              " 'contenting',\n",
              " 'continuing',\n",
              " 'contradicted',\n",
              " 'contrasted',\n",
              " 'contributed',\n",
              " 'contributing',\n",
              " 'contrived',\n",
              " 'contrives',\n",
              " 'contriving',\n",
              " 'controlled',\n",
              " 'conveniences',\n",
              " 'conversations',\n",
              " 'conversed',\n",
              " 'conversing',\n",
              " 'conveyed',\n",
              " 'conveying',\n",
              " 'copying',\n",
              " 'cordials',\n",
              " 'cottages',\n",
              " 'counsellor',\n",
              " 'counteracted',\n",
              " 'couples',\n",
              " 'courted',\n",
              " 'courting',\n",
              " 'courtland',\n",
              " 'cousins',\n",
              " 'cowper',\n",
              " 'cows',\n",
              " 'coxcombs',\n",
              " 'cramps',\n",
              " 'created',\n",
              " 'creating',\n",
              " 'creatures',\n",
              " 'cries',\n",
              " 'crimsoned',\n",
              " 'curtsying',\n",
              " 'cutlets',\n",
              " 'danced',\n",
              " 'dances',\n",
              " 'dared',\n",
              " 'darker',\n",
              " 'dartford',\n",
              " 'dashwood',\n",
              " 'dashwoods',\n",
              " 'daughters',\n",
              " 'davies',\n",
              " 'dawdled',\n",
              " 'dawlish',\n",
              " 'dawned',\n",
              " 'dearer',\n",
              " 'dearest',\n",
              " 'debated',\n",
              " 'debts',\n",
              " 'deceived',\n",
              " 'deciding',\n",
              " 'decisions',\n",
              " 'declares',\n",
              " 'declaring',\n",
              " 'declining',\n",
              " 'deemed',\n",
              " 'deeper',\n",
              " 'deepest',\n",
              " 'defects',\n",
              " 'defended',\n",
              " 'deficiencies',\n",
              " 'degrees',\n",
              " 'delaford',\n",
              " 'delayed',\n",
              " 'delays',\n",
              " 'deliberating',\n",
              " 'delicacies',\n",
              " 'delighful',\n",
              " 'delineated',\n",
              " 'delivered',\n",
              " 'demanded',\n",
              " 'demands',\n",
              " 'demonstrations',\n",
              " 'demur',\n",
              " 'denied',\n",
              " 'dennison',\n",
              " 'denoted',\n",
              " 'denoting',\n",
              " 'departing',\n",
              " 'depended',\n",
              " 'depends',\n",
              " 'deprived',\n",
              " 'described',\n",
              " 'describing',\n",
              " 'deserts',\n",
              " 'deserves',\n",
              " 'designs',\n",
              " 'desiring',\n",
              " 'despatch',\n",
              " 'despatching',\n",
              " 'despised',\n",
              " 'despising',\n",
              " 'destroyed',\n",
              " 'destroys',\n",
              " 'detaining',\n",
              " 'detected',\n",
              " 'detecting',\n",
              " 'determining',\n",
              " 'deterred',\n",
              " 'detested',\n",
              " 'devolved',\n",
              " 'died',\n",
              " 'dies',\n",
              " 'differed',\n",
              " 'differing',\n",
              " 'difficulties',\n",
              " 'dimensions',\n",
              " 'diminished',\n",
              " 'dined',\n",
              " 'dinners',\n",
              " 'directing',\n",
              " 'directions',\n",
              " 'disagreements',\n",
              " 'disappeared',\n",
              " 'disappointments',\n",
              " 'disapproved',\n",
              " 'disapproves',\n",
              " 'disapproving',\n",
              " 'discarded',\n",
              " 'discharged',\n",
              " 'disclaiming',\n",
              " 'disclosing',\n",
              " 'discontents',\n",
              " 'discovering',\n",
              " 'discussions',\n",
              " 'disgraced',\n",
              " 'disinherited',\n",
              " 'disliked',\n",
              " 'dismissed',\n",
              " 'dismounted',\n",
              " 'dispatched',\n",
              " 'dispatches',\n",
              " 'dispersing',\n",
              " 'disposing',\n",
              " 'disputes',\n",
              " 'disqualifications',\n",
              " 'disregarded',\n",
              " 'dissembling',\n",
              " 'dissented',\n",
              " 'distresses',\n",
              " 'distrusts',\n",
              " 'diverted',\n",
              " 'doatingly',\n",
              " 'donavan',\n",
              " 'doomed',\n",
              " 'dooming',\n",
              " 'doors',\n",
              " 'dorsetshire',\n",
              " 'doubted',\n",
              " 'doubts',\n",
              " 'douceur',\n",
              " 'downs',\n",
              " 'dr',\n",
              " 'drains',\n",
              " 'drawings',\n",
              " 'draws',\n",
              " 'dreaded',\n",
              " 'dreading',\n",
              " 'dreaming',\n",
              " 'dresses',\n",
              " 'drives',\n",
              " 'dropped',\n",
              " 'drops',\n",
              " 'drury',\n",
              " 'duets',\n",
              " 'duties',\n",
              " 'earlier',\n",
              " 'earliest',\n",
              " 'earned',\n",
              " 'ears',\n",
              " 'echoed',\n",
              " 'editions',\n",
              " 'edtions',\n",
              " 'effected',\n",
              " 'effecting',\n",
              " 'effusions',\n",
              " 'ellison',\n",
              " 'ellisons',\n",
              " 'eloping',\n",
              " 'eluded',\n",
              " 'embellishments',\n",
              " 'embraced',\n",
              " 'embraces',\n",
              " 'employments',\n",
              " 'enabled',\n",
              " 'enamoured',\n",
              " 'encouraged',\n",
              " 'encouragements',\n",
              " 'encroachments',\n",
              " 'encumbered',\n",
              " 'endeavoring',\n",
              " 'endeavors',\n",
              " 'endeavour',\n",
              " 'endeavoured',\n",
              " 'endeavouring',\n",
              " 'endeavours',\n",
              " 'endowed',\n",
              " 'ends',\n",
              " 'endured',\n",
              " 'enfeebled',\n",
              " 'enforcing',\n",
              " 'engagements',\n",
              " 'england',\n",
              " 'enjoyed',\n",
              " 'enjoyments',\n",
              " 'enquired',\n",
              " 'enquiries',\n",
              " 'enquiring',\n",
              " 'ensued',\n",
              " 'ensured',\n",
              " 'entered',\n",
              " 'entertained',\n",
              " 'entitled',\n",
              " 'entreated',\n",
              " 'entreaties',\n",
              " 'entrusted',\n",
              " 'equalled',\n",
              " 'equals',\n",
              " 'erred',\n",
              " 'errors',\n",
              " 'escaped',\n",
              " 'esq',\n",
              " 'establishing',\n",
              " 'esteemed',\n",
              " 'esteeming',\n",
              " 'esteems',\n",
              " 'estimating',\n",
              " 'estranged',\n",
              " 'evenings',\n",
              " 'events',\n",
              " 'evils',\n",
              " 'examined',\n",
              " 'exceeded',\n",
              " 'excellencies',\n",
              " 'exchanged',\n",
              " 'exclaimed',\n",
              " 'exclamations',\n",
              " 'excused',\n",
              " 'excuses',\n",
              " 'exercised',\n",
              " 'exercising',\n",
              " 'exerted',\n",
              " 'exertions',\n",
              " 'exeter',\n",
              " 'exhilarated',\n",
              " 'existed',\n",
              " 'expectations',\n",
              " 'expected',\n",
              " 'expecting',\n",
              " 'expects',\n",
              " 'expenses',\n",
              " 'experiencing',\n",
              " 'explained',\n",
              " 'explanations',\n",
              " 'expressing',\n",
              " 'expressions',\n",
              " 'extolling',\n",
              " 'extorted',\n",
              " 'extorting',\n",
              " 'extremest',\n",
              " 'eyeing',\n",
              " 'eyes',\n",
              " 'faces',\n",
              " 'facts',\n",
              " 'failed',\n",
              " 'falls',\n",
              " 'familiarized',\n",
              " 'families',\n",
              " 'fancying',\n",
              " 'fates',\n",
              " 'fatigued',\n",
              " 'fatigues',\n",
              " 'faults',\n",
              " 'favour',\n",
              " 'favourable',\n",
              " 'favourite',\n",
              " 'favourites',\n",
              " 'fearing',\n",
              " 'fears',\n",
              " 'features',\n",
              " 'feelings',\n",
              " 'feels',\n",
              " 'feet',\n",
              " 'felicitations',\n",
              " 'females',\n",
              " 'ferrars',\n",
              " 'fetches',\n",
              " 'fettered',\n",
              " 'finds',\n",
              " 'finest',\n",
              " 'fingers',\n",
              " 'flattered',\n",
              " 'flatteries',\n",
              " 'flowed',\n",
              " 'fluctuating',\n",
              " 'flushed',\n",
              " 'foibles',\n",
              " 'followed',\n",
              " 'follows',\n",
              " 'fond',\n",
              " 'footsteps',\n",
              " 'forebodings',\n",
              " 'foreplanned',\n",
              " 'foresaw',\n",
              " 'foreseeing',\n",
              " 'foreseen',\n",
              " 'forfeited',\n",
              " 'forfeiting',\n",
              " 'forgave',\n",
              " 'forgiven',\n",
              " 'forms',\n",
              " 'forsaking',\n",
              " 'fortunes',\n",
              " 'forwarded',\n",
              " 'foundations',\n",
              " 'founded',\n",
              " 'fowls',\n",
              " 'friendliest',\n",
              " 'friends',\n",
              " 'frightens',\n",
              " 'froid',\n",
              " 'frosts',\n",
              " 'fulfil',\n",
              " 'fulfilled',\n",
              " 'fullest',\n",
              " 'gained',\n",
              " 'gales',\n",
              " 'gardens',\n",
              " 'garrets',\n",
              " 'gates',\n",
              " 'gathered',\n",
              " 'generations',\n",
              " 'gentlemen',\n",
              " 'gigs',\n",
              " 'gilberts',\n",
              " 'girls',\n",
              " 'gives',\n",
              " 'glances',\n",
              " 'gloried',\n",
              " 'gloves',\n",
              " 'godby',\n",
              " 'goings',\n",
              " 'goodby',\n",
              " 'governed',\n",
              " 'gowns',\n",
              " 'graces',\n",
              " 'grandmothers',\n",
              " 'granted',\n",
              " 'greatest',\n",
              " 'grieves',\n",
              " 'grows',\n",
              " 'guardians',\n",
              " 'guessed',\n",
              " 'guests',\n",
              " 'guided',\n",
              " 'guineas',\n",
              " 'habits',\n",
              " 'hallooing',\n",
              " 'hands',\n",
              " 'handsomer',\n",
              " 'handsomest',\n",
              " 'hang',\n",
              " 'hanover',\n",
              " 'happened',\n",
              " 'happens',\n",
              " 'hardened',\n",
              " 'hardships',\n",
              " 'harley',\n",
              " 'has',\n",
              " 'hastened',\n",
              " 'hastening',\n",
              " 'hated',\n",
              " 'hates',\n",
              " 'hating',\n",
              " 'having',\n",
              " 'hazarded',\n",
              " 'hazarding',\n",
              " 'heads',\n",
              " 'heard',\n",
              " 'hears',\n",
              " 'heightened',\n",
              " 'heightening',\n",
              " 'heights',\n",
              " 'heirs',\n",
              " 'held',\n",
              " 'hens',\n",
              " 'henshawe',\n",
              " 'hesitated',\n",
              " 'hiding',\n",
              " 'hills',\n",
              " 'hinted',\n",
              " 'hints',\n",
              " 'hoarded',\n",
              " 'holborn',\n",
              " 'holburn',\n",
              " 'holds',\n",
              " 'holidays',\n",
              " 'homes',\n",
              " 'honeysuckles',\n",
              " 'honiton',\n",
              " 'honour',\n",
              " 'honourable',\n",
              " 'honourably',\n",
              " 'honoured',\n",
              " 'honours',\n",
              " 'hopes',\n",
              " 'hoping',\n",
              " 'horrors',\n",
              " 'horses',\n",
              " 'hours',\n",
              " 'houses',\n",
              " 'howsever',\n",
              " 'humbled',\n",
              " 'humiliations',\n",
              " 'humored',\n",
              " 'humoured',\n",
              " 'humouring',\n",
              " 'hunted',\n",
              " 'hunters',\n",
              " 'hunts',\n",
              " 'hurrying',\n",
              " 'husbands',\n",
              " 'huswifes',\n",
              " 'ideas',\n",
              " 'idled',\n",
              " 'idolized',\n",
              " 'ii',\n",
              " 'imaginations',\n",
              " 'imagined',\n",
              " 'imagining',\n",
              " 'imbibed',\n",
              " 'immoveable',\n",
              " 'imparted',\n",
              " 'imperfections',\n",
              " 'implied',\n",
              " 'implies',\n",
              " 'impoverished',\n",
              " 'impoverishing',\n",
              " 'improved',\n",
              " 'improvements',\n",
              " 'imputed',\n",
              " 'inclinations',\n",
              " 'inclined',\n",
              " 'inclosing',\n",
              " 'including',\n",
              " 'incommoded',\n",
              " 'inconveniences',\n",
              " 'increased',\n",
              " 'incurred',\n",
              " 'incurring',\n",
              " 'indulged',\n",
              " 'infants',\n",
              " 'inflicted',\n",
              " 'inflicting',\n",
              " 'influenced',\n",
              " 'inforce',\n",
              " 'inforced',\n",
              " 'informing',\n",
              " 'inhabitants',\n",
              " 'inhabiting',\n",
              " 'inheriting',\n",
              " 'injuries',\n",
              " 'inquired',\n",
              " 'inquiries',\n",
              " 'insinuations',\n",
              " 'insisted',\n",
              " 'installed',\n",
              " 'instigated',\n",
              " 'instructions',\n",
              " 'insulted',\n",
              " 'intends',\n",
              " 'intentions',\n",
              " 'intents',\n",
              " 'interests',\n",
              " 'interposed',\n",
              " 'interspersed',\n",
              " 'intervals',\n",
              " 'interviews',\n",
              " 'intimated',\n",
              " 'introduced',\n",
              " 'introducing',\n",
              " 'intruded',\n",
              " 'invented',\n",
              " 'inventing',\n",
              " 'invitations',\n",
              " 'invited',\n",
              " 'irritated',\n",
              " 'irritates',\n",
              " 'issued',\n",
              " 'jealousies',\n",
              " 'jenning',\n",
              " 'jennings',\n",
              " 'jewels',\n",
              " 'jilting',\n",
              " 'joined',\n",
              " 'joked',\n",
              " 'jokes',\n",
              " 'joking',\n",
              " 'joys',\n",
              " 'judged',\n",
              " 'judging',\n",
              " 'judgments',\n",
              " 'jumbled',\n",
              " 'justified',\n",
              " 'keeps',\n",
              " 'keys',\n",
              " 'kicked',\n",
              " 'kinder',\n",
              " 'kindest',\n",
              " 'kingham',\n",
              " 'kissed',\n",
              " 'kisses',\n",
              " 'knees',\n",
              " 'knives',\n",
              " 'knows',\n",
              " 'laboured',\n",
              " 'lamentations',\n",
              " 'lamps',\n",
              " 'lanes',\n",
              " 'languages',\n",
              " 'larger',\n",
              " 'largest',\n",
              " 'lasted',\n",
              " 'laughed',\n",
              " 'laughs',\n",
              " 'leagued',\n",
              " 'legacies',\n",
              " 'lengthened',\n",
              " 'lengths',\n",
              " 'lessened',\n",
              " 'lessening',\n",
              " 'letters',\n",
              " 'letting',\n",
              " 'lies',\n",
              " 'lifted',\n",
              " 'lightened',\n",
              " 'liked',\n",
              " 'likes',\n",
              " 'limbs',\n",
              " 'limits',\n",
              " 'lines',\n",
              " 'lingered',\n",
              " 'lingering',\n",
              " 'lips',\n",
              " 'listened',\n",
              " 'lives',\n",
              " 'livings',\n",
              " 'll',\n",
              " 'lodges',\n",
              " 'loitered',\n",
              " 'lombardy',\n",
              " 'london',\n",
              " 'longed',\n",
              " 'longest',\n",
              " 'longstaple',\n",
              " 'looked',\n",
              " 'looks',\n",
              " 'loved',\n",
              " 'lovers',\n",
              " 'loves',\n",
              " 'lowered',\n",
              " 'lurking',\n",
              " 'magna',\n",
              " 'maids',\n",
              " 'maintained',\n",
              " 'makes',\n",
              " 'mama',\n",
              " 'managed',\n",
              " 'marlborough',\n",
              " 'marriages',\n",
              " 'marries',\n",
              " 'matters',\n",
              " 'maxims',\n",
              " 'meadows',\n",
              " 'meals',\n",
              " 'means',\n",
              " 'meantime',\n",
              " 'measures',\n",
              " 'medicines',\n",
              " 'meditated',\n",
              " 'meditations',\n",
              " 'meetings',\n",
              " 'mentioned',\n",
              " 'mentioning',\n",
              " 'merest',\n",
              " 'merits',\n",
              " 'merrier',\n",
              " 'messages',\n",
              " 'middleton',\n",
              " 'middletons',\n",
              " 'militated',\n",
              " 'minds',\n",
              " 'minutes',\n",
              " 'misapplied',\n",
              " 'misinformed',\n",
              " 'missed',\n",
              " 'misses',\n",
              " 'mistakes',\n",
              " 'mixing',\n",
              " 'modestest',\n",
              " 'mohrs',\n",
              " 'moments',\n",
              " 'months',\n",
              " 'mosquitoes',\n",
              " 'mothers',\n",
              " 'motives',\n",
              " 'moved',\n",
              " 'murmurings',\n",
              " 'muttered',\n",
              " 'nabobs',\n",
              " 'named',\n",
              " 'names',\n",
              " 'natured',\n",
              " 'nearer',\n",
              " 'needed',\n",
              " 'neglected',\n",
              " 'neighbour',\n",
              " 'neighbourhood',\n",
              " 'neighbouring',\n",
              " 'neighbourly',\n",
              " 'neighbours',\n",
              " 'nerves',\n",
              " 'nests',\n",
              " 'nettles',\n",
              " 'newer',\n",
              " 'newspapers',\n",
              " 'nicest',\n",
              " 'nieces',\n",
              " 'nipped',\n",
              " 'nodded',\n",
              " 'nods',\n",
              " 'noisier',\n",
              " 'notes',\n",
              " 'noticed',\n",
              " 'noticing',\n",
              " 'notions',\n",
              " 'nt',\n",
              " 'nurses',\n",
              " 'obeyed',\n",
              " 'objected',\n",
              " 'objections',\n",
              " 'objects',\n",
              " 'obligations',\n",
              " 'observations',\n",
              " 'observed',\n",
              " 'obstacles',\n",
              " 'obstructed',\n",
              " 'obtained',\n",
              " 'obtaining',\n",
              " 'obviated',\n",
              " 'obviating',\n",
              " 'occasioned',\n",
              " 'occasions',\n",
              " 'occupations',\n",
              " 'occupied',\n",
              " 'occurred',\n",
              " 'oddest',\n",
              " 'offence',\n",
              " 'offences',\n",
              " 'offending',\n",
              " 'offered',\n",
              " 'offices',\n",
              " 'oftener',\n",
              " 'oftenest',\n",
              " 'oldest',\n",
              " 'olives',\n",
              " 'omitted',\n",
              " 'ones',\n",
              " 'opened',\n",
              " 'opinions',\n",
              " 'opportunities',\n",
              " 'ordained',\n",
              " 'orders',\n",
              " 'originated',\n",
              " 'ornamented',\n",
              " 'ornaments',\n",
              " 'others',\n",
              " 'outdone',\n",
              " ...]"
            ]
          },
          "execution_count": 56,
          "metadata": {},
          "output_type": "execute_result"
        }
      ],
      "source": [
        "unusual_words(nltk.corpus.gutenberg.words('austen-sense.txt'))"
      ]
    },
    {
      "cell_type": "markdown",
      "metadata": {
        "id": "F_peVNwcmNFo"
      },
      "source": [
        "**Стоп-слова**\n",
        "\n",
        "высокочастотные слова, такие как «the», «to» и «также», которые мы иногда хотим отфильтровать из документа перед дальнейшей обработкой. Стоп-слова обычно имеют небольшое лексическое содержание, и их присутствие в тексте не отличает его от других текстов."
      ]
    },
    {
      "cell_type": "code",
      "execution_count": 57,
      "metadata": {
        "colab": {
          "base_uri": "https://localhost:8080/"
        },
        "id": "AEhCStX6mMKQ",
        "outputId": "2dedead7-2ec6-4f92-8fd7-0428c59ca90c"
      },
      "outputs": [
        {
          "name": "stderr",
          "output_type": "stream",
          "text": [
            "[nltk_data] Downloading package stopwords to /home/egor/nltk_data...\n",
            "[nltk_data]   Unzipping corpora/stopwords.zip.\n"
          ]
        },
        {
          "data": {
            "text/plain": [
              "True"
            ]
          },
          "execution_count": 57,
          "metadata": {},
          "output_type": "execute_result"
        }
      ],
      "source": [
        "nltk.download('stopwords')"
      ]
    },
    {
      "cell_type": "code",
      "execution_count": 58,
      "metadata": {
        "id": "LOZSA0Dgmh5Q"
      },
      "outputs": [],
      "source": [
        "from nltk.corpus import stopwords"
      ]
    },
    {
      "cell_type": "code",
      "execution_count": 59,
      "metadata": {
        "colab": {
          "base_uri": "https://localhost:8080/"
        },
        "id": "XI6jAkIXmeyw",
        "outputId": "5fe179e5-764c-408b-9a15-5577e7e48060"
      },
      "outputs": [
        {
          "data": {
            "text/plain": [
              "['albanian',\n",
              " 'arabic',\n",
              " 'azerbaijani',\n",
              " 'basque',\n",
              " 'belarusian',\n",
              " 'bengali',\n",
              " 'catalan',\n",
              " 'chinese',\n",
              " 'danish',\n",
              " 'dutch',\n",
              " 'english',\n",
              " 'finnish',\n",
              " 'french',\n",
              " 'german',\n",
              " 'greek',\n",
              " 'hebrew',\n",
              " 'hinglish',\n",
              " 'hungarian',\n",
              " 'indonesian',\n",
              " 'italian',\n",
              " 'kazakh',\n",
              " 'nepali',\n",
              " 'norwegian',\n",
              " 'portuguese',\n",
              " 'romanian',\n",
              " 'russian',\n",
              " 'slovene',\n",
              " 'spanish',\n",
              " 'swedish',\n",
              " 'tajik',\n",
              " 'tamil',\n",
              " 'turkish']"
            ]
          },
          "execution_count": 59,
          "metadata": {},
          "output_type": "execute_result"
        }
      ],
      "source": [
        "stopwords.fileids()"
      ]
    },
    {
      "cell_type": "code",
      "execution_count": 60,
      "metadata": {
        "colab": {
          "base_uri": "https://localhost:8080/"
        },
        "id": "OVlHoFIxmjSx",
        "outputId": "39f17162-c189-4936-b326-8250a0d7d7e7"
      },
      "outputs": [
        {
          "data": {
            "text/plain": [
              "['a',\n",
              " 'about',\n",
              " 'above',\n",
              " 'after',\n",
              " 'again',\n",
              " 'against',\n",
              " 'ain',\n",
              " 'all',\n",
              " 'am',\n",
              " 'an',\n",
              " 'and',\n",
              " 'any',\n",
              " 'are',\n",
              " 'aren',\n",
              " \"aren't\",\n",
              " 'as',\n",
              " 'at',\n",
              " 'be',\n",
              " 'because',\n",
              " 'been',\n",
              " 'before',\n",
              " 'being',\n",
              " 'below',\n",
              " 'between',\n",
              " 'both',\n",
              " 'but',\n",
              " 'by',\n",
              " 'can',\n",
              " 'couldn',\n",
              " \"couldn't\",\n",
              " 'd',\n",
              " 'did',\n",
              " 'didn',\n",
              " \"didn't\",\n",
              " 'do',\n",
              " 'does',\n",
              " 'doesn',\n",
              " \"doesn't\",\n",
              " 'doing',\n",
              " 'don',\n",
              " \"don't\",\n",
              " 'down',\n",
              " 'during',\n",
              " 'each',\n",
              " 'few',\n",
              " 'for',\n",
              " 'from',\n",
              " 'further',\n",
              " 'had',\n",
              " 'hadn',\n",
              " \"hadn't\",\n",
              " 'has',\n",
              " 'hasn',\n",
              " \"hasn't\",\n",
              " 'have',\n",
              " 'haven',\n",
              " \"haven't\",\n",
              " 'having',\n",
              " 'he',\n",
              " \"he'd\",\n",
              " \"he'll\",\n",
              " 'her',\n",
              " 'here',\n",
              " 'hers',\n",
              " 'herself',\n",
              " \"he's\",\n",
              " 'him',\n",
              " 'himself',\n",
              " 'his',\n",
              " 'how',\n",
              " 'i',\n",
              " \"i'd\",\n",
              " 'if',\n",
              " \"i'll\",\n",
              " \"i'm\",\n",
              " 'in',\n",
              " 'into',\n",
              " 'is',\n",
              " 'isn',\n",
              " \"isn't\",\n",
              " 'it',\n",
              " \"it'd\",\n",
              " \"it'll\",\n",
              " \"it's\",\n",
              " 'its',\n",
              " 'itself',\n",
              " \"i've\",\n",
              " 'just',\n",
              " 'll',\n",
              " 'm',\n",
              " 'ma',\n",
              " 'me',\n",
              " 'mightn',\n",
              " \"mightn't\",\n",
              " 'more',\n",
              " 'most',\n",
              " 'mustn',\n",
              " \"mustn't\",\n",
              " 'my',\n",
              " 'myself',\n",
              " 'needn',\n",
              " \"needn't\",\n",
              " 'no',\n",
              " 'nor',\n",
              " 'not',\n",
              " 'now',\n",
              " 'o',\n",
              " 'of',\n",
              " 'off',\n",
              " 'on',\n",
              " 'once',\n",
              " 'only',\n",
              " 'or',\n",
              " 'other',\n",
              " 'our',\n",
              " 'ours',\n",
              " 'ourselves',\n",
              " 'out',\n",
              " 'over',\n",
              " 'own',\n",
              " 're',\n",
              " 's',\n",
              " 'same',\n",
              " 'shan',\n",
              " \"shan't\",\n",
              " 'she',\n",
              " \"she'd\",\n",
              " \"she'll\",\n",
              " \"she's\",\n",
              " 'should',\n",
              " 'shouldn',\n",
              " \"shouldn't\",\n",
              " \"should've\",\n",
              " 'so',\n",
              " 'some',\n",
              " 'such',\n",
              " 't',\n",
              " 'than',\n",
              " 'that',\n",
              " \"that'll\",\n",
              " 'the',\n",
              " 'their',\n",
              " 'theirs',\n",
              " 'them',\n",
              " 'themselves',\n",
              " 'then',\n",
              " 'there',\n",
              " 'these',\n",
              " 'they',\n",
              " \"they'd\",\n",
              " \"they'll\",\n",
              " \"they're\",\n",
              " \"they've\",\n",
              " 'this',\n",
              " 'those',\n",
              " 'through',\n",
              " 'to',\n",
              " 'too',\n",
              " 'under',\n",
              " 'until',\n",
              " 'up',\n",
              " 've',\n",
              " 'very',\n",
              " 'was',\n",
              " 'wasn',\n",
              " \"wasn't\",\n",
              " 'we',\n",
              " \"we'd\",\n",
              " \"we'll\",\n",
              " \"we're\",\n",
              " 'were',\n",
              " 'weren',\n",
              " \"weren't\",\n",
              " \"we've\",\n",
              " 'what',\n",
              " 'when',\n",
              " 'where',\n",
              " 'which',\n",
              " 'while',\n",
              " 'who',\n",
              " 'whom',\n",
              " 'why',\n",
              " 'will',\n",
              " 'with',\n",
              " 'won',\n",
              " \"won't\",\n",
              " 'wouldn',\n",
              " \"wouldn't\",\n",
              " 'y',\n",
              " 'you',\n",
              " \"you'd\",\n",
              " \"you'll\",\n",
              " 'your',\n",
              " \"you're\",\n",
              " 'yours',\n",
              " 'yourself',\n",
              " 'yourselves',\n",
              " \"you've\"]"
            ]
          },
          "execution_count": 60,
          "metadata": {},
          "output_type": "execute_result"
        }
      ],
      "source": [
        "stopwords.words('english')"
      ]
    },
    {
      "cell_type": "code",
      "execution_count": 61,
      "metadata": {
        "colab": {
          "base_uri": "https://localhost:8080/"
        },
        "id": "9Del3GfdmnH5",
        "outputId": "28eea866-c203-46f4-a91d-f4d3b23380ee"
      },
      "outputs": [
        {
          "data": {
            "text/plain": [
              "['и',\n",
              " 'в',\n",
              " 'во',\n",
              " 'не',\n",
              " 'что',\n",
              " 'он',\n",
              " 'на',\n",
              " 'я',\n",
              " 'с',\n",
              " 'со',\n",
              " 'как',\n",
              " 'а',\n",
              " 'то',\n",
              " 'все',\n",
              " 'она',\n",
              " 'так',\n",
              " 'его',\n",
              " 'но',\n",
              " 'да',\n",
              " 'ты',\n",
              " 'к',\n",
              " 'у',\n",
              " 'же',\n",
              " 'вы',\n",
              " 'за',\n",
              " 'бы',\n",
              " 'по',\n",
              " 'только',\n",
              " 'ее',\n",
              " 'мне',\n",
              " 'было',\n",
              " 'вот',\n",
              " 'от',\n",
              " 'меня',\n",
              " 'еще',\n",
              " 'нет',\n",
              " 'о',\n",
              " 'из',\n",
              " 'ему',\n",
              " 'теперь',\n",
              " 'когда',\n",
              " 'даже',\n",
              " 'ну',\n",
              " 'вдруг',\n",
              " 'ли',\n",
              " 'если',\n",
              " 'уже',\n",
              " 'или',\n",
              " 'ни',\n",
              " 'быть',\n",
              " 'был',\n",
              " 'него',\n",
              " 'до',\n",
              " 'вас',\n",
              " 'нибудь',\n",
              " 'опять',\n",
              " 'уж',\n",
              " 'вам',\n",
              " 'ведь',\n",
              " 'там',\n",
              " 'потом',\n",
              " 'себя',\n",
              " 'ничего',\n",
              " 'ей',\n",
              " 'может',\n",
              " 'они',\n",
              " 'тут',\n",
              " 'где',\n",
              " 'есть',\n",
              " 'надо',\n",
              " 'ней',\n",
              " 'для',\n",
              " 'мы',\n",
              " 'тебя',\n",
              " 'их',\n",
              " 'чем',\n",
              " 'была',\n",
              " 'сам',\n",
              " 'чтоб',\n",
              " 'без',\n",
              " 'будто',\n",
              " 'чего',\n",
              " 'раз',\n",
              " 'тоже',\n",
              " 'себе',\n",
              " 'под',\n",
              " 'будет',\n",
              " 'ж',\n",
              " 'тогда',\n",
              " 'кто',\n",
              " 'этот',\n",
              " 'того',\n",
              " 'потому',\n",
              " 'этого',\n",
              " 'какой',\n",
              " 'совсем',\n",
              " 'ним',\n",
              " 'здесь',\n",
              " 'этом',\n",
              " 'один',\n",
              " 'почти',\n",
              " 'мой',\n",
              " 'тем',\n",
              " 'чтобы',\n",
              " 'нее',\n",
              " 'сейчас',\n",
              " 'были',\n",
              " 'куда',\n",
              " 'зачем',\n",
              " 'всех',\n",
              " 'никогда',\n",
              " 'можно',\n",
              " 'при',\n",
              " 'наконец',\n",
              " 'два',\n",
              " 'об',\n",
              " 'другой',\n",
              " 'хоть',\n",
              " 'после',\n",
              " 'над',\n",
              " 'больше',\n",
              " 'тот',\n",
              " 'через',\n",
              " 'эти',\n",
              " 'нас',\n",
              " 'про',\n",
              " 'всего',\n",
              " 'них',\n",
              " 'какая',\n",
              " 'много',\n",
              " 'разве',\n",
              " 'три',\n",
              " 'эту',\n",
              " 'моя',\n",
              " 'впрочем',\n",
              " 'хорошо',\n",
              " 'свою',\n",
              " 'этой',\n",
              " 'перед',\n",
              " 'иногда',\n",
              " 'лучше',\n",
              " 'чуть',\n",
              " 'том',\n",
              " 'нельзя',\n",
              " 'такой',\n",
              " 'им',\n",
              " 'более',\n",
              " 'всегда',\n",
              " 'конечно',\n",
              " 'всю',\n",
              " 'между']"
            ]
          },
          "execution_count": 61,
          "metadata": {},
          "output_type": "execute_result"
        }
      ],
      "source": [
        "stopwords.words('russian')"
      ]
    },
    {
      "cell_type": "markdown",
      "metadata": {
        "id": "ot_LLYvPmEx5"
      },
      "source": [
        "**Сочетание** (**collocation**) – это последовательность слов, которые необычно часто встречаются вместе."
      ]
    },
    {
      "cell_type": "code",
      "execution_count": 62,
      "metadata": {
        "colab": {
          "base_uri": "https://localhost:8080/"
        },
        "id": "nal763temSoz",
        "outputId": "70f20079-5664-408e-da45-449cdd2c9d84"
      },
      "outputs": [
        {
          "name": "stdout",
          "output_type": "stream",
          "text": [
            "United States; fellow citizens; years ago; four years; Federal\n",
            "Government; General Government; Vice President; American people; God\n",
            "bless; Chief Justice; one another; fellow Americans; Old World;\n",
            "Almighty God; Fellow citizens; Chief Magistrate; every citizen; Indian\n",
            "tribes; public debt; foreign nations\n"
          ]
        }
      ],
      "source": [
        "text_inaugural.collocations()"
      ]
    },
    {
      "cell_type": "code",
      "execution_count": 63,
      "metadata": {
        "colab": {
          "base_uri": "https://localhost:8080/"
        },
        "id": "q_qUmaMK8_Ec",
        "outputId": "e6e6f26b-c517-4362-8153-3ecee8774937"
      },
      "outputs": [
        {
          "name": "stdout",
          "output_type": "stream",
          "text": [
            "Sperm Whale; Moby Dick; White Whale; old man; Captain Ahab; sperm\n",
            "whale; Right Whale; Captain Peleg; New Bedford; Cape Horn; cried Ahab;\n",
            "years ago; lower jaw; never mind; Father Mapple; cried Stubb; chief\n",
            "mate; white whale; ivory leg; one hand\n"
          ]
        }
      ],
      "source": [
        "text_moby_dick.collocations()"
      ]
    },
    {
      "cell_type": "markdown",
      "metadata": {
        "id": "-diSkP6woLk9"
      },
      "source": [
        "# Странная игра в слова\n",
        "\n",
        "![image.png](data:image/png;base64,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)"
      ]
    },
    {
      "cell_type": "code",
      "execution_count": 64,
      "metadata": {
        "id": "46Kvygr2oWCF"
      },
      "outputs": [],
      "source": [
        "puzzle_letters = nltk.FreqDist('egivrvonl')\n",
        "\n",
        "obligatory = 'r'\n",
        "\n",
        "wordlist = nltk.corpus.words.words()"
      ]
    },
    {
      "cell_type": "markdown",
      "metadata": {
        "id": "7Okzu1XUo2FN"
      },
      "source": [
        "Посмотри 6-буквенные ответы"
      ]
    },
    {
      "cell_type": "code",
      "execution_count": 65,
      "metadata": {
        "colab": {
          "base_uri": "https://localhost:8080/"
        },
        "id": "gwkXMjgzonmm",
        "outputId": "273c3bae-5325-4dc5-edc9-86650b5382b0"
      },
      "outputs": [
        {
          "data": {
            "text/plain": [
              "['glover',\n",
              " 'gorlin',\n",
              " 'govern',\n",
              " 'grovel',\n",
              " 'ignore',\n",
              " 'involver',\n",
              " 'lienor',\n",
              " 'linger',\n",
              " 'longer',\n",
              " 'lovering',\n",
              " 'noiler',\n",
              " 'overling',\n",
              " 'region',\n",
              " 'renvoi',\n",
              " 'revolving',\n",
              " 'ringle',\n",
              " 'roving',\n",
              " 'violer',\n",
              " 'virole']"
            ]
          },
          "execution_count": 65,
          "metadata": {},
          "output_type": "execute_result"
        }
      ],
      "source": [
        "[w for w in wordlist if len(w) >= 6\n",
        " and obligatory in w\n",
        " and nltk.FreqDist(w) <= puzzle_letters]"
      ]
    },
    {
      "cell_type": "markdown",
      "metadata": {
        "id": "m6Ci3jqFo-M-"
      },
      "source": [
        "# Корпус Имен"
      ]
    },
    {
      "cell_type": "code",
      "execution_count": 66,
      "metadata": {
        "colab": {
          "base_uri": "https://localhost:8080/"
        },
        "id": "JPlxAZDbpWy2",
        "outputId": "eb4f8098-2bfa-46a6-8282-2e05ea3179ea"
      },
      "outputs": [
        {
          "name": "stderr",
          "output_type": "stream",
          "text": [
            "[nltk_data] Downloading package names to /home/egor/nltk_data...\n",
            "[nltk_data]   Unzipping corpora/names.zip.\n"
          ]
        },
        {
          "data": {
            "text/plain": [
              "True"
            ]
          },
          "execution_count": 66,
          "metadata": {},
          "output_type": "execute_result"
        }
      ],
      "source": [
        "nltk.download('names')"
      ]
    },
    {
      "cell_type": "code",
      "execution_count": 67,
      "metadata": {
        "colab": {
          "base_uri": "https://localhost:8080/"
        },
        "id": "eRi8IlvKpSkW",
        "outputId": "09438f29-dd9b-41da-ea48-1c17f8955d64"
      },
      "outputs": [
        {
          "data": {
            "text/plain": [
              "['female.txt', 'male.txt']"
            ]
          },
          "execution_count": 67,
          "metadata": {},
          "output_type": "execute_result"
        }
      ],
      "source": [
        "names = nltk.corpus.names\n",
        "names.fileids()"
      ]
    },
    {
      "cell_type": "code",
      "execution_count": 68,
      "metadata": {
        "id": "H6GHg4gypUbO"
      },
      "outputs": [],
      "source": [
        "male_names = names.words('male.txt')\n",
        "female_names = names.words('female.txt')"
      ]
    },
    {
      "cell_type": "markdown",
      "metadata": {
        "id": "1P6faJF7vI52"
      },
      "source": [
        "Статистика встречаемости последних букв в именах (почему бы и нет)"
      ]
    },
    {
      "cell_type": "code",
      "execution_count": 69,
      "metadata": {
        "colab": {
          "base_uri": "https://localhost:8080/",
          "height": 618
        },
        "id": "2e6F-igbprKe",
        "outputId": "99508f10-e42b-4ac2-ed70-a6632c1bb60f"
      },
      "outputs": [
        {
          "data": {
            "image/png": "[encoded data removed]",
            "text/plain": [
              "<Figure size 1500x700 with 1 Axes>"
            ]
          },
          "metadata": {},
          "output_type": "display_data"
        }
      ],
      "source": [
        "fig = plt.figure(figsize = (15,7))\n",
        "\n",
        "cfd = nltk.ConditionalFreqDist(\n",
        "           (fileid, name[-1])\n",
        "           for fileid in names.fileids()\n",
        "           for name in names.words(fileid))\n",
        "cfd.plot();"
      ]
    },
    {
      "cell_type": "markdown",
      "metadata": {
        "id": "BTwDT-6Dp37Y"
      },
      "source": [
        "#  **WordNet**"
      ]
    },
    {
      "cell_type": "markdown",
      "metadata": {
        "id": "IxpTgNCuFGml"
      },
      "source": [
        "**WordNet** — это лексическая база данных английского языка, разработанная в Принстонском университете и выпущенная вместе с сопутствующим программным обеспечением под не копилефтной свободной лицензией. Представляет собой электронный словарь-тезаурус и набор семантических сетей для английского языка.\n",
        "\n",
        "**OMW (The Open Multilingual Wordnet)** - чтение , валидация и поиск по базе wordnet."
      ]
    },
    {
      "cell_type": "code",
      "execution_count": 70,
      "metadata": {
        "colab": {
          "base_uri": "https://localhost:8080/"
        },
        "id": "irswJDOKqAte",
        "outputId": "b7f013cc-5744-4fbf-9db4-469363fa76e8"
      },
      "outputs": [
        {
          "name": "stderr",
          "output_type": "stream",
          "text": [
            "[nltk_data] Downloading package wordnet to /home/egor/nltk_data...\n",
            "[nltk_data] Downloading package omw-1.4 to /home/egor/nltk_data...\n"
          ]
        },
        {
          "data": {
            "text/plain": [
              "True"
            ]
          },
          "execution_count": 70,
          "metadata": {},
          "output_type": "execute_result"
        }
      ],
      "source": [
        "nltk.download('wordnet')\n",
        "nltk.download('omw-1.4')"
      ]
    },
    {
      "cell_type": "code",
      "execution_count": 71,
      "metadata": {
        "id": "zrorapD1p9i-"
      },
      "outputs": [],
      "source": [
        "from nltk.corpus import wordnet as wn"
      ]
    },
    {
      "cell_type": "markdown",
      "metadata": {
        "id": "Q3biUgyjqYjd"
      },
      "source": [
        "synset или «набор синонимов», набор синонимичных слов (или «лемм»)"
      ]
    },
    {
      "cell_type": "code",
      "execution_count": 72,
      "metadata": {
        "colab": {
          "base_uri": "https://localhost:8080/"
        },
        "id": "_DmNLJZup-Ou",
        "outputId": "7e470a7e-6a9d-45bb-db06-8134d34a940e"
      },
      "outputs": [
        {
          "data": {
            "text/plain": [
              "[Synset('car.n.01')]"
            ]
          },
          "execution_count": 72,
          "metadata": {},
          "output_type": "execute_result"
        }
      ],
      "source": [
        "wn.synsets('motorcar')"
      ]
    },
    {
      "cell_type": "code",
      "execution_count": 73,
      "metadata": {
        "colab": {
          "base_uri": "https://localhost:8080/"
        },
        "id": "gWDAlJ_bqNHt",
        "outputId": "cb554af0-6b76-4330-eeb7-a5d6f45acf1e"
      },
      "outputs": [
        {
          "data": {
            "text/plain": [
              "[Synset('car.n.01'), Synset('automobile.v.01')]"
            ]
          },
          "execution_count": 73,
          "metadata": {},
          "output_type": "execute_result"
        }
      ],
      "source": [
        "wn.synsets('automobile')"
      ]
    },
    {
      "cell_type": "code",
      "execution_count": 74,
      "metadata": {
        "colab": {
          "base_uri": "https://localhost:8080/"
        },
        "id": "A687a-mXqUSs",
        "outputId": "225ac53d-5e68-4ed0-92f0-6cdbcc12e5ba"
      },
      "outputs": [
        {
          "data": {
            "text/plain": [
              "['car', 'auto', 'automobile', 'machine', 'motorcar']"
            ]
          },
          "execution_count": 74,
          "metadata": {},
          "output_type": "execute_result"
        }
      ],
      "source": [
        "wn.synset('car.n.01').lemma_names()"
      ]
    },
    {
      "cell_type": "code",
      "execution_count": 75,
      "metadata": {
        "colab": {
          "base_uri": "https://localhost:8080/",
          "height": 36
        },
        "id": "GNID955mqXO8",
        "outputId": "aac0857f-f664-4b35-c4d4-2602cb1729c9"
      },
      "outputs": [
        {
          "data": {
            "text/plain": [
              "'a motor vehicle with four wheels; usually propelled by an internal combustion engine'"
            ]
          },
          "execution_count": 75,
          "metadata": {},
          "output_type": "execute_result"
        }
      ],
      "source": [
        "wn.synset('car.n.01').definition()"
      ]
    },
    {
      "cell_type": "code",
      "execution_count": 76,
      "metadata": {
        "colab": {
          "base_uri": "https://localhost:8080/"
        },
        "id": "hjUKzTuRqhy2",
        "outputId": "d4829785-6969-449a-9461-a3ba80e8d592"
      },
      "outputs": [
        {
          "data": {
            "text/plain": [
              "['he needs a car to get to work']"
            ]
          },
          "execution_count": 76,
          "metadata": {},
          "output_type": "execute_result"
        }
      ],
      "source": [
        "wn.synset('car.n.01').examples()"
      ]
    },
    {
      "cell_type": "markdown",
      "metadata": {
        "id": "P20z7MDuqxZ2"
      },
      "source": [
        "Для многозначных слов"
      ]
    },
    {
      "cell_type": "code",
      "execution_count": 77,
      "metadata": {
        "colab": {
          "base_uri": "https://localhost:8080/"
        },
        "id": "JX59AuFaqvk1",
        "outputId": "f5db1084-9c02-45b6-bd89-963049210c71"
      },
      "outputs": [
        {
          "data": {
            "text/plain": [
              "[Synset('car.n.01'),\n",
              " Synset('car.n.02'),\n",
              " Synset('car.n.03'),\n",
              " Synset('car.n.04'),\n",
              " Synset('cable_car.n.01')]"
            ]
          },
          "execution_count": 77,
          "metadata": {},
          "output_type": "execute_result"
        }
      ],
      "source": [
        "wn.synsets('car')"
      ]
    },
    {
      "cell_type": "code",
      "execution_count": 78,
      "metadata": {
        "colab": {
          "base_uri": "https://localhost:8080/"
        },
        "id": "Buh_kABm_Nl-",
        "outputId": "532175c7-cbc8-4684-e33a-4cfb0552a76c"
      },
      "outputs": [
        {
          "name": "stdout",
          "output_type": "stream",
          "text": [
            "Synset('car.n.01') a motor vehicle with four wheels; usually propelled by an internal combustion engine\n",
            "\n",
            "\n",
            "Synset('car.n.02') a wheeled vehicle adapted to the rails of railroad\n",
            "\n",
            "\n",
            "Synset('car.n.03') the compartment that is suspended from an airship and that carries personnel and the cargo and the power plant\n",
            "\n",
            "\n",
            "Synset('car.n.04') where passengers ride up and down\n",
            "\n",
            "\n",
            "Synset('cable_car.n.01') a conveyance for passengers or freight on a cable railway\n",
            "\n",
            "\n"
          ]
        }
      ],
      "source": [
        "for synset in wn.synsets('car'):\n",
        "    print(synset, synset.definition())\n",
        "    print('\\n')"
      ]
    },
    {
      "cell_type": "code",
      "execution_count": 79,
      "metadata": {
        "colab": {
          "base_uri": "https://localhost:8080/"
        },
        "id": "9BCz5U22q0Vw",
        "outputId": "55e68dd9-30d1-4045-a70e-ba5da798918e"
      },
      "outputs": [
        {
          "name": "stdout",
          "output_type": "stream",
          "text": [
            "['car', 'auto', 'automobile', 'machine', 'motorcar']\n",
            "['car', 'railcar', 'railway_car', 'railroad_car']\n",
            "['car', 'gondola']\n",
            "['car', 'elevator_car']\n",
            "['cable_car', 'car']\n"
          ]
        }
      ],
      "source": [
        "for synset in wn.synsets('car'):\n",
        "    print(synset.lemma_names())"
      ]
    },
    {
      "cell_type": "code",
      "execution_count": 80,
      "metadata": {
        "colab": {
          "base_uri": "https://localhost:8080/"
        },
        "id": "RQl3dXBZq54F",
        "outputId": "339db4fe-fdcf-462a-cfb3-2a487c3ed1b2"
      },
      "outputs": [
        {
          "data": {
            "text/plain": [
              "[Lemma('car.n.01.car'),\n",
              " Lemma('car.n.02.car'),\n",
              " Lemma('car.n.03.car'),\n",
              " Lemma('car.n.04.car'),\n",
              " Lemma('cable_car.n.01.car')]"
            ]
          },
          "execution_count": 80,
          "metadata": {},
          "output_type": "execute_result"
        }
      ],
      "source": [
        "wn.lemmas('car')"
      ]
    },
    {
      "cell_type": "markdown",
      "metadata": {
        "id": "argReYRerA9F"
      },
      "source": [
        "**The WordNet Hierarchy**\n",
        "\n",
        "![image.png](data:image/png;base64,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)"
      ]
    },
    {
      "cell_type": "markdown",
      "metadata": {
        "id": "1YZuHEZ6v7lA"
      },
      "source": [
        "Гипонимы (`hyponyms`) - вниз по дереву WordNet"
      ]
    },
    {
      "cell_type": "code",
      "execution_count": 81,
      "metadata": {
        "colab": {
          "base_uri": "https://localhost:8080/"
        },
        "id": "AorQoDmvrDjF",
        "outputId": "6ec80ffa-b527-4b11-dca5-af399d323eed"
      },
      "outputs": [
        {
          "data": {
            "text/plain": [
              "[Synset('loaner.n.02'),\n",
              " Synset('minicar.n.01'),\n",
              " Synset('compact.n.03'),\n",
              " Synset('hot_rod.n.01'),\n",
              " Synset('cruiser.n.01'),\n",
              " Synset('hatchback.n.01'),\n",
              " Synset('sedan.n.01'),\n",
              " Synset('stock_car.n.01'),\n",
              " Synset('sports_car.n.01'),\n",
              " Synset('racer.n.02'),\n",
              " Synset('hardtop.n.01'),\n",
              " Synset('model_t.n.01'),\n",
              " Synset('cab.n.03'),\n",
              " Synset('minivan.n.01'),\n",
              " Synset('limousine.n.01'),\n",
              " Synset('used-car.n.01'),\n",
              " Synset('bus.n.04'),\n",
              " Synset('horseless_carriage.n.01'),\n",
              " Synset('sport_utility.n.01'),\n",
              " Synset('ambulance.n.01'),\n",
              " Synset('roadster.n.01'),\n",
              " Synset('convertible.n.01'),\n",
              " Synset('subcompact.n.01'),\n",
              " Synset('touring_car.n.01'),\n",
              " Synset('gas_guzzler.n.01'),\n",
              " Synset('coupe.n.01'),\n",
              " Synset('pace_car.n.01'),\n",
              " Synset('beach_wagon.n.01'),\n",
              " Synset('stanley_steamer.n.01'),\n",
              " Synset('jeep.n.01'),\n",
              " Synset('electric.n.01')]"
            ]
          },
          "execution_count": 81,
          "metadata": {},
          "output_type": "execute_result"
        }
      ],
      "source": [
        "motorcar = wn.synset('car.n.01')\n",
        "types_of_motorcar = motorcar.hyponyms()\n",
        "types_of_motorcar"
      ]
    },
    {
      "cell_type": "markdown",
      "metadata": {
        "id": "-H2STiICwLqC"
      },
      "source": [
        "Ну или в виде лемм"
      ]
    },
    {
      "cell_type": "code",
      "execution_count": 82,
      "metadata": {
        "colab": {
          "base_uri": "https://localhost:8080/"
        },
        "id": "M32CUhNqrMRW",
        "outputId": "d0f00ab6-d973-433e-fa56-294b33386485"
      },
      "outputs": [
        {
          "data": {
            "text/plain": [
              "['Model_T',\n",
              " 'S.U.V.',\n",
              " 'SUV',\n",
              " 'Stanley_Steamer',\n",
              " 'ambulance',\n",
              " 'beach_waggon',\n",
              " 'beach_wagon',\n",
              " 'bus',\n",
              " 'cab',\n",
              " 'compact',\n",
              " 'compact_car',\n",
              " 'convertible',\n",
              " 'coupe',\n",
              " 'cruiser',\n",
              " 'electric',\n",
              " 'electric_automobile',\n",
              " 'electric_car',\n",
              " 'estate_car',\n",
              " 'gas_guzzler',\n",
              " 'hack',\n",
              " 'hardtop',\n",
              " 'hatchback',\n",
              " 'heap',\n",
              " 'horseless_carriage',\n",
              " 'hot-rod',\n",
              " 'hot_rod',\n",
              " 'jalopy',\n",
              " 'jeep',\n",
              " 'landrover',\n",
              " 'limo',\n",
              " 'limousine',\n",
              " 'loaner',\n",
              " 'minicar',\n",
              " 'minivan',\n",
              " 'pace_car',\n",
              " 'patrol_car',\n",
              " 'phaeton',\n",
              " 'police_car',\n",
              " 'police_cruiser',\n",
              " 'prowl_car',\n",
              " 'race_car',\n",
              " 'racer',\n",
              " 'racing_car',\n",
              " 'roadster',\n",
              " 'runabout',\n",
              " 'saloon',\n",
              " 'secondhand_car',\n",
              " 'sedan',\n",
              " 'sport_car',\n",
              " 'sport_utility',\n",
              " 'sport_utility_vehicle',\n",
              " 'sports_car',\n",
              " 'squad_car',\n",
              " 'station_waggon',\n",
              " 'station_wagon',\n",
              " 'stock_car',\n",
              " 'subcompact',\n",
              " 'subcompact_car',\n",
              " 'taxi',\n",
              " 'taxicab',\n",
              " 'tourer',\n",
              " 'touring_car',\n",
              " 'two-seater',\n",
              " 'used-car',\n",
              " 'waggon',\n",
              " 'wagon']"
            ]
          },
          "execution_count": 82,
          "metadata": {},
          "output_type": "execute_result"
        }
      ],
      "source": [
        "sorted(lemma.name() for synset in types_of_motorcar for lemma in synset.lemmas())"
      ]
    },
    {
      "cell_type": "markdown",
      "metadata": {
        "id": "V_1p8xHmrcUH"
      },
      "source": [
        "Гиперонимы (`hypernym_paths`) - вверх по дереву WordNet"
      ]
    },
    {
      "cell_type": "code",
      "execution_count": 83,
      "metadata": {
        "colab": {
          "base_uri": "https://localhost:8080/"
        },
        "id": "EWxEnKlKrSwO",
        "outputId": "7753d667-962f-4740-f54b-646f0d69698b"
      },
      "outputs": [
        {
          "data": {
            "text/plain": [
              "[[Synset('entity.n.01'),\n",
              "  Synset('physical_entity.n.01'),\n",
              "  Synset('object.n.01'),\n",
              "  Synset('whole.n.02'),\n",
              "  Synset('artifact.n.01'),\n",
              "  Synset('instrumentality.n.03'),\n",
              "  Synset('container.n.01'),\n",
              "  Synset('wheeled_vehicle.n.01'),\n",
              "  Synset('self-propelled_vehicle.n.01'),\n",
              "  Synset('motor_vehicle.n.01'),\n",
              "  Synset('car.n.01')],\n",
              " [Synset('entity.n.01'),\n",
              "  Synset('physical_entity.n.01'),\n",
              "  Synset('object.n.01'),\n",
              "  Synset('whole.n.02'),\n",
              "  Synset('artifact.n.01'),\n",
              "  Synset('instrumentality.n.03'),\n",
              "  Synset('conveyance.n.03'),\n",
              "  Synset('vehicle.n.01'),\n",
              "  Synset('wheeled_vehicle.n.01'),\n",
              "  Synset('self-propelled_vehicle.n.01'),\n",
              "  Synset('motor_vehicle.n.01'),\n",
              "  Synset('car.n.01')]]"
            ]
          },
          "execution_count": 83,
          "metadata": {},
          "output_type": "execute_result"
        }
      ],
      "source": [
        "paths = motorcar.hypernym_paths()\n",
        "paths"
      ]
    },
    {
      "cell_type": "markdown",
      "metadata": {
        "id": "C66XeVTcwhPl"
      },
      "source": [
        "Есть два пути..."
      ]
    },
    {
      "cell_type": "code",
      "execution_count": 84,
      "metadata": {
        "colab": {
          "base_uri": "https://localhost:8080/"
        },
        "id": "SMfXDZ3Irhyt",
        "outputId": "716e5e1e-3d55-4df7-e5cc-f24b60c8ed66"
      },
      "outputs": [
        {
          "data": {
            "text/plain": [
              "['entity.n.01',\n",
              " 'physical_entity.n.01',\n",
              " 'object.n.01',\n",
              " 'whole.n.02',\n",
              " 'artifact.n.01',\n",
              " 'instrumentality.n.03',\n",
              " 'container.n.01',\n",
              " 'wheeled_vehicle.n.01',\n",
              " 'self-propelled_vehicle.n.01',\n",
              " 'motor_vehicle.n.01',\n",
              " 'car.n.01']"
            ]
          },
          "execution_count": 84,
          "metadata": {},
          "output_type": "execute_result"
        }
      ],
      "source": [
        "[synset.name() for synset in paths[0]]"
      ]
    },
    {
      "cell_type": "code",
      "execution_count": 85,
      "metadata": {
        "colab": {
          "base_uri": "https://localhost:8080/"
        },
        "id": "yas7_uSlrjtV",
        "outputId": "22b593eb-8343-4e2c-c7c0-6fe02ca2685a"
      },
      "outputs": [
        {
          "data": {
            "text/plain": [
              "['entity.n.01',\n",
              " 'physical_entity.n.01',\n",
              " 'object.n.01',\n",
              " 'whole.n.02',\n",
              " 'artifact.n.01',\n",
              " 'instrumentality.n.03',\n",
              " 'conveyance.n.03',\n",
              " 'vehicle.n.01',\n",
              " 'wheeled_vehicle.n.01',\n",
              " 'self-propelled_vehicle.n.01',\n",
              " 'motor_vehicle.n.01',\n",
              " 'car.n.01']"
            ]
          },
          "execution_count": 85,
          "metadata": {},
          "output_type": "execute_result"
        }
      ],
      "source": [
        "[synset.name() for synset in paths[1]]"
      ]
    },
    {
      "cell_type": "markdown",
      "metadata": {
        "id": "rOCFIYhwwn51"
      },
      "source": [
        "Общий \"корень\""
      ]
    },
    {
      "cell_type": "code",
      "execution_count": 86,
      "metadata": {
        "colab": {
          "base_uri": "https://localhost:8080/"
        },
        "id": "m_-hkbRDrqnu",
        "outputId": "0d447b6b-d22d-48c0-f0c7-283b1dd27161"
      },
      "outputs": [
        {
          "data": {
            "text/plain": [
              "[Synset('entity.n.01')]"
            ]
          },
          "execution_count": 86,
          "metadata": {},
          "output_type": "execute_result"
        }
      ],
      "source": [
        "motorcar.root_hypernyms()"
      ]
    },
    {
      "cell_type": "markdown",
      "metadata": {
        "id": "_-yeOldwsJRG"
      },
      "source": [
        "# Больше лексических отношений"
      ]
    },
    {
      "cell_type": "markdown",
      "metadata": {
        "id": "SE_aXCl6sMy2"
      },
      "source": [
        "от предметов к их компонентам (**меронимы**) или к вещам, в которых они содержатся (**холонимы**)"
      ]
    },
    {
      "cell_type": "markdown",
      "metadata": {
        "id": "as1ty_T8seHF"
      },
      "source": [
        "Например, частями «дерева» являются его «ствол», «крона» и т. д.;"
      ]
    },
    {
      "cell_type": "code",
      "execution_count": 87,
      "metadata": {
        "colab": {
          "base_uri": "https://localhost:8080/"
        },
        "id": "mTU207rAsMNt",
        "outputId": "3d94b128-3a7a-41a9-f11f-a8becf259a2d"
      },
      "outputs": [
        {
          "data": {
            "text/plain": [
              "[Synset('stump.n.01'),\n",
              " Synset('crown.n.07'),\n",
              " Synset('burl.n.02'),\n",
              " Synset('trunk.n.01'),\n",
              " Synset('limb.n.02')]"
            ]
          },
          "execution_count": 87,
          "metadata": {},
          "output_type": "execute_result"
        }
      ],
      "source": [
        "wn.synset('tree.n.01').part_meronyms()"
      ]
    },
    {
      "cell_type": "markdown",
      "metadata": {
        "id": "G-edp5AAsaYd"
      },
      "source": [
        "Вещество, из которого состоит «дерево», включает «сердцевину» и «заболонь»"
      ]
    },
    {
      "cell_type": "code",
      "execution_count": 88,
      "metadata": {
        "colab": {
          "base_uri": "https://localhost:8080/"
        },
        "id": "w6KicuOTsVRt",
        "outputId": "05959849-a9a0-4eb7-c0bc-13b48cda3e44"
      },
      "outputs": [
        {
          "data": {
            "text/plain": [
              "[Synset('heartwood.n.01'), Synset('sapwood.n.01')]"
            ]
          },
          "execution_count": 88,
          "metadata": {},
          "output_type": "execute_result"
        }
      ],
      "source": [
        "wn.synset('tree.n.01').substance_meronyms()"
      ]
    },
    {
      "cell_type": "markdown",
      "metadata": {
        "id": "QXDmaYIcsZC1"
      },
      "source": [
        "Совокупность «деревьев» образует «лес»;"
      ]
    },
    {
      "cell_type": "code",
      "execution_count": 89,
      "metadata": {
        "colab": {
          "base_uri": "https://localhost:8080/"
        },
        "id": "1BjFmztgsXEV",
        "outputId": "0c5a8281-b11e-46e3-f1a2-2a8d7e5978b5"
      },
      "outputs": [
        {
          "data": {
            "text/plain": [
              "[Synset('forest.n.01')]"
            ]
          },
          "execution_count": 89,
          "metadata": {},
          "output_type": "execute_result"
        }
      ],
      "source": [
        "wn.synset('tree.n.01').member_holonyms()"
      ]
    },
    {
      "cell_type": "markdown",
      "metadata": {
        "id": "6WJUrOANspeo"
      },
      "source": [
        "рассмотрим слово мята, которое имеет несколько тесно связанных значений.\n",
        "\n",
        "Мы видим, что mint.n.04 является частью mint.n.02 и веществом, из которого сделан mint.n.05."
      ]
    },
    {
      "cell_type": "code",
      "execution_count": 90,
      "metadata": {
        "colab": {
          "base_uri": "https://localhost:8080/"
        },
        "id": "8LXm9wVetCJP",
        "outputId": "4171154a-ba1c-429d-bd1c-0ee41082f075"
      },
      "outputs": [
        {
          "name": "stdout",
          "output_type": "stream",
          "text": [
            "batch.n.02: (often followed by `of') a large number or amount or extent\n",
            "mint.n.02: any north temperate plant of the genus Mentha with aromatic leaves and small mauve flowers\n",
            "mint.n.03: any member of the mint family of plants\n",
            "mint.n.04: the leaves of a mint plant used fresh or candied\n",
            "mint.n.05: a candy that is flavored with a mint oil\n",
            "mint.n.06: a plant where money is coined by authority of the government\n"
          ]
        }
      ],
      "source": [
        "for synset in wn.synsets('mint', wn.NOUN):\n",
        "    print(synset.name() + ':', synset.definition())"
      ]
    },
    {
      "cell_type": "markdown",
      "metadata": {
        "id": "mQLHpL83tNRF"
      },
      "source": [
        "Существуют также отношения между глаголами. Например, акт ходьбы включает в себя акт шагания, поэтому ходьба влечет за собой шагание. Некоторые глаголы имеют несколько следствий:"
      ]
    },
    {
      "cell_type": "code",
      "execution_count": 91,
      "metadata": {
        "colab": {
          "base_uri": "https://localhost:8080/"
        },
        "id": "8zHF9UOetOB1",
        "outputId": "c2283257-897d-4307-ace7-0daba41bb47f"
      },
      "outputs": [
        {
          "data": {
            "text/plain": [
              "[Synset('step.v.01')]"
            ]
          },
          "execution_count": 91,
          "metadata": {},
          "output_type": "execute_result"
        }
      ],
      "source": [
        "wn.synset('walk.v.01').entailments()"
      ]
    },
    {
      "cell_type": "code",
      "execution_count": 92,
      "metadata": {
        "colab": {
          "base_uri": "https://localhost:8080/"
        },
        "id": "eU9MPtFutryo",
        "outputId": "06fd4aa8-da9d-4197-d2ae-88674aa20dd4"
      },
      "outputs": [
        {
          "data": {
            "text/plain": [
              "[Synset('swallow.v.01'), Synset('chew.v.01')]"
            ]
          },
          "execution_count": 92,
          "metadata": {},
          "output_type": "execute_result"
        }
      ],
      "source": [
        "wn.synset('eat.v.01').entailments()"
      ]
    },
    {
      "cell_type": "code",
      "execution_count": 93,
      "metadata": {
        "colab": {
          "base_uri": "https://localhost:8080/"
        },
        "id": "OtMpMvbVtuAn",
        "outputId": "36d6ae1a-98d2-4dd8-d42e-cd60c0c6624c"
      },
      "outputs": [
        {
          "data": {
            "text/plain": [
              "[Synset('disappoint.v.01'), Synset('arouse.v.07')]"
            ]
          },
          "execution_count": 93,
          "metadata": {},
          "output_type": "execute_result"
        }
      ],
      "source": [
        "wn.synset('tease.v.03').entailments()"
      ]
    },
    {
      "cell_type": "markdown",
      "metadata": {
        "id": "_7kF771otxaW"
      },
      "source": [
        "Между леммами существуют некоторые лексические отношения, например, антонимия:"
      ]
    },
    {
      "cell_type": "code",
      "execution_count": 94,
      "metadata": {
        "colab": {
          "base_uri": "https://localhost:8080/"
        },
        "id": "671Ky70styId",
        "outputId": "476f8dbc-16fa-42c0-ad3c-8645deac632d"
      },
      "outputs": [
        {
          "data": {
            "text/plain": [
              "[Lemma('demand.n.02.demand')]"
            ]
          },
          "execution_count": 94,
          "metadata": {},
          "output_type": "execute_result"
        }
      ],
      "source": [
        "wn.lemma('supply.n.02.supply').antonyms()"
      ]
    },
    {
      "cell_type": "code",
      "execution_count": 95,
      "metadata": {
        "colab": {
          "base_uri": "https://localhost:8080/"
        },
        "id": "1cf4V5EvvFSP",
        "outputId": "9f188525-4c06-4240-dc50-cc4d7a3e7f9f"
      },
      "outputs": [
        {
          "data": {
            "text/plain": [
              "[Lemma('linger.v.04.linger')]"
            ]
          },
          "execution_count": 95,
          "metadata": {},
          "output_type": "execute_result"
        }
      ],
      "source": [
        "wn.lemma('rush.v.01.rush').antonyms()"
      ]
    },
    {
      "cell_type": "code",
      "execution_count": 96,
      "metadata": {
        "colab": {
          "base_uri": "https://localhost:8080/"
        },
        "id": "GtuSNt0bvHMc",
        "outputId": "b51d3a57-2b01-44e0-fb74-3bb2b977a932"
      },
      "outputs": [
        {
          "data": {
            "text/plain": [
              "[Lemma('vertical.a.01.vertical'), Lemma('inclined.a.02.inclined')]"
            ]
          },
          "execution_count": 96,
          "metadata": {},
          "output_type": "execute_result"
        }
      ],
      "source": [
        "wn.lemma('horizontal.a.01.horizontal').antonyms()"
      ]
    },
    {
      "cell_type": "code",
      "execution_count": 97,
      "metadata": {
        "colab": {
          "base_uri": "https://localhost:8080/"
        },
        "id": "_9zDKczhvIc9",
        "outputId": "d64a74a8-ebf9-43a0-c6ef-1002b7dbe97d"
      },
      "outputs": [
        {
          "data": {
            "text/plain": [
              "[Lemma('legato.r.01.legato')]"
            ]
          },
          "execution_count": 97,
          "metadata": {},
          "output_type": "execute_result"
        }
      ],
      "source": [
        "wn.lemma('staccato.r.01.staccato').antonyms()"
      ]
    },
    {
      "cell_type": "code",
      "execution_count": 98,
      "metadata": {
        "colab": {
          "base_uri": "https://localhost:8080/",
          "height": 36
        },
        "id": "K9i_I3CtAoy9",
        "outputId": "d63b33ac-3604-4f79-85b1-7b8c7711e512"
      },
      "outputs": [
        {
          "data": {
            "text/plain": [
              "'separating the notes; in music'"
            ]
          },
          "execution_count": 98,
          "metadata": {},
          "output_type": "execute_result"
        }
      ],
      "source": [
        "wn.synset('staccato.r.01').definition()"
      ]
    },
    {
      "cell_type": "code",
      "execution_count": 99,
      "metadata": {
        "colab": {
          "base_uri": "https://localhost:8080/",
          "height": 36
        },
        "id": "rLl4VSZMAr38",
        "outputId": "04ca0b66-cdb8-48e0-897a-869097b1fade"
      },
      "outputs": [
        {
          "data": {
            "text/plain": [
              "'connecting the notes; in music'"
            ]
          },
          "execution_count": 99,
          "metadata": {},
          "output_type": "execute_result"
        }
      ],
      "source": [
        "wn.synset('legato.r.01').definition()"
      ]
    },
    {
      "cell_type": "markdown",
      "metadata": {
        "id": "Xs_Bc7x8vKFl"
      },
      "source": [
        "# Семантическое сходство"
      ]
    },
    {
      "cell_type": "code",
      "execution_count": 100,
      "metadata": {
        "id": "phzDQsFOvMgv"
      },
      "outputs": [],
      "source": [
        "right = wn.synset('right_whale.n.01')\n",
        "orca = wn.synset('orca.n.01')\n",
        "minke = wn.synset('minke_whale.n.01')\n",
        "tortoise = wn.synset('tortoise.n.01')\n",
        "novel = wn.synset('novel.n.01')"
      ]
    },
    {
      "cell_type": "code",
      "execution_count": 101,
      "metadata": {
        "colab": {
          "base_uri": "https://localhost:8080/"
        },
        "id": "Hx9KzdVwvQ2F",
        "outputId": "69d084da-58be-4430-93fc-81b7400f5126"
      },
      "outputs": [
        {
          "data": {
            "text/plain": [
              "[Synset('baleen_whale.n.01')]"
            ]
          },
          "execution_count": 101,
          "metadata": {},
          "output_type": "execute_result"
        }
      ],
      "source": [
        "right.lowest_common_hypernyms(minke)"
      ]
    },
    {
      "cell_type": "code",
      "execution_count": 102,
      "metadata": {
        "colab": {
          "base_uri": "https://localhost:8080/"
        },
        "id": "MbswhQjxvSHc",
        "outputId": "29cf98e6-a6cd-46ba-d9d5-add786d4b50e"
      },
      "outputs": [
        {
          "data": {
            "text/plain": [
              "[Synset('whale.n.02')]"
            ]
          },
          "execution_count": 102,
          "metadata": {},
          "output_type": "execute_result"
        }
      ],
      "source": [
        "right.lowest_common_hypernyms(orca)"
      ]
    },
    {
      "cell_type": "code",
      "execution_count": 103,
      "metadata": {
        "colab": {
          "base_uri": "https://localhost:8080/"
        },
        "id": "YAJ1IXZmvTRM",
        "outputId": "cb075e27-30a6-4b75-a043-20376d79abf8"
      },
      "outputs": [
        {
          "data": {
            "text/plain": [
              "[Synset('vertebrate.n.01')]"
            ]
          },
          "execution_count": 103,
          "metadata": {},
          "output_type": "execute_result"
        }
      ],
      "source": [
        "right.lowest_common_hypernyms(tortoise)"
      ]
    },
    {
      "cell_type": "code",
      "execution_count": 104,
      "metadata": {
        "colab": {
          "base_uri": "https://localhost:8080/"
        },
        "id": "enCV4RlSvT9s",
        "outputId": "46b1c913-1f66-4741-d8b2-2f0f6ad6b5e1"
      },
      "outputs": [
        {
          "data": {
            "text/plain": [
              "[Synset('entity.n.01')]"
            ]
          },
          "execution_count": 104,
          "metadata": {},
          "output_type": "execute_result"
        }
      ],
      "source": [
        "right.lowest_common_hypernyms(novel)"
      ]
    },
    {
      "cell_type": "markdown",
      "metadata": {
        "id": "5_aPfV7ivaLw"
      },
      "source": [
        "**Меры подобия**"
      ]
    },
    {
      "cell_type": "code",
      "execution_count": 105,
      "metadata": {
        "colab": {
          "base_uri": "https://localhost:8080/"
        },
        "id": "g8lITIdYvXce",
        "outputId": "54fdeeb6-8862-40ad-9430-54375c3acd6e"
      },
      "outputs": [
        {
          "data": {
            "text/plain": [
              "0.25"
            ]
          },
          "execution_count": 105,
          "metadata": {},
          "output_type": "execute_result"
        }
      ],
      "source": [
        "right.path_similarity(minke)"
      ]
    },
    {
      "cell_type": "code",
      "execution_count": 106,
      "metadata": {
        "colab": {
          "base_uri": "https://localhost:8080/"
        },
        "id": "dw7XVPk3vZPs",
        "outputId": "f491d8ca-9729-4be3-a5d7-07cff40dd36d"
      },
      "outputs": [
        {
          "data": {
            "text/plain": [
              "0.16666666666666666"
            ]
          },
          "execution_count": 106,
          "metadata": {},
          "output_type": "execute_result"
        }
      ],
      "source": [
        "right.path_similarity(orca)"
      ]
    },
    {
      "cell_type": "code",
      "execution_count": 107,
      "metadata": {
        "colab": {
          "base_uri": "https://localhost:8080/"
        },
        "id": "bmvQkvYMveGA",
        "outputId": "44683b8e-5a51-4459-c3dd-5baf099bf79e"
      },
      "outputs": [
        {
          "data": {
            "text/plain": [
              "0.07692307692307693"
            ]
          },
          "execution_count": 107,
          "metadata": {},
          "output_type": "execute_result"
        }
      ],
      "source": [
        "right.path_similarity(tortoise)"
      ]
    },
    {
      "cell_type": "code",
      "execution_count": 108,
      "metadata": {
        "colab": {
          "base_uri": "https://localhost:8080/"
        },
        "id": "qDBrHh2uvfSX",
        "outputId": "d6acacc3-283e-492d-db0c-9a5950833e7a"
      },
      "outputs": [
        {
          "data": {
            "text/plain": [
              "0.043478260869565216"
            ]
          },
          "execution_count": 108,
          "metadata": {},
          "output_type": "execute_result"
        }
      ],
      "source": [
        "right.path_similarity(novel)"
      ]
    },
    {
      "cell_type": "markdown",
      "metadata": {
        "id": "70fm-qQonXYQ"
      },
      "source": [
        "# Про Биграммы и прочее"
      ]
    },
    {
      "cell_type": "code",
      "execution_count": 109,
      "metadata": {
        "id": "dGp9es78naLv"
      },
      "outputs": [],
      "source": [
        "from nltk.util import bigrams"
      ]
    },
    {
      "cell_type": "code",
      "execution_count": 110,
      "metadata": {
        "colab": {
          "base_uri": "https://localhost:8080/"
        },
        "id": "u3a74PcnnLRI",
        "outputId": "3f19fbb4-24f6-4e9c-8452-f26a77ce162c"
      },
      "outputs": [
        {
          "data": {
            "text/plain": [
              "[('Fellow', '-'),\n",
              " ('-', 'Citizens'),\n",
              " ('Citizens', 'of'),\n",
              " ('of', 'the'),\n",
              " ('the', 'Senate'),\n",
              " ('Senate', 'and'),\n",
              " ('and', 'of'),\n",
              " ('of', 'the'),\n",
              " ('the', 'House'),\n",
              " ('House', 'of'),\n",
              " ('of', 'Representatives'),\n",
              " ('Representatives', ':')]"
            ]
          },
          "execution_count": 110,
          "metadata": {},
          "output_type": "execute_result"
        }
      ],
      "source": [
        "list(bigrams(inaugural.sents()[0]))"
      ]
    },
    {
      "cell_type": "markdown",
      "metadata": {
        "id": "OO7T4_OMxwbe"
      },
      "source": [
        "# Веселое"
      ]
    },
    {
      "cell_type": "code",
      "execution_count": 111,
      "metadata": {
        "colab": {
          "base_uri": "https://localhost:8080/"
        },
        "id": "9hmlLoTFRJKU",
        "outputId": "d9d96a64-cb94-4f6e-af24-d1a479d079bb"
      },
      "outputs": [
        {
          "name": "stderr",
          "output_type": "stream",
          "text": [
            "[nltk_data] Downloading package punkt to /home/egor/nltk_data...\n",
            "[nltk_data]   Package punkt is already up-to-date!\n"
          ]
        },
        {
          "data": {
            "text/plain": [
              "True"
            ]
          },
          "execution_count": 111,
          "metadata": {},
          "output_type": "execute_result"
        }
      ],
      "source": [
        "nltk.download('punkt')"
      ]
    },
    {
      "cell_type": "markdown",
      "metadata": {
        "id": "1iDW5i5iyT9Q"
      },
      "source": [
        "Здесь используются Три-граммы"
      ]
    },
    {
      "cell_type": "code",
      "execution_count": 112,
      "metadata": {
        "colab": {
          "base_uri": "https://localhost:8080/"
        },
        "id": "_e4q_8fkRHP8",
        "outputId": "ce127c9e-0070-4240-e388-251ea2368014"
      },
      "outputs": [
        {
          "name": "stderr",
          "output_type": "stream",
          "text": [
            "Building ngram index...\n"
          ]
        },
        {
          "name": "stdout",
          "output_type": "stream",
          "text": [
            "the safe - keeping and disbursement of the industrious poor . power\n",
            "regulates the destiny of the success which we pass . little solidity\n",
            "in an eminent degree by questions of difference should at least to\n",
            "whom we salute for his half - slave clause of the whole of our\n"
          ]
        }
      ],
      "source": [
        "generation = text_inaugural.generate(random_seed = 322,\n",
        "                                     length = 50)"
      ]
    },
    {
      "cell_type": "code",
      "execution_count": 113,
      "metadata": {
        "colab": {
          "base_uri": "https://localhost:8080/",
          "height": 53
        },
        "id": "U8EaxFJxyeQI",
        "outputId": "4cd17689-df0f-4c30-fc88-86c1b3f82fde"
      },
      "outputs": [
        {
          "data": {
            "text/plain": [
              "'the safe - keeping and disbursement of the industrious poor . power\\nregulates the destiny of the success which we pass . little solidity\\nin an eminent degree by questions of difference should at least to\\nwhom we salute for his half - slave clause of the whole of our'"
            ]
          },
          "execution_count": 113,
          "metadata": {},
          "output_type": "execute_result"
        }
      ],
      "source": [
        "generation"
      ]
    },
    {
      "cell_type": "markdown",
      "metadata": {
        "id": "2pL4TuRigLFQ"
      },
      "source": [
        "# Задания"
      ]
    },
    {
      "cell_type": "markdown",
      "metadata": {
        "id": "wJSgIz-zghaP"
      },
      "source": [
        "**1)** Создайте dispersion plot четырех главных героев в Sense and Sensibility: Elinor, Marianne, Edward, и Willoughby.\n",
        "\n",
        "Что вы можете сказать о разных ролях, сыгранных мужчинами и женщинами в этом романе?\n",
        "\n",
        "  Можете ли вы идентифицировать пары?"
      ]
    },
    {
      "cell_type": "code",
      "execution_count": 114,
      "metadata": {
        "id": "VuFdCnRAgkG3"
      },
      "outputs": [],
      "source": [
        "# напишите свой код здесь"
      ]
    },
    {
      "cell_type": "markdown",
      "metadata": {
        "id": "E_Jpxr9agncv"
      },
      "source": [
        "**2)** Используя механизм `ConditionalFreqDist` оцените встречаемость вопросительных слов  (**wh** words,  `what`, `when`, `where`, `who`, и `why`) в корпусе Brown."
      ]
    },
    {
      "cell_type": "code",
      "execution_count": 115,
      "metadata": {
        "id": "_ViuaBV9gtVp"
      },
      "outputs": [],
      "source": [
        "# напишите свой код здесь"
      ]
    },
    {
      "cell_type": "markdown",
      "metadata": {
        "id": "A0aI67OWgucf"
      },
      "source": [
        "**3)** Корпус про речь президентов\n",
        "\n",
        "1.   Получите список стран, которые появляются в Корпусе (получите список слов в заглавных буквах и выберите из него вручную)\n",
        "2.   Отслеживайте их появление на протяжении лет"
      ]
    },
    {
      "cell_type": "code",
      "execution_count": 116,
      "metadata": {
        "id": "e8NBM3zog5Bv"
      },
      "outputs": [],
      "source": [
        "# напишите свой код здесь"
      ]
    },
    {
      "cell_type": "markdown",
      "metadata": {
        "id": "vGc7hO0ng6C-"
      },
      "source": [
        "**4)** Используя `.index()` найдите слово `crown` в тексте `'shakespeare-hamlet.txt'`\n",
        "\n",
        "Методом проб и ошибок найдите фрагмент полного предложения, содержащего это слово."
      ]
    },
    {
      "cell_type": "code",
      "execution_count": 117,
      "metadata": {
        "id": "Uld25znrhD83"
      },
      "outputs": [],
      "source": [
        "# напишите свой код здесь"
      ]
    },
    {
      "cell_type": "markdown",
      "metadata": {
        "id": "Ay_YUOGUhdRf"
      },
      "source": [
        "**5)** Напишите программу, которая печатает 50 наиболее часто встречающихся биграмм (пар смежных слов) текста, пропуская биграммы, содержащие стоп-слова. Корпус текста - на ваш выбор"
      ]
    },
    {
      "cell_type": "code",
      "execution_count": 118,
      "metadata": {
        "id": "HTqwA6_YhxM_"
      },
      "outputs": [],
      "source": [
        "# напишите свой код здесь"
      ]
    },
    {
      "cell_type": "markdown",
      "metadata": {
        "id": "CLhoayQeKRr2"
      },
      "source": [
        "**6)** Исследуйте отношения холоним-мероним для некоторых существительных. Лучше в виде функции\n",
        "\n",
        "Помните, что существует три вида отношения холоним-мероним, поэтому вам нужно использовать: `member_meronyms()`, `part_meronyms()`, `substance_meronyms()`, `member_holonyms()`, `part_holonyms()`, и `substance_holonyms()`."
      ]
    },
    {
      "cell_type": "code",
      "execution_count": 119,
      "metadata": {
        "id": "ZY7W4YP_MI_N"
      },
      "outputs": [],
      "source": [
        "# напишите свой код здесь"
      ]
    },
    {
      "cell_type": "markdown",
      "metadata": {
        "id": "6ZdKM_amMQG1"
      },
      "source": [
        "**7)** Напишите функцию `supergloss(s)` которая принимает в качестве аргумента синсет `s` и возвращает строку, состоящую из конкатенации определения `s` и определений всех гиперонимов и гипонимов `s`"
      ]
    },
    {
      "cell_type": "code",
      "execution_count": 120,
      "metadata": {
        "id": "ZXCUarS2KQuL"
      },
      "outputs": [],
      "source": [
        "# напишите свой код здесь"
      ]
    },
    {
      "cell_type": "markdown",
      "metadata": {
        "id": "TGP3JL2V5YsR"
      },
      "source": [
        "**8)** Напишите функцию `word_freq()`, которая принимает слово и название раздела корпуса Brown  в качестве аргументов и вычисляет частоту слова в этом разделе корпуса"
      ]
    },
    {
      "cell_type": "code",
      "execution_count": 121,
      "metadata": {
        "id": "1skxs09L5dFD"
      },
      "outputs": [],
      "source": [
        "# напишите свой код здесь"
      ]
    },
    {
      "cell_type": "markdown",
      "metadata": {
        "id": "2rJEs3Ud5des"
      },
      "source": [
        "**9)** Определите условное частотное распределение по корпусу `Names`, которое позволит вам увидеть, какие начальные буквы чаще встречаются у мужчин, а какие у женщин.\n",
        "\n"
      ]
    },
    {
      "cell_type": "code",
      "execution_count": 122,
      "metadata": {
        "id": "BGvUDaw45fe0"
      },
      "outputs": [],
      "source": [
        "# напишите свой код здесь"
      ]
    },
    {
      "cell_type": "markdown",
      "metadata": {
        "id": "U74OYFGB5hae"
      },
      "source": [
        "**10)** Найдите появления и контекст для следующего списка текстов и слов\n",
        "\n",
        "*   **текст** `Sense and Sensibility` - **слово** `affection`\n",
        "*   **текст** `book of Genesis` - **слово** `lived`\n",
        "*   **текст** `Inaugural Address Corpus` - **слова** `nation`, `terror`, `god`\n",
        "*   **текст** `NPS Chat Corpus` - **слова** `im`, `ur`, `lol`"
      ]
    },
    {
      "cell_type": "code",
      "execution_count": 123,
      "metadata": {
        "id": "R7c8fZZU5kAW"
      },
      "outputs": [],
      "source": [
        "# напишите свой код здесь"
      ]
    },
    {
      "cell_type": "markdown",
      "metadata": {
        "id": "3cYvVawwAEnx"
      },
      "source": [
        "**11)** Попробуйте сгенерировать текст основываясь на других первоисточниках. Используйте разные random_seed"
      ]
    },
    {
      "cell_type": "code",
      "execution_count": 124,
      "metadata": {
        "id": "mBJUDjEaAVWx"
      },
      "outputs": [],
      "source": [
        "# напишите свой код здесь"
      ]
    }
  ],
  "metadata": {
    "colab": {
      "collapsed_sections": [
        "2pL4TuRigLFQ"
      ],
      "include_colab_link": true,
      "provenance": []
    },
    "kernelspec": {
      "display_name": ".venv",
      "language": "python",
      "name": "python3"
    },
    "language_info": {
      "codemirror_mode": {
        "name": "ipython",
        "version": 3
      },
      "file_extension": ".py",
      "mimetype": "text/x-python",
      "name": "python",
      "nbconvert_exporter": "python",
      "pygments_lexer": "ipython3",
      "version": "3.12.11"
    }
  },
  "nbformat": 4,
  "nbformat_minor": 0
}
