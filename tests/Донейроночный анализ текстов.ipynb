{
 "cells": [
  {
   "cell_type": "markdown",
   "id": "bd2f0c02",
   "metadata": {},
   "source": [
    "Допустим у нас есть следующий текст"
   ]
  },
  {
   "cell_type": "code",
   "execution_count": 2,
   "id": "edf266dc",
   "metadata": {},
   "outputs": [],
   "source": [
    "corpus = [\n",
    "    'Машинное обучение помогает решать задачи машинного обучения, а алгоритмы машинного обучения совершенствуются благодаря методам машинного обучения.',\n",
    "    'Искусственный интеллект изменяет современный мир, потому что искусственный интеллект способен анализировать данные, и искусственный интеллект принимает решения быстрее человека.',\n",
    "    'Нейронные сети используют нейронные связи для обработки информации, при этом глубокие нейронные сети содержат множество слоёв нейронных вычислений.',\n",
    "    'Анализ данных требует качественных данных, ведь специалисты по анализу данных извлекают ценные знания из больших данных для принятия решений.',\n",
    "    'Обработка естественного языка позволяет компьютерам понимать естественный язык, но обработка естественного языка сталкивается с трудностями из-за многозначности слов.',\n",
    "        'Программное обеспечение современных систем включает сложное программное обеспечение для автоматизации, а разработка программного обеспечения требует тестирования программного обеспечения на каждом этапе.',\n",
    "    'Облачные вычисления предоставляют облачные сервисы для хранения информации, причём облачные технологии упрощают доступ к облачным ресурсам из любой точки мира.',\n",
    "    ]"
   ]
  },
  {
   "cell_type": "markdown",
   "id": "907b3562",
   "metadata": {},
   "source": [
    "Получите векторное преобразование методом TfidfVectorizer от scikit-learn (все гиперпараметры оставляем по умолчанию)\n",
    "\n",
    "Ответьте на вопросы\n",
    "Какая размерность получившихся данных ?\n",
    "\n",
    "Оцените максимальное значение в результирующей матрице ?\n",
    "\n",
    "Оцените наименьше ненулевое значение в результирующей матрице ?\n",
    "\n",
    "Порядковый номер слова 'язык' в словаре (.vocabulary_) ?\n",
    "\n",
    "Обратную частоту встречаемости (.idf_) для слова 'автоматизации' ?\n",
    "\n",
    "Обратную частоту встречаемости (.idf_) для слова 'для' ?"
   ]
  },
  {
   "cell_type": "code",
   "execution_count": 3,
   "id": "df931691",
   "metadata": {},
   "outputs": [
    {
     "name": "stdout",
     "output_type": "stream",
     "text": [
      "Размерность: (7, 97)\n",
      "Максимальное значение: 0.74\n",
      "Минимальное ненулевое значение: 0.11\n",
      "Порядковый номер слова 'язык': 95\n",
      "IDF для 'автоматизации': 2.39\n",
      "IDF для 'для': 1.47\n"
     ]
    }
   ],
   "source": [
    "# Импортируем TfidfVectorizer\n",
    "from sklearn.feature_extraction.text import TfidfVectorizer\n",
    "\n",
    "# Создаём объект и преобразуем корпус\n",
    "vectorizer = TfidfVectorizer()\n",
    "X = vectorizer.fit_transform(corpus)\n",
    "\n",
    "# 1. Размерность данных\n",
    "shape = X.shape\n",
    "print('Размерность:', shape)\n",
    "\n",
    "# 2. Максимальное значение в матрице\n",
    "max_value = X.max()\n",
    "print('Максимальное значение:', round(max_value, 2))\n",
    "\n",
    "# 3. Минимальное ненулевое значение\n",
    "import numpy as np\n",
    "min_nonzero = X.data.min()\n",
    "print('Минимальное ненулевое значение:', round(min_nonzero, 2))\n",
    "\n",
    "# 4. Порядковый номер слова 'язык' в словаре\n",
    "idx_yazyk = vectorizer.vocabulary_.get('язык')\n",
    "print(\"Порядковый номер слова 'язык':\", idx_yazyk)\n",
    "\n",
    "# 5. idf для слова 'автоматизации'\n",
    "idx_avtomatizatsii = vectorizer.vocabulary_.get('автоматизации')\n",
    "idf_avtomatizatsii = vectorizer.idf_[idx_avtomatizatsii] if idx_avtomatizatsii is not None else None\n",
    "print(\"IDF для 'автоматизации':\", round(idf_avtomatizatsii, 2))\n",
    "\n",
    "# 6. idf для слова 'для'\n",
    "idx_dlya = vectorizer.vocabulary_.get('для')\n",
    "idf_dlya = vectorizer.idf_[idx_dlya] if idx_dlya is not None else None\n",
    "print(\"IDF для 'для':\", round(idf_dlya, 2))"
   ]
  },
  {
   "cell_type": "markdown",
   "id": "9b369153",
   "metadata": {},
   "source": [
    "У вас есть следующий корпус \n",
    "\n",
    "Many companies adopt cloud computing because it is scalable.\n",
    "\n",
    "\n",
    "Analytics platforms use cloud computing since it is secure.\n",
    "\n",
    "Big data relies on cloud computing, which is used for analytics.\n",
    "\n",
    "Startups choose cloud computing services for flexibility.\n",
    "\n",
    "Enterprises migrate to cloud computing services to support growth.\n",
    "\n",
    "Developers prefer cloud computing services for reliability.\n",
    "\n",
    "Data engineers work with cloud computing platforms for big data.\n",
    "\n",
    "IT teams deploy cloud computing platforms to ensure reliability.\n",
    "\n",
    "Ответьте на ряд вопросов по нему используя частотный анализ (достаточно глазками посмотреть, но можете задействовать nltk)\n",
    "\n",
    "Укажите самое часто встречающееся слово в корпусе:\n",
    "Укажите самую частую биграмму в корпусе:\n",
    "Для слова \"data\" выберите два наиболее вероятных продолжения (выберите 2 из 4):\n",
    "- engineers\n",
    "- relies\n",
    "- is\n",
    "- for\n",
    " \n",
    "Для биграммы \"cloud computing\" выберите два наиболее вероятных следующих слов (выберите 2 из 4):\n",
    "- platforms\n",
    "- since\n",
    "- because\n",
    "- services"
   ]
  },
  {
   "cell_type": "code",
   "execution_count": null,
   "id": "1e3898c0",
   "metadata": {},
   "outputs": [],
   "source": [
    "from collections import Counter\n",
    "import nltk\n",
    "from nltk.util import bigrams\n",
    "\n",
    "nltk.download('punkt_tab')"
   ]
  },
  {
   "cell_type": "code",
   "execution_count": 9,
   "id": "94e29454",
   "metadata": {},
   "outputs": [
    {
     "name": "stdout",
     "output_type": "stream",
     "text": [
      "Самое частое слово: cloud\n",
      "Самая частая биграмма: cloud computing\n",
      "Продолжения для \"data\": [('relies', 1), ('engineers', 1)]\n",
      "Продолжения для \"cloud computing\": [('services', 3), ('platforms', 2)]\n"
     ]
    }
   ],
   "source": [
    "corpus_en = [\n",
    "    \"Many companies adopt cloud computing because it is scalable.\",\n",
    "    \"Analytics platforms use cloud computing since it is secure.\",\n",
    "    \"Big data relies on cloud computing, which is used for analytics.\",\n",
    "    \"Startups choose cloud computing services for flexibility.\",\n",
    "    \"Enterprises migrate to cloud computing services to support growth.\",\n",
    "    \"Developers prefer cloud computing services for reliability.\",\n",
    "    \"Data engineers work with cloud computing platforms for big data.\",\n",
    "    \"IT teams deploy cloud computing platforms to ensure reliability.\"\n",
    "]\n",
    "\n",
    "\n",
    "# Токенизация\n",
    "tokens = []\n",
    "for sent in corpus_en:\n",
    "    tokens.extend(nltk.word_tokenize(sent.lower()))\n",
    "\n",
    "# Частотный анализ слов\n",
    "word_counts = Counter(tokens)\n",
    "most_common_word = word_counts.most_common(1)[0][0]\n",
    "print('Самое частое слово:', most_common_word)\n",
    "\n",
    "# Частотный анализ биграмм\n",
    "bi_tokens = list(bigrams(tokens))\n",
    "bi_counts = Counter(bi_tokens)\n",
    "most_common_bigram = bi_counts.most_common(1)[0][0]\n",
    "print('Самая частая биграмма:', ' '.join(most_common_bigram))\n",
    "\n",
    "# Для слова 'data' наиболее вероятные продолжения\n",
    "data_next = [bi[1] for bi in bi_tokens if bi[0] == 'data']\n",
    "print('Продолжения для \"data\":', Counter(data_next).most_common(2))\n",
    "\n",
    "# Для биграммы 'cloud computing' наиболее вероятные следующие слова\n",
    "cloud_computing_next = []\n",
    "for i in range(len(tokens)-2):\n",
    "    if tokens[i] == 'cloud' and tokens[i+1] == 'computing':\n",
    "        cloud_computing_next.append(tokens[i+2])\n",
    "print('Продолжения для \"cloud computing\":', Counter(cloud_computing_next).most_common(2))"
   ]
  },
  {
   "cell_type": "markdown",
   "id": "ed8c25c9",
   "metadata": {},
   "source": [
    "Оценка n-edit distance \n",
    "Допустим, что \n",
    "\n",
    "ins_cost= 1,\n",
    "del_cost = 1,\n",
    "rep_cost = 2\n",
    "\n",
    "Оцените edit distance между словами \"CAPITALISM\" и \"SOCIALISM\". \n",
    "\n",
    "Оцените edit distance между словами \"СОЦИАЛИЗМ\" и \"КАПИТАЛИЗМ\". \n",
    "\n",
    "Оцените edit distance между словами \"любовь\" и \"ненависть\". \n",
    "\n",
    "Оцените edit distance между словами \"кот\" и \"собака\".\n",
    "\n",
    "Оцените edit distance между словами \"зима\" и \"лето\". \n",
    "\n"
   ]
  },
  {
   "cell_type": "code",
   "execution_count": 6,
   "id": "c9b15c30",
   "metadata": {},
   "outputs": [
    {
     "name": "stdout",
     "output_type": "stream",
     "text": [
      "Edit distance между \"CAPITALISM\" и \"SOCIALISM\": 5\n",
      "Edit distance между \"СОЦИАЛИЗМ\" и \"КАПИТАЛИЗМ\": 7\n",
      "Edit distance между \"любовь\" и \"ненависть\": 11\n",
      "Edit distance между \"кот\" и \"собака\": 7\n",
      "Edit distance между \"зима\" и \"лето\": 8\n"
     ]
    }
   ],
   "source": [
    "def edit_distance(s1, s2, ins_cost=1, del_cost=1, rep_cost=2):\n",
    "    m, n = len(s1), len(s2)\n",
    "    dp = [[0]*(n+1) for _ in range(m+1)]\n",
    "    for i in range(m+1):\n",
    "        dp[i][0] = i * del_cost\n",
    "    for j in range(n+1):\n",
    "        dp[0][j] = j * ins_cost\n",
    "    for i in range(1, m+1):\n",
    "        for j in range(1, n+1):\n",
    "            if s1[i-1] == s2[j-1]:\n",
    "                dp[i][j] = dp[i-1][j-1]\n",
    "            else:\n",
    "                dp[i][j] = min(\n",
    "                    dp[i-1][j] + del_cost,\n",
    "                    dp[i][j-1] + ins_cost,\n",
    "                    dp[i-1][j-1] + rep_cost\n",
    "                )\n",
    "    return dp[m][n]\n",
    "\n",
    "pairs = [\n",
    "    (\"CAPITALISM\", \"SOCIALISM\"),\n",
    "    (\"СОЦИАЛИЗМ\", \"КАПИТАЛИЗМ\"),\n",
    "    (\"любовь\", \"ненависть\"),\n",
    "    (\"кот\", \"собака\"),\n",
    "    (\"зима\", \"лето\")\n",
    "]\n",
    "\n",
    "for a, b in pairs:\n",
    "    dist = edit_distance(a, b, ins_cost=1, del_cost=1, rep_cost=2)\n",
    "    print(f'Edit distance между \"{a}\" и \"{b}\":', dist)"
   ]
  }
 ],
 "metadata": {
  "kernelspec": {
   "display_name": ".venv",
   "language": "python",
   "name": "python3"
  },
  "language_info": {
   "codemirror_mode": {
    "name": "ipython",
    "version": 3
   },
   "file_extension": ".py",
   "mimetype": "text/x-python",
   "name": "python",
   "nbconvert_exporter": "python",
   "pygments_lexer": "ipython3",
   "version": "3.11.9"
  }
 },
 "nbformat": 4,
 "nbformat_minor": 5
}
